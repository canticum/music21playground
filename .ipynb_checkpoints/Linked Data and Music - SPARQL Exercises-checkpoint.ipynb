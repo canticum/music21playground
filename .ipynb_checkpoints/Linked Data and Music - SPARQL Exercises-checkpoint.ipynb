{
 "cells": [
  {
   "cell_type": "markdown",
   "metadata": {},
   "source": [
    "# Linked Data and Music Encodings\n",
    "## SPARQL Exercises"
   ]
  },
  {
   "cell_type": "markdown",
   "metadata": {},
   "source": [
    "This Jupyter Notebook is inspired by Bob DuCharme's description of the approach in his blog entry: \n",
    "- http://www.bobdc.com/blog/jupytersparql/ \n",
    "\n",
    "and the corresponding notebook \n",
    "\n",
    "- https://github.com/bobdc/misc/blob/master/JupyterSPARQL/Jupyter%20and%20SPARQL%20and%20Dort%20or%20Dordrecht.ipynb.\n",
    "\n",
    "It uses the `sparqlkernel` released by Paulo Villegas: https://github.com/paulovn/sparql-kernel."
   ]
  },
  {
   "cell_type": "markdown",
   "metadata": {},
   "source": [
    "## 1. Setup"
   ]
  },
  {
   "cell_type": "markdown",
   "metadata": {},
   "source": [
    "Use some  `magics`from the `sparqlkernel` to set up the endpoint, the query format & output format.\n",
    "The `magics` don't have to be in a separate cell from the actual query, but it is easier to set things up separately. \n",
    "\n",
    "Possible music-related endpoints (alphabetically listed):\n",
    "\n",
    "\n",
    "**DoReMus**\n",
    "- Endpoint: [http://data.doremus.org/sparql]\n",
    "- Website:  [https://www.doremus.org/] \n",
    "\n",
    "\n",
    "**JazzCats**\n",
    "- Endpoint: [http://cdhr-linkeddata.anu.edu.au/jazzcats-sparql/sparql]\n",
    "- Website:  [http://jazzcats.cdhr.anu.edu.au/]\n",
    "\n",
    "\n",
    "**MIDI Linked Data**\n",
    "- Endpoint: [http://virtuoso-midi.amp.ops.labs.vu.nl/sparql]\n",
    "- Website:  [https://midi-ld.github.io/]\n",
    "\n",
    "\n",
    "**MusicOWL**\n",
    "- Endpoint: [http://linkeddata.uni-muenster.de:7200]\n",
    "- Website:  [http://linkeddata.uni-muenster.de/musicportal/]\n",
    "\n",
    "\n",
    "**RISM**\n",
    "- Endpoint: [https://data.rism.info/sparql]\n",
    "- Website:  [https://opac.rism.info/]\n",
    "\n",
    "\n",
    "**SLICKMEM**\n",
    "- Endpoint: [https://blazegraph.linkedmusic.org/blazegraph/namespace/SLICKMEM/sparql] \n",
    "- Website:  [https://slickmem.linkedmusic.org]\n"
   ]
  },
  {
   "cell_type": "code",
   "execution_count": 64,
   "metadata": {},
   "outputs": [
    {
     "data": {
      "text/html": [
       "<div class=\"krn-spql\"><div class=\"magic\">Endpoint set to: http://cdhr-linkeddata.anu.edu.au/jazzcats-sparql/sparql</div><div class=\"magic\">Return format: ANY</div><div class=\"magic\">Display: table</div></div>"
      ],
      "text/plain": [
       "Endpoint set to: http://cdhr-linkeddata.anu.edu.au/jazzcats-sparql/sparql\n",
       "Return format: ANY\n",
       "Display: table\n"
      ]
     },
     "metadata": {},
     "output_type": "display_data"
    }
   ],
   "source": [
    "# Set the SPARQL endpoint\n",
    "%endpoint http://cdhr-linkeddata.anu.edu.au/jazzcats-sparql/sparql\n",
    "\n",
    "# Set the data format requested to the SPARQL endpoint (%format JSON | XML | N3 | any | default)\n",
    "%format any\n",
    "\n",
    "# Set the output rendering shape (%display raw | table [withtypes] | diagram [svg|png] [withliterals])\n",
    "%display table"
   ]
  },
  {
   "cell_type": "markdown",
   "metadata": {},
   "source": [
    "Short test if the selected endpoint is running and we are connecting to it properly.\n",
    "\n",
    "**IMPORTANT: Use the `LIMIT` modifier in all of the following queries to avoid stressing the endpoint too much.**"
   ]
  },
  {
   "cell_type": "code",
   "execution_count": 20,
   "metadata": {},
   "outputs": [
    {
     "data": {
      "text/html": [
       "<div class=\"krn-spql\"><table><tr class=hdr><th>s</th>\n",
       "<th>p</th>\n",
       "<th>o</th></tr><tr class=odd><td class=val><a href=\"http://www.openlinksw.com/virtrdf-data-formats#default-iid\" target=\"_other\">http://www.openlinksw.com/virtrdf-data-formats#default-iid</a></td>\n",
       "<td class=val><a href=\"http://www.w3.org/1999/02/22-rdf-syntax-ns#type\" target=\"_other\">http://www.w3.org/1999/02/22-rdf-syntax-ns#type</a></td>\n",
       "<td class=val><a href=\"http://www.openlinksw.com/schemas/virtrdf#QuadMapFormat\" target=\"_other\">http://www.openlinksw.com/schemas/virtrdf#QuadMapFormat</a></td></tr><tr class=even><td class=val><a href=\"http://www.openlinksw.com/virtrdf-data-formats#default-iid-nullable\" target=\"_other\">http://www.openlinksw.com/virtrdf-data-formats#default-iid-nullable</a></td>\n",
       "<td class=val><a href=\"http://www.w3.org/1999/02/22-rdf-syntax-ns#type\" target=\"_other\">http://www.w3.org/1999/02/22-rdf-syntax-ns#type</a></td>\n",
       "<td class=val><a href=\"http://www.openlinksw.com/schemas/virtrdf#QuadMapFormat\" target=\"_other\">http://www.openlinksw.com/schemas/virtrdf#QuadMapFormat</a></td></tr><tr class=odd><td class=val><a href=\"http://www.openlinksw.com/virtrdf-data-formats#default-iid-nonblank\" target=\"_other\">http://www.openlinksw.com/virtrdf-data-formats#default-iid-nonblank</a></td>\n",
       "<td class=val><a href=\"http://www.w3.org/1999/02/22-rdf-syntax-ns#type\" target=\"_other\">http://www.w3.org/1999/02/22-rdf-syntax-ns#type</a></td>\n",
       "<td class=val><a href=\"http://www.openlinksw.com/schemas/virtrdf#QuadMapFormat\" target=\"_other\">http://www.openlinksw.com/schemas/virtrdf#QuadMapFormat</a></td></tr><tr class=even><td class=val><a href=\"http://www.openlinksw.com/virtrdf-data-formats#default-iid-nonblank-nullable\" target=\"_other\">http://www.openlinksw.com/virtrdf-data-formats#default-iid-nonblank-nullable</a></td>\n",
       "<td class=val><a href=\"http://www.w3.org/1999/02/22-rdf-syntax-ns#type\" target=\"_other\">http://www.w3.org/1999/02/22-rdf-syntax-ns#type</a></td>\n",
       "<td class=val><a href=\"http://www.openlinksw.com/schemas/virtrdf#QuadMapFormat\" target=\"_other\">http://www.openlinksw.com/schemas/virtrdf#QuadMapFormat</a></td></tr><tr class=odd><td class=val><a href=\"http://www.openlinksw.com/virtrdf-data-formats#default\" target=\"_other\">http://www.openlinksw.com/virtrdf-data-formats#default</a></td>\n",
       "<td class=val><a href=\"http://www.w3.org/1999/02/22-rdf-syntax-ns#type\" target=\"_other\">http://www.w3.org/1999/02/22-rdf-syntax-ns#type</a></td>\n",
       "<td class=val><a href=\"http://www.openlinksw.com/schemas/virtrdf#QuadMapFormat\" target=\"_other\">http://www.openlinksw.com/schemas/virtrdf#QuadMapFormat</a></td></tr></table><div class=\"tinfo\">Total: 5, Shown: 5</div></div>"
      ]
     },
     "metadata": {},
     "output_type": "display_data"
    }
   ],
   "source": [
    "SELECT * WHERE {\n",
    "   ?s ?p ?o . \n",
    " }\n",
    "LIMIT 5"
   ]
  },
  {
   "cell_type": "markdown",
   "metadata": {},
   "source": [
    "## 2. SPARQL Queries"
   ]
  },
  {
   "cell_type": "markdown",
   "metadata": {},
   "source": [
    "### 2.1 Find all Concepts/Classes of the dataset"
   ]
  },
  {
   "cell_type": "markdown",
   "metadata": {},
   "source": [
    "#### Explanation:\n",
    "\n",
    "General information about and specification of the SPARQL Query language can be found here: https://www.w3.org/TR/sparql11-query/ \n",
    "\n",
    "`SELECT`    = one of SPARQL's query forms; returns all, or a subset of, the variables bound in a query pattern match.\n",
    "\n",
    "`DISTINCT`  = ensure solutions in the sequence are unique, i.e. duplicates are merged into one result\n",
    "\n",
    "`*`         = shortcut to return all bound variables (`?xyz`) as results, here the results bound in `?Concept`\n",
    "\n",
    "`WHERE {…}` = so-called WHERE-clause, basic graph pattern to match against the data graph\n",
    "\n",
    "`[]`        = blank node, see [4.1.4 Syntax for Blank Nodes](https://www.w3.org/TR/sparql11-query/#QSynBlankNodes)\n",
    "\n",
    "`a`         = `rdf:type`\n",
    "\n",
    "`?Concept` = random variable name for any URI that matches the given pattern in the object position of a triple.\n",
    "\n",
    "`LIMIT`     = modifier to limit the result number (important!)"
   ]
  },
  {
   "cell_type": "code",
   "execution_count": 21,
   "metadata": {},
   "outputs": [
    {
     "data": {
      "text/html": [
       "<div class=\"krn-spql\"><table><tr class=hdr><th>Concept</th></tr><tr class=odd><td class=val><a href=\"http://www.openlinksw.com/schemas/virtrdf#QuadMapFormat\" target=\"_other\">http://www.openlinksw.com/schemas/virtrdf#QuadMapFormat</a></td></tr><tr class=even><td class=val><a href=\"http://www.openlinksw.com/schemas/virtrdf#QuadStorage\" target=\"_other\">http://www.openlinksw.com/schemas/virtrdf#QuadStorage</a></td></tr><tr class=odd><td class=val><a href=\"http://www.openlinksw.com/schemas/virtrdf#array-of-QuadMap\" target=\"_other\">http://www.openlinksw.com/schemas/virtrdf#array-of-QuadMap</a></td></tr><tr class=even><td class=val><a href=\"http://www.openlinksw.com/schemas/virtrdf#QuadMap\" target=\"_other\">http://www.openlinksw.com/schemas/virtrdf#QuadMap</a></td></tr><tr class=odd><td class=val><a href=\"http://www.openlinksw.com/schemas/virtrdf#array-of-QuadMapFormat\" target=\"_other\">http://www.openlinksw.com/schemas/virtrdf#array-of-QuadMapFormat</a></td></tr><tr class=even><td class=val><a href=\"http://www.openlinksw.com/schemas/virtrdf#QuadMapValue\" target=\"_other\">http://www.openlinksw.com/schemas/virtrdf#QuadMapValue</a></td></tr><tr class=odd><td class=val><a href=\"http://www.openlinksw.com/schemas/virtrdf#array-of-QuadMapATable\" target=\"_other\">http://www.openlinksw.com/schemas/virtrdf#array-of-QuadMapATable</a></td></tr><tr class=even><td class=val><a href=\"http://www.openlinksw.com/schemas/virtrdf#array-of-QuadMapColumn\" target=\"_other\">http://www.openlinksw.com/schemas/virtrdf#array-of-QuadMapColumn</a></td></tr><tr class=odd><td class=val><a href=\"http://www.openlinksw.com/schemas/virtrdf#QuadMapColumn\" target=\"_other\">http://www.openlinksw.com/schemas/virtrdf#QuadMapColumn</a></td></tr><tr class=even><td class=val><a href=\"http://www.openlinksw.com/schemas/virtrdf#QuadMapFText\" target=\"_other\">http://www.openlinksw.com/schemas/virtrdf#QuadMapFText</a></td></tr><tr class=odd><td class=val><a href=\"http://www.openlinksw.com/schemas/virtrdf#QuadMapATable\" target=\"_other\">http://www.openlinksw.com/schemas/virtrdf#QuadMapATable</a></td></tr><tr class=even><td class=val><a href=\"http://www.openlinksw.com/schemas/virtrdf#array-of-string\" target=\"_other\">http://www.openlinksw.com/schemas/virtrdf#array-of-string</a></td></tr><tr class=odd><td class=val><a href=\"http://www.w3.org/1999/02/22-rdf-syntax-ns#Property\" target=\"_other\">http://www.w3.org/1999/02/22-rdf-syntax-ns#Property</a></td></tr><tr class=even><td class=val><a href=\"http://www.w3.org/2000/01/rdf-schema#Class\" target=\"_other\">http://www.w3.org/2000/01/rdf-schema#Class</a></td></tr><tr class=odd><td class=val><a href=\"http://www.w3.org/ns/sparql-service-description#Service\" target=\"_other\">http://www.w3.org/ns/sparql-service-description#Service</a></td></tr><tr class=even><td class=val><a href=\"http://www.w3.org/2002/07/owl#AnnotationProperty\" target=\"_other\">http://www.w3.org/2002/07/owl#AnnotationProperty</a></td></tr><tr class=odd><td class=val><a href=\"http://www.w3.org/2002/07/owl#Class\" target=\"_other\">http://www.w3.org/2002/07/owl#Class</a></td></tr><tr class=even><td class=val><a href=\"http://www.w3.org/2002/07/owl#Ontology\" target=\"_other\">http://www.w3.org/2002/07/owl#Ontology</a></td></tr><tr class=odd><td class=val><a href=\"http://www.w3.org/2002/07/owl#OntologyProperty\" target=\"_other\">http://www.w3.org/2002/07/owl#OntologyProperty</a></td></tr><tr class=even><td class=val><a href=\"http://jazzcats.cdhr.anu.edu.au/data/vocab/beats\" target=\"_other\">http://jazzcats.cdhr.anu.edu.au/data/vocab/beats</a></td></tr></table><div class=\"tinfo\">Total: 35, Shown: 20</div></div>"
      ]
     },
     "metadata": {},
     "output_type": "display_data"
    }
   ],
   "source": [
    "SELECT DISTINCT * \n",
    "WHERE {                 \n",
    "\n",
    "    [] a ?Concept .     \n",
    "    \n",
    "}\n",
    "LIMIT 50"
   ]
  },
  {
   "cell_type": "markdown",
   "metadata": {},
   "source": [
    "### 2.1.1 Get the number of these concepts/classes in the dataset"
   ]
  },
  {
   "cell_type": "markdown",
   "metadata": {},
   "source": [
    "#### Explanation\n",
    "`(COUNT(*) AS ?n)` = bind the number of results of all bound variables to the variable `?n`\n",
    "\n",
    "`GROUP BY`         = group the results by the given value/variable\n",
    "\n",
    "`ORDER BY DESC`    = sort the results in descending order by the given value/variable (leave out `DESC` or use `ASC` for ascending order"
   ]
  },
  {
   "cell_type": "code",
   "execution_count": 22,
   "metadata": {},
   "outputs": [
    {
     "data": {
      "text/html": [
       "<div class=\"krn-spql\"><table><tr class=hdr><th>Concept</th>\n",
       "<th>n</th></tr><tr class=odd><td class=val><a href=\"http://xmlns.com/foaf/0.1/Person\" target=\"_other\">http://xmlns.com/foaf/0.1/Person</a></td>\n",
       "<td class=val>9348</td></tr><tr class=even><td class=val><a href=\"http://jazzcats.cdhr.anu.edu.au/data/vocab/melody\" target=\"_other\">http://jazzcats.cdhr.anu.edu.au/data/vocab/melody</a></td>\n",
       "<td class=val>2885</td></tr><tr class=odd><td class=val><a href=\"http://jazzcats.cdhr.anu.edu.au/data/vocab/beats\" target=\"_other\">http://jazzcats.cdhr.anu.edu.au/data/vocab/beats</a></td>\n",
       "<td class=val>2342</td></tr><tr class=even><td class=val><a href=\"http://jazzcats.cdhr.anu.edu.au/data/vocab/sections\" target=\"_other\">http://jazzcats.cdhr.anu.edu.au/data/vocab/sections</a></td>\n",
       "<td class=val>839</td></tr><tr class=odd><td class=val><a href=\"http://purl.org/ontology/mo/Recording\" target=\"_other\">http://purl.org/ontology/mo/Recording</a></td>\n",
       "<td class=val>691</td></tr><tr class=even><td class=val><a href=\"http://purl.org/ontology/mo/Performance\" target=\"_other\">http://purl.org/ontology/mo/Performance</a></td>\n",
       "<td class=val>231</td></tr><tr class=odd><td class=val><a href=\"http://purl.org/ontology/mo/Record\" target=\"_other\">http://purl.org/ontology/mo/Record</a></td>\n",
       "<td class=val>231</td></tr><tr class=even><td class=val><a href=\"http://purl.org/ontology/mo/Sound\" target=\"_other\">http://purl.org/ontology/mo/Sound</a></td>\n",
       "<td class=val>231</td></tr><tr class=odd><td class=val><a href=\"http://www.w3.org/2006/time#DateTimeInterval\" target=\"_other\">http://www.w3.org/2006/time#DateTimeInterval</a></td>\n",
       "<td class=val>221</td></tr><tr class=even><td class=val><a href=\"http://www.openlinksw.com/schemas/virtrdf#QuadMapFormat\" target=\"_other\">http://www.openlinksw.com/schemas/virtrdf#QuadMapFormat</a></td>\n",
       "<td class=val>130</td></tr><tr class=odd><td class=val><a href=\"http://www.openlinksw.com/schemas/virtrdf#array-of-QuadMapFormat\" target=\"_other\">http://www.openlinksw.com/schemas/virtrdf#array-of-QuadMapFormat</a></td>\n",
       "<td class=val>98</td></tr><tr class=even><td class=val><a href=\"http://purl.org/ontology/mo/Instrument\" target=\"_other\">http://purl.org/ontology/mo/Instrument</a></td>\n",
       "<td class=val>62</td></tr><tr class=odd><td class=val><a href=\"http://www.w3.org/2003/01/geo/wgs84_pos#SpatialThing\" target=\"_other\">http://www.w3.org/2003/01/geo/wgs84_pos#SpatialThing</a></td>\n",
       "<td class=val>58</td></tr><tr class=even><td class=val><a href=\"http://jazzcats.cdhr.anu.edu.au/data/vocab/melody_type\" target=\"_other\">http://jazzcats.cdhr.anu.edu.au/data/vocab/melody_type</a></td>\n",
       "<td class=val>42</td></tr><tr class=odd><td class=val><a href=\"http://jazzcats.cdhr.anu.edu.au/data/vocab/solo_info\" target=\"_other\">http://jazzcats.cdhr.anu.edu.au/data/vocab/solo_info</a></td>\n",
       "<td class=val>38</td></tr><tr class=even><td class=val><a href=\"http://www.w3.org/1999/02/22-rdf-syntax-ns#Property\" target=\"_other\">http://www.w3.org/1999/02/22-rdf-syntax-ns#Property</a></td>\n",
       "<td class=val>27</td></tr><tr class=odd><td class=val><a href=\"http://www.w3.org/2000/01/rdf-schema#Class\" target=\"_other\">http://www.w3.org/2000/01/rdf-schema#Class</a></td>\n",
       "<td class=val>15</td></tr><tr class=even><td class=val><a href=\"http://www.w3.org/2000/01/rdf-schema#Property\" target=\"_other\">http://www.w3.org/2000/01/rdf-schema#Property</a></td>\n",
       "<td class=val>8</td></tr><tr class=odd><td class=val><a href=\"http://www.w3.org/2002/07/owl#Class\" target=\"_other\">http://www.w3.org/2002/07/owl#Class</a></td>\n",
       "<td class=val>8</td></tr><tr class=even><td class=val><a href=\"http://www.openlinksw.com/schemas/virtrdf#QuadMapValue\" target=\"_other\">http://www.openlinksw.com/schemas/virtrdf#QuadMapValue</a></td>\n",
       "<td class=val>8</td></tr></table><div class=\"tinfo\">Total: 35, Shown: 20</div></div>"
      ]
     },
     "metadata": {},
     "output_type": "display_data"
    }
   ],
   "source": [
    "SELECT DISTINCT ?Concept (COUNT(*) AS ?n) \n",
    "WHERE {\n",
    "\n",
    "    [] a ?Concept .\n",
    "\n",
    "}\n",
    "GROUP BY ?Concept\n",
    "ORDER BY DESC(?n)\n",
    "LIMIT 50"
   ]
  },
  {
   "cell_type": "markdown",
   "metadata": {},
   "source": [
    "### 2.1.2 Get the number of these concepts/classes in the dataset plus a sample of every class"
   ]
  },
  {
   "cell_type": "markdown",
   "metadata": {},
   "source": [
    "#### Explanation\n",
    "\n",
    "see also: https://twitter.com/kidehen/status/1129143936839294976 \n",
    "\n",
    "`(SAMPLE(?s) AS ?sample)` = retrieve one random sample of the result set for the variable `?s` and bind the sample to the variable `?sample`\n",
    "\n",
    "`COUNT(1)`                = equivalent of `COUNT(*)`\n",
    "\n",
    "`?s`                      = random variable name for any URI that matches the given pattern in the subject position of a triple\n",
    "\n",
    "`FILTER(isIri(?s))`       = filter out only those results for the variable `?s` that are an IRI"
   ]
  },
  {
   "cell_type": "code",
   "execution_count": 24,
   "metadata": {},
   "outputs": [
    {
     "data": {
      "text/html": [
       "<div class=\"krn-spql\"><table><tr class=hdr><th>sample</th>\n",
       "<th>n</th>\n",
       "<th>entityType</th></tr><tr class=odd><td class=val><a href=\"http://dbpedia.org/resource/Abbey_Lincoln\" target=\"_other\">http://dbpedia.org/resource/Abbey_Lincoln</a></td>\n",
       "<td class=val>9348</td>\n",
       "<td class=val><a href=\"http://xmlns.com/foaf/0.1/Person\" target=\"_other\">http://xmlns.com/foaf/0.1/Person</a></td></tr><tr class=even><td class=val><a href=\"http://jazzcats.cdhr.anu.edu.au/data/melody/11912\" target=\"_other\">http://jazzcats.cdhr.anu.edu.au/data/melody/11912</a></td>\n",
       "<td class=val>2885</td>\n",
       "<td class=val><a href=\"http://jazzcats.cdhr.anu.edu.au/data/vocab/melody\" target=\"_other\">http://jazzcats.cdhr.anu.edu.au/data/vocab/melody</a></td></tr><tr class=odd><td class=val><a href=\"http://jazzcats.cdhr.anu.edu.au/data/beats/19650\" target=\"_other\">http://jazzcats.cdhr.anu.edu.au/data/beats/19650</a></td>\n",
       "<td class=val>2342</td>\n",
       "<td class=val><a href=\"http://jazzcats.cdhr.anu.edu.au/data/vocab/beats\" target=\"_other\">http://jazzcats.cdhr.anu.edu.au/data/vocab/beats</a></td></tr><tr class=even><td class=val><a href=\"http://jazzcats.cdhr.anu.edu.au/data/sections/21428\" target=\"_other\">http://jazzcats.cdhr.anu.edu.au/data/sections/21428</a></td>\n",
       "<td class=val>839</td>\n",
       "<td class=val><a href=\"http://jazzcats.cdhr.anu.edu.au/data/vocab/sections\" target=\"_other\">http://jazzcats.cdhr.anu.edu.au/data/vocab/sections</a></td></tr><tr class=odd><td class=val><a href=\"http://jazzcats.cdhr.anu.edu.au/data/recording/02c86ae8-a6a1-461c-b970-176ecbb7ef38\" target=\"_other\">http://jazzcats.cdhr.anu.edu.au/data/recording/02c86ae8-a6a1-461c-b970-176ecbb7ef38</a></td>\n",
       "<td class=val>691</td>\n",
       "<td class=val><a href=\"http://purl.org/ontology/mo/Recording\" target=\"_other\">http://purl.org/ontology/mo/Recording</a></td></tr><tr class=even><td class=val><a href=\"http://jazzcats.cdhr.anu.edu.au/data/sound/47b12e9d-8b23-4461-8c5e-5e088ec8e408\" target=\"_other\">http://jazzcats.cdhr.anu.edu.au/data/sound/47b12e9d-8b23-4461-8c5e-5e088ec8e408</a></td>\n",
       "<td class=val>231</td>\n",
       "<td class=val><a href=\"http://purl.org/ontology/mo/Sound\" target=\"_other\">http://purl.org/ontology/mo/Sound</a></td></tr><tr class=odd><td class=val><a href=\"http://jazzcats.cdhr.anu.edu.au/data/performance/47b12e9d-8b23-4461-8c5e-5e088ec8e408\" target=\"_other\">http://jazzcats.cdhr.anu.edu.au/data/performance/47b12e9d-8b23-4461-8c5e-5e088ec8e408</a></td>\n",
       "<td class=val>231</td>\n",
       "<td class=val><a href=\"http://purl.org/ontology/mo/Performance\" target=\"_other\">http://purl.org/ontology/mo/Performance</a></td></tr><tr class=even><td class=val><a href=\"http://jazzcats.cdhr.anu.edu.au/data/record//47b12e9d-8b23-4461-8c5e-5e088ec8e408\" target=\"_other\">http://jazzcats.cdhr.anu.edu.au/data/record//47b12e9d-8b23-4461-8c5e-5e088ec8e408</a></td>\n",
       "<td class=val>231</td>\n",
       "<td class=val><a href=\"http://purl.org/ontology/mo/Record\" target=\"_other\">http://purl.org/ontology/mo/Record</a></td></tr><tr class=odd><td class=val><a href=\"http://jazzcats.cdhr.anu.edu.au/1/01/93\" target=\"_other\">http://jazzcats.cdhr.anu.edu.au/1/01/93</a></td>\n",
       "<td class=val>221</td>\n",
       "<td class=val><a href=\"http://www.w3.org/2006/time#DateTimeInterval\" target=\"_other\">http://www.w3.org/2006/time#DateTimeInterval</a></td></tr><tr class=even><td class=val><a href=\"http://www.openlinksw.com/virtrdf-data-formats#default-iid\" target=\"_other\">http://www.openlinksw.com/virtrdf-data-formats#default-iid</a></td>\n",
       "<td class=val>130</td>\n",
       "<td class=val><a href=\"http://www.openlinksw.com/schemas/virtrdf#QuadMapFormat\" target=\"_other\">http://www.openlinksw.com/schemas/virtrdf#QuadMapFormat</a></td></tr><tr class=odd><td class=val><a href=\"http://www.openlinksw.com/virtrdf-data-formats#default-iid-SuperFormats\" target=\"_other\">http://www.openlinksw.com/virtrdf-data-formats#default-iid-SuperFormats</a></td>\n",
       "<td class=val>98</td>\n",
       "<td class=val><a href=\"http://www.openlinksw.com/schemas/virtrdf#array-of-QuadMapFormat\" target=\"_other\">http://www.openlinksw.com/schemas/virtrdf#array-of-QuadMapFormat</a></td></tr><tr class=even><td class=val><a href=\"http://jazzcats.cdhr.anu.edu.au/data/instrument/alto_saxophone\" target=\"_other\">http://jazzcats.cdhr.anu.edu.au/data/instrument/alto_saxophone</a></td>\n",
       "<td class=val>62</td>\n",
       "<td class=val><a href=\"http://purl.org/ontology/mo/Instrument\" target=\"_other\">http://purl.org/ontology/mo/Instrument</a></td></tr><tr class=odd><td class=val><a href=\"http://www.wikidata.org/wiki/Q5123800\" target=\"_other\">http://www.wikidata.org/wiki/Q5123800</a></td>\n",
       "<td class=val>58</td>\n",
       "<td class=val><a href=\"http://www.w3.org/2003/01/geo/wgs84_pos#SpatialThing\" target=\"_other\">http://www.w3.org/2003/01/geo/wgs84_pos#SpatialThing</a></td></tr><tr class=even><td class=val><a href=\"http://jazzcats.cdhr.anu.edu.au/data/melody_type/35\" target=\"_other\">http://jazzcats.cdhr.anu.edu.au/data/melody_type/35</a></td>\n",
       "<td class=val>42</td>\n",
       "<td class=val><a href=\"http://jazzcats.cdhr.anu.edu.au/data/vocab/melody_type\" target=\"_other\">http://jazzcats.cdhr.anu.edu.au/data/vocab/melody_type</a></td></tr><tr class=odd><td class=val><a href=\"http://jazzcats.cdhr.anu.edu.au/data/solo_info/257\" target=\"_other\">http://jazzcats.cdhr.anu.edu.au/data/solo_info/257</a></td>\n",
       "<td class=val>38</td>\n",
       "<td class=val><a href=\"http://jazzcats.cdhr.anu.edu.au/data/vocab/solo_info\" target=\"_other\">http://jazzcats.cdhr.anu.edu.au/data/vocab/solo_info</a></td></tr><tr class=even><td class=val><a href=\"http://www.w3.org/2002/07/owl#equivalentClass\" target=\"_other\">http://www.w3.org/2002/07/owl#equivalentClass</a></td>\n",
       "<td class=val>27</td>\n",
       "<td class=val><a href=\"http://www.w3.org/1999/02/22-rdf-syntax-ns#Property\" target=\"_other\">http://www.w3.org/1999/02/22-rdf-syntax-ns#Property</a></td></tr><tr class=odd><td class=val><a href=\"http://www.w3.org/2002/07/owl#InverseFunctionalProperty\" target=\"_other\">http://www.w3.org/2002/07/owl#InverseFunctionalProperty</a></td>\n",
       "<td class=val>15</td>\n",
       "<td class=val><a href=\"http://www.w3.org/2000/01/rdf-schema#Class\" target=\"_other\">http://www.w3.org/2000/01/rdf-schema#Class</a></td></tr><tr class=even><td class=val><a href=\"http://www.openlinksw.com/schemas/virtrdf#DefaultQuadMap-G-cols\" target=\"_other\">http://www.openlinksw.com/schemas/virtrdf#DefaultQuadMap-G-cols</a></td>\n",
       "<td class=val>8</td>\n",
       "<td class=val><a href=\"http://www.openlinksw.com/schemas/virtrdf#array-of-QuadMapColumn\" target=\"_other\">http://www.openlinksw.com/schemas/virtrdf#array-of-QuadMapColumn</a></td></tr><tr class=odd><td class=val><a href=\"http://schema.org/lyricist\" target=\"_other\">http://schema.org/lyricist</a></td>\n",
       "<td class=val>8</td>\n",
       "<td class=val><a href=\"http://www.w3.org/2000/01/rdf-schema#Property\" target=\"_other\">http://www.w3.org/2000/01/rdf-schema#Property</a></td></tr><tr class=even><td class=val><a href=\"http://www.openlinksw.com/schemas/virtrdf#DefaultQuadMap-G-col-G\" target=\"_other\">http://www.openlinksw.com/schemas/virtrdf#DefaultQuadMap-G-col-G</a></td>\n",
       "<td class=val>8</td>\n",
       "<td class=val><a href=\"http://www.openlinksw.com/schemas/virtrdf#QuadMapColumn\" target=\"_other\">http://www.openlinksw.com/schemas/virtrdf#QuadMapColumn</a></td></tr></table><div class=\"tinfo\">Total: 35, Shown: 20</div></div>"
      ]
     },
     "metadata": {},
     "output_type": "display_data"
    }
   ],
   "source": [
    "SELECT (SAMPLE(?s) AS ?sample) (COUNT(1) AS ?n) (?Concept AS ?entityType) \n",
    "WHERE {\n",
    "\n",
    "    ?s a ?Concept .\n",
    "    FILTER(isIri(?s)) .\n",
    "}\n",
    "GROUP BY ?Concept\n",
    "ORDER BY DESC(?n)\n",
    "LIMIT 50"
   ]
  },
  {
   "cell_type": "markdown",
   "metadata": {},
   "source": [
    "### 2.2 Find all persons of the dataset"
   ]
  },
  {
   "cell_type": "markdown",
   "metadata": {},
   "source": [
    "Given there are any persons in the dataset at all, make sure that you use the correct entity type when you search for persons. For an overview of the entity types that are used in the dataset see 2.1.2.\n",
    "\n",
    "#### Explanation:\n",
    "\n",
    "`PREFIX foaf: <http://xmlns.com/foaf/0.1/>` = shortcut prefix for the [FOAF](http://xmlns.com/foaf/spec/) vocabulary and namespace\n",
    "\n",
    "`SELECT DISTINCT ?s` = return all unique values bound in `?s` as results\n",
    "\n",
    "`foaf:Person`        = concept of Person from the [FOAF](http://xmlns.com/foaf/spec/) vocabulary (replace with the corresponding Person concept according to your dataset)"
   ]
  },
  {
   "cell_type": "code",
   "execution_count": 28,
   "metadata": {},
   "outputs": [
    {
     "data": {
      "text/html": [
       "<div class=\"krn-spql\"><table><tr class=hdr><th>s</th></tr><tr class=odd><td class=val><a href=\"http://dbpedia.org/resource/Abbey_Lincoln\" target=\"_other\">http://dbpedia.org/resource/Abbey_Lincoln</a></td></tr><tr class=even><td class=val><a href=\"http://dbpedia.org/resource/Abdullah_Ibrahim\" target=\"_other\">http://dbpedia.org/resource/Abdullah_Ibrahim</a></td></tr><tr class=odd><td class=val><a href=\"http://dbpedia.org/resource/Adele_Girard\" target=\"_other\">http://dbpedia.org/resource/Adele_Girard</a></td></tr><tr class=even><td class=val><a href=\"http://dbpedia.org/resource/Ahmad_Jamal\" target=\"_other\">http://dbpedia.org/resource/Ahmad_Jamal</a></td></tr><tr class=odd><td class=val><a href=\"http://dbpedia.org/resource/Al_Casey_(jazz_guitarist)\" target=\"_other\">http://dbpedia.org/resource/Al_Casey_(jazz_guitarist)</a></td></tr><tr class=even><td class=val><a href=\"http://dbpedia.org/resource/Al_Cohn\" target=\"_other\">http://dbpedia.org/resource/Al_Cohn</a></td></tr><tr class=odd><td class=val><a href=\"http://dbpedia.org/resource/Al_Foster\" target=\"_other\">http://dbpedia.org/resource/Al_Foster</a></td></tr><tr class=even><td class=val><a href=\"http://dbpedia.org/resource/Al_Grey\" target=\"_other\">http://dbpedia.org/resource/Al_Grey</a></td></tr><tr class=odd><td class=val><a href=\"http://dbpedia.org/resource/Al_Haig\" target=\"_other\">http://dbpedia.org/resource/Al_Haig</a></td></tr><tr class=even><td class=val><a href=\"http://dbpedia.org/resource/Al_Hall_(musician)\" target=\"_other\">http://dbpedia.org/resource/Al_Hall_(musician)</a></td></tr><tr class=odd><td class=val><a href=\"http://dbpedia.org/resource/Al_Harewood\" target=\"_other\">http://dbpedia.org/resource/Al_Harewood</a></td></tr><tr class=even><td class=val><a href=\"http://dbpedia.org/resource/Al_Hibbler\" target=\"_other\">http://dbpedia.org/resource/Al_Hibbler</a></td></tr><tr class=odd><td class=val><a href=\"http://dbpedia.org/resource/Al_Jolson\" target=\"_other\">http://dbpedia.org/resource/Al_Jolson</a></td></tr><tr class=even><td class=val><a href=\"http://dbpedia.org/resource/Al_McKibbon\" target=\"_other\">http://dbpedia.org/resource/Al_McKibbon</a></td></tr><tr class=odd><td class=val><a href=\"http://dbpedia.org/resource/Al_Morgan_(musician)\" target=\"_other\">http://dbpedia.org/resource/Al_Morgan_(musician)</a></td></tr><tr class=even><td class=val><a href=\"http://dbpedia.org/resource/Al_Tinney\" target=\"_other\">http://dbpedia.org/resource/Al_Tinney</a></td></tr><tr class=odd><td class=val><a href=\"http://dbpedia.org/resource/Alan_Broadbent\" target=\"_other\">http://dbpedia.org/resource/Alan_Broadbent</a></td></tr><tr class=even><td class=val><a href=\"http://dbpedia.org/resource/Alan_Dawson\" target=\"_other\">http://dbpedia.org/resource/Alan_Dawson</a></td></tr><tr class=odd><td class=val><a href=\"http://dbpedia.org/resource/Albert_Ayler\" target=\"_other\">http://dbpedia.org/resource/Albert_Ayler</a></td></tr><tr class=even><td class=val><a href=\"http://dbpedia.org/resource/Albert_Collins\" target=\"_other\">http://dbpedia.org/resource/Albert_Collins</a></td></tr></table><div class=\"tinfo\">Total: 50, Shown: 20</div></div>"
      ]
     },
     "metadata": {},
     "output_type": "display_data"
    }
   ],
   "source": [
    "PREFIX foaf: <http://xmlns.com/foaf/0.1/>\n",
    "\n",
    "SELECT DISTINCT ?s \n",
    "WHERE {\n",
    "    \n",
    "    ?s a foaf:Person .\n",
    "} \n",
    "LIMIT 50"
   ]
  },
  {
   "cell_type": "markdown",
   "metadata": {},
   "source": [
    "### 2.2.1 Count all persons in the dataset"
   ]
  },
  {
   "cell_type": "markdown",
   "metadata": {},
   "source": [
    "Given there are any persons in the dataset at all, make sure that you use the correct entity type when you search for persons. For an overview of the entity types that are used in the dataset see 2.1.2.\n",
    "\n",
    "#### Explanation:\n",
    "\n",
    "see 2.1.1\n",
    "\n",
    "`BIND(foaf:Person as ?o )` = bind `foaf:Person` to the variable `?o`"
   ]
  },
  {
   "cell_type": "code",
   "execution_count": 32,
   "metadata": {},
   "outputs": [
    {
     "data": {
      "text/html": [
       "<div class=\"krn-spql\"><table><tr class=hdr><th>o</th>\n",
       "<th>sCount</th></tr><tr class=odd><td class=val><a href=\"http://xmlns.com/foaf/0.1/Person\" target=\"_other\">http://xmlns.com/foaf/0.1/Person</a></td>\n",
       "<td class=val>9348</td></tr></table><div class=\"tinfo\">Total: 1, Shown: 1</div></div>"
      ]
     },
     "metadata": {},
     "output_type": "display_data"
    }
   ],
   "source": [
    "PREFIX foaf: <http://xmlns.com/foaf/0.1/>\n",
    "\n",
    "SELECT  ?o (COUNT(?s) AS ?sCount)\n",
    "WHERE {\n",
    "    \n",
    "        ?s a foaf:Person .\n",
    "        BIND(foaf:Person as ?o )\n",
    "}\n",
    "GROUP BY ?o\n",
    "ORDER BY DESC (?sCount)\n",
    "LIMIT 50"
   ]
  },
  {
   "cell_type": "markdown",
   "metadata": {},
   "source": [
    "### 2.2.2 Find all properties assigned to the Person concept (as subject) in the dataset"
   ]
  },
  {
   "cell_type": "markdown",
   "metadata": {},
   "source": [
    "Given there are any persons in the dataset at all, make sure that you use the correct entity type when you search for persons. For an overview of the entity types that are used in the dataset see 2.1.2.\n",
    "\n",
    "#### Explanation:\n",
    "\n",
    "`?p` = random variable name for any URI that matches the given pattern in the predicate position of a triple"
   ]
  },
  {
   "cell_type": "code",
   "execution_count": 33,
   "metadata": {},
   "outputs": [
    {
     "data": {
      "text/html": [
       "<div class=\"krn-spql\"><table><tr class=hdr><th>p</th></tr><tr class=odd><td class=val><a href=\"http://dbpedia.org/ontology/birthDate\" target=\"_other\">http://dbpedia.org/ontology/birthDate</a></td></tr><tr class=even><td class=val><a href=\"http://dbpedia.org/ontology/birthPlace\" target=\"_other\">http://dbpedia.org/ontology/birthPlace</a></td></tr><tr class=odd><td class=val><a href=\"http://dbpedia.org/ontology/deathDate\" target=\"_other\">http://dbpedia.org/ontology/deathDate</a></td></tr><tr class=even><td class=val><a href=\"http://dbpedia.org/ontology/deathPlace\" target=\"_other\">http://dbpedia.org/ontology/deathPlace</a></td></tr><tr class=odd><td class=val><a href=\"http://dbpedia.org/ontology/thumbnail\" target=\"_other\">http://dbpedia.org/ontology/thumbnail</a></td></tr><tr class=even><td class=val><a href=\"http://linkedjazz.org/ontology/bandLeaderOf\" target=\"_other\">http://linkedjazz.org/ontology/bandLeaderOf</a></td></tr><tr class=odd><td class=val><a href=\"http://linkedjazz.org/ontology/bandmember\" target=\"_other\">http://linkedjazz.org/ontology/bandmember</a></td></tr><tr class=even><td class=val><a href=\"http://linkedjazz.org/ontology/inBandTogether\" target=\"_other\">http://linkedjazz.org/ontology/inBandTogether</a></td></tr><tr class=odd><td class=val><a href=\"http://linkedjazz.org/ontology/playedTogether\" target=\"_other\">http://linkedjazz.org/ontology/playedTogether</a></td></tr><tr class=even><td class=val><a href=\"http://linkedjazz.org/ontology/touredWith\" target=\"_other\">http://linkedjazz.org/ontology/touredWith</a></td></tr><tr class=odd><td class=val><a href=\"http://purl.org/dc/elements/1.1/description\" target=\"_other\">http://purl.org/dc/elements/1.1/description</a></td></tr><tr class=even><td class=val><a href=\"http://purl.org/ontology/mo/collaborated_with\" target=\"_other\">http://purl.org/ontology/mo/collaborated_with</a></td></tr><tr class=odd><td class=val><a href=\"http://purl.org/ontology/mo/musicbrainz_guid\" target=\"_other\">http://purl.org/ontology/mo/musicbrainz_guid</a></td></tr><tr class=even><td class=val><a href=\"http://purl.org/ontology/mo/performed\" target=\"_other\">http://purl.org/ontology/mo/performed</a></td></tr><tr class=odd><td class=val><a href=\"http://purl.org/ontology/mo/primary_instrument\" target=\"_other\">http://purl.org/ontology/mo/primary_instrument</a></td></tr><tr class=even><td class=val><a href=\"http://purl.org/vocab/relationship/acquaintanceOf\" target=\"_other\">http://purl.org/vocab/relationship/acquaintanceOf</a></td></tr><tr class=odd><td class=val><a href=\"http://purl.org/vocab/relationship/friendOf\" target=\"_other\">http://purl.org/vocab/relationship/friendOf</a></td></tr><tr class=even><td class=val><a href=\"http://purl.org/vocab/relationship/hasMet\" target=\"_other\">http://purl.org/vocab/relationship/hasMet</a></td></tr><tr class=odd><td class=val><a href=\"http://purl.org/vocab/relationship/influencedBy\" target=\"_other\">http://purl.org/vocab/relationship/influencedBy</a></td></tr><tr class=even><td class=val><a href=\"http://purl.org/vocab/relationship/knowsOf\" target=\"_other\">http://purl.org/vocab/relationship/knowsOf</a></td></tr></table><div class=\"tinfo\">Total: 28, Shown: 20</div></div>"
      ]
     },
     "metadata": {},
     "output_type": "display_data"
    }
   ],
   "source": [
    "PREFIX foaf: <http://xmlns.com/foaf/0.1/>\n",
    "\n",
    "SELECT DISTINCT ?p\n",
    "WHERE {\n",
    "    \n",
    "        ?s a foaf:Person .\n",
    "        ?s ?p ?o .\n",
    "\n",
    "}\n",
    "ORDER BY ?p\n",
    "LIMIT 50"
   ]
  },
  {
   "cell_type": "markdown",
   "metadata": {},
   "source": [
    "### 2.2.3 How often are the properties assigned to the Person concept (as subject) used in the dataset"
   ]
  },
  {
   "cell_type": "markdown",
   "metadata": {},
   "source": [
    "Given there are any persons in the dataset at all, make sure that you use the correct entity type when you search for persons. For an overview of the entity types that are used in the dataset see 2.1.2.\n",
    "\n",
    "#### Explanation:\n",
    "\n",
    "`?p` = random variable name for any URI that matches the given pattern in the predicate position of a triple"
   ]
  },
  {
   "cell_type": "code",
   "execution_count": 35,
   "metadata": {},
   "outputs": [
    {
     "data": {
      "text/html": [
       "<div class=\"krn-spql\"><table><tr class=hdr><th>p</th>\n",
       "<th>pCount</th></tr><tr class=odd><td class=val><a href=\"http://xmlns.com/foaf/0.1/name\" target=\"_other\">http://xmlns.com/foaf/0.1/name</a></td>\n",
       "<td class=val>9739</td></tr><tr class=even><td class=val><a href=\"http://www.w3.org/1999/02/22-rdf-syntax-ns#type\" target=\"_other\">http://www.w3.org/1999/02/22-rdf-syntax-ns#type</a></td>\n",
       "<td class=val>9480</td></tr><tr class=odd><td class=val><a href=\"http://xmlns.com/foaf/0.1/givenName\" target=\"_other\">http://xmlns.com/foaf/0.1/givenName</a></td>\n",
       "<td class=val>8444</td></tr><tr class=even><td class=val><a href=\"http://xmlns.com/foaf/0.1/surname\" target=\"_other\">http://xmlns.com/foaf/0.1/surname</a></td>\n",
       "<td class=val>8444</td></tr><tr class=odd><td class=val><a href=\"http://dbpedia.org/ontology/birthDate\" target=\"_other\">http://dbpedia.org/ontology/birthDate</a></td>\n",
       "<td class=val>7156</td></tr><tr class=even><td class=val><a href=\"http://dbpedia.org/ontology/birthPlace\" target=\"_other\">http://dbpedia.org/ontology/birthPlace</a></td>\n",
       "<td class=val>5988</td></tr><tr class=odd><td class=val><a href=\"http://purl.org/vocab/relationship/knowsOf\" target=\"_other\">http://purl.org/vocab/relationship/knowsOf</a></td>\n",
       "<td class=val>3400</td></tr><tr class=even><td class=val><a href=\"http://dbpedia.org/ontology/deathDate\" target=\"_other\">http://dbpedia.org/ontology/deathDate</a></td>\n",
       "<td class=val>3070</td></tr><tr class=odd><td class=val><a href=\"http://purl.org/dc/elements/1.1/description\" target=\"_other\">http://purl.org/dc/elements/1.1/description</a></td>\n",
       "<td class=val>2767</td></tr><tr class=even><td class=val><a href=\"http://dbpedia.org/ontology/deathPlace\" target=\"_other\">http://dbpedia.org/ontology/deathPlace</a></td>\n",
       "<td class=val>2164</td></tr><tr class=odd><td class=val><a href=\"http://purl.org/ontology/mo/performed\" target=\"_other\">http://purl.org/ontology/mo/performed</a></td>\n",
       "<td class=val>1302</td></tr><tr class=even><td class=val><a href=\"http://www.w3.org/2000/01/rdf-schema#label\" target=\"_other\">http://www.w3.org/2000/01/rdf-schema#label</a></td>\n",
       "<td class=val>1260</td></tr><tr class=odd><td class=val><a href=\"http://www.w3.org/2004/02/skos/core#closeMatch\" target=\"_other\">http://www.w3.org/2004/02/skos/core#closeMatch</a></td>\n",
       "<td class=val>1196</td></tr><tr class=even><td class=val><a href=\"http://dbpedia.org/ontology/thumbnail\" target=\"_other\">http://dbpedia.org/ontology/thumbnail</a></td>\n",
       "<td class=val>895</td></tr><tr class=odd><td class=val><a href=\"http://purl.org/ontology/mo/musicbrainz_guid\" target=\"_other\">http://purl.org/ontology/mo/musicbrainz_guid</a></td>\n",
       "<td class=val>395</td></tr><tr class=even><td class=val><a href=\"http://purl.org/ontology/mo/primary_instrument\" target=\"_other\">http://purl.org/ontology/mo/primary_instrument</a></td>\n",
       "<td class=val>364</td></tr><tr class=odd><td class=val><a href=\"http://purl.org/vocab/relationship/influencedBy\" target=\"_other\">http://purl.org/vocab/relationship/influencedBy</a></td>\n",
       "<td class=val>332</td></tr><tr class=even><td class=val><a href=\"http://purl.org/ontology/mo/collaborated_with\" target=\"_other\">http://purl.org/ontology/mo/collaborated_with</a></td>\n",
       "<td class=val>262</td></tr><tr class=odd><td class=val><a href=\"http://purl.org/vocab/relationship/acquaintanceOf\" target=\"_other\">http://purl.org/vocab/relationship/acquaintanceOf</a></td>\n",
       "<td class=val>257</td></tr><tr class=even><td class=val><a href=\"http://xmlns.com/foaf/spec/#term_gender\" target=\"_other\">http://xmlns.com/foaf/spec/#term_gender</a></td>\n",
       "<td class=val>252</td></tr></table><div class=\"tinfo\">Total: 28, Shown: 20</div></div>"
      ]
     },
     "metadata": {},
     "output_type": "display_data"
    }
   ],
   "source": [
    "PREFIX foaf: <http://xmlns.com/foaf/0.1/>\n",
    "\n",
    "SELECT ?p (COUNT(?p) AS ?pCount) \n",
    "## add `(SAMPLE(?o) AS ?sample)` to get a sample of objects\n",
    "WHERE\n",
    "{\n",
    "      ?s a foaf:Person .\n",
    "      ?s ?p ?o .\n",
    "}\n",
    "GROUP BY ?p\n",
    "ORDER BY DESC (?pCount)\n",
    "LIMIT 50\n"
   ]
  },
  {
   "cell_type": "code",
   "execution_count": null,
   "metadata": {},
   "outputs": [],
   "source": []
  },
  {
   "cell_type": "markdown",
   "metadata": {},
   "source": [
    "TEST"
   ]
  },
  {
   "cell_type": "code",
   "execution_count": 53,
   "metadata": {},
   "outputs": [
    {
     "data": {
      "text/html": [
       "<div class=\"krn-spql\"><table><tr class=hdr><th>p</th>\n",
       "<th>pCount</th>\n",
       "<th>sample</th></tr><tr class=odd><td class=val><a href=\"http://purl.org/ontology/mo/performer\" target=\"_other\">http://purl.org/ontology/mo/performer</a></td>\n",
       "<td class=val>646</td>\n",
       "<td class=val><a href=\"http://jazzcats.cdhr.anu.edu.au/data/person/George_Cables\" target=\"_other\">http://jazzcats.cdhr.anu.edu.au/data/person/George_Cables</a></td></tr><tr class=even><td class=val><a href=\"http://purl.org/ontology/mo/instrument\" target=\"_other\">http://purl.org/ontology/mo/instrument</a></td>\n",
       "<td class=val>410</td>\n",
       "<td class=val><a href=\"http://jazzcats.cdhr.anu.edu.au/data/instrument/alto_saxophone\" target=\"_other\">http://jazzcats.cdhr.anu.edu.au/data/instrument/alto_saxophone</a></td></tr><tr class=odd><td class=val><a href=\"http://purl.org/ontology/mo/performance_of\" target=\"_other\">http://purl.org/ontology/mo/performance_of</a></td>\n",
       "<td class=val>231</td>\n",
       "<td class=val><a href=\"http://jazzcats.cdhr.anu.edu.au/data/work/Body_and_Soul\" target=\"_other\">http://jazzcats.cdhr.anu.edu.au/data/work/Body_and_Soul</a></td></tr><tr class=even><td class=val><a href=\"http://purl.org/ontology/mo/produced_sound\" target=\"_other\">http://purl.org/ontology/mo/produced_sound</a></td>\n",
       "<td class=val>231</td>\n",
       "<td class=val><a href=\"http://jazzcats.cdhr.anu.edu.au/data/sound/47b12e9d-8b23-4461-8c5e-5e088ec8e408\" target=\"_other\">http://jazzcats.cdhr.anu.edu.au/data/sound/47b12e9d-8b23-4461-8c5e-5e088ec8e408</a></td></tr><tr class=odd><td class=val><a href=\"http://www.w3.org/1999/02/22-rdf-syntax-ns#type\" target=\"_other\">http://www.w3.org/1999/02/22-rdf-syntax-ns#type</a></td>\n",
       "<td class=val>231</td>\n",
       "<td class=val><a href=\"http://purl.org/ontology/mo/Performance\" target=\"_other\">http://purl.org/ontology/mo/Performance</a></td></tr></table><div class=\"tinfo\">Total: 5, Shown: 5</div></div>"
      ]
     },
     "metadata": {},
     "output_type": "display_data"
    }
   ],
   "source": [
    "PREFIX foaf: <http://xmlns.com/foaf/0.1/>\n",
    "PREFIX mo: <http://purl.org/ontology/mo/>\n",
    "\n",
    "SELECT ?p (COUNT(?p) AS ?pCount) (SAMPLE(?o) AS ?sample)\n",
    "WHERE\n",
    "{\n",
    "      ?s a mo:Performance .\n",
    "      ?s ?p ?o .\n",
    "}\n",
    "GROUP BY ?p\n",
    "ORDER BY DESC (?pCount)\n",
    "LIMIT 50"
   ]
  },
  {
   "cell_type": "code",
   "execution_count": null,
   "metadata": {},
   "outputs": [],
   "source": []
  },
  {
   "cell_type": "code",
   "execution_count": 63,
   "metadata": {},
   "outputs": [
    {
     "data": {
      "text/html": [
       "<div class=\"krn-spql\"><table><tr class=hdr><th>instrumentLabel</th>\n",
       "<th>n</th></tr><tr class=odd><td class=val>tenor saxophone</td>\n",
       "<td class=val>990</td></tr><tr class=even><td class=val>piano</td>\n",
       "<td class=val>897</td></tr><tr class=odd><td class=val>drums</td>\n",
       "<td class=val>528</td></tr><tr class=even><td class=val>bass</td>\n",
       "<td class=val>525</td></tr><tr class=odd><td class=val>vocals</td>\n",
       "<td class=val>525</td></tr><tr class=even><td class=val>alto saxophone</td>\n",
       "<td class=val>357</td></tr><tr class=odd><td class=val>trumpet</td>\n",
       "<td class=val>282</td></tr><tr class=even><td class=val>big band</td>\n",
       "<td class=val>150</td></tr><tr class=odd><td class=val>guitar</td>\n",
       "<td class=val>135</td></tr><tr class=even><td class=val>trombone</td>\n",
       "<td class=val>84</td></tr><tr class=odd><td class=val>arranger</td>\n",
       "<td class=val>45</td></tr><tr class=even><td class=val>vibraphone</td>\n",
       "<td class=val>42</td></tr><tr class=odd><td class=val>baritone saxophone</td>\n",
       "<td class=val>39</td></tr><tr class=even><td class=val>voc</td>\n",
       "<td class=val>26</td></tr><tr class=odd><td class=val>clarinet</td>\n",
       "<td class=val>20</td></tr><tr class=even><td class=val>leader</td>\n",
       "<td class=val>19</td></tr><tr class=odd><td class=val>violin</td>\n",
       "<td class=val>13</td></tr><tr class=even><td class=val>organ</td>\n",
       "<td class=val>12</td></tr><tr class=odd><td class=val><a href=\"http://viaf.org/viaf/49408256\" target=\"_other\">http://viaf.org/viaf/49408256</a></td>\n",
       "<td class=val>9</td></tr><tr class=even><td class=val>flute</td>\n",
       "<td class=val>7</td></tr></table><div class=\"tinfo\">Total: 35, Shown: 20</div></div>"
      ]
     },
     "metadata": {},
     "output_type": "display_data"
    }
   ],
   "source": [
    "PREFIX rdfs: <http://www.w3.org/2000/01/rdf-schema#>\n",
    "PREFIX mo: <http://purl.org/ontology/mo/>\n",
    "\n",
    "SELECT DISTINCT ?instrumentLabel (COUNT(?instrument) as ?n)\n",
    "WHERE {\n",
    "\n",
    "    ?s a foaf:Person ; \n",
    "       <http://purl.org/ontology/mo/performed> ?performance .\n",
    "    ?performance  mo:performance_of ?work ;\n",
    "                  mo:instrument ?instrument .\n",
    "    ?instrument rdfs:label ?instrumentLabel.\n",
    "    \n",
    "    \n",
    "}\n",
    "GROUP BY ?instrumentLabel\n",
    "ORDER BY DESC (?n)\n",
    "LIMIT 50\n"
   ]
  },
  {
   "cell_type": "code",
   "execution_count": null,
   "metadata": {},
   "outputs": [],
   "source": [
    "\n"
   ]
  }
 ],
 "metadata": {
  "kernelspec": {
   "display_name": "SPARQL",
   "language": "sparql",
   "name": "sparql"
  },
  "language_info": {
   "codemirror_mode": {
    "name": "sparql"
   },
   "mimetype": "application/sparql-query",
   "name": "sparql",
   "pygments_lexer": "sparql-nb"
  }
 },
 "nbformat": 4,
 "nbformat_minor": 2
}
