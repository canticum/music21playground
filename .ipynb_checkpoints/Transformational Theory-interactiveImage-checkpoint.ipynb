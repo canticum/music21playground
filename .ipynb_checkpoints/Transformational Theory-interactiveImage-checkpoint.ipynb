{
 "cells": [
  {
   "cell_type": "markdown",
   "metadata": {},
   "source": [
    "# Transformational Theory - Draft"
   ]
  },
  {
   "cell_type": "markdown",
   "metadata": {},
   "source": [
    "## Some examples to test transformational functions with music21"
   ]
  },
  {
   "cell_type": "markdown",
   "metadata": {},
   "source": [
    "This is a Jupyter notebook created by [@musicenfanthen](https://github.com/musicEnfanthen) to work with some basic functions of transformational theory by David Lewin (and others; see e.g. Lewin, GMIT, 2007). \n",
    "\n",
    "For more information on Jupyter notebooks go to http://jupyter.org/. \n",
    "\n",
    "To execute a block of code in this notebook, click in the cell and press `Shift+Enter`.\n",
    "\n",
    "To get help on any music21 routine, click on it and press `Shift+Tab`."
   ]
  },
  {
   "cell_type": "code",
   "execution_count": 1,
   "metadata": {},
   "outputs": [],
   "source": [
    "from music21 import *"
   ]
  },
  {
   "cell_type": "markdown",
   "metadata": {},
   "source": [
    "Probably you have to set manually the correct file path to an Application that is able to open MusicXML files (like MuseScore). To do so, use the music21.environment module to set an musicxmlPath key.\n",
    "\n",
    "Make sure to change the string path/to/your/musicXmlApplication below to the correct file path (keep the quotation marks):\n",
    "\n",
    "    on Mac e.g.: /Applications/MuseScore 2.app/Contents/MacOS/mscore\n",
    "    or on Windows e.g.: C:/Program Files (x86)/MuseScore 2/bin/MuseScore.exe\n",
    "\n",
    "and uncomment the line (remove the # at the begin of the line).\n",
    "\n",
    "In the same way, you can also add a path to your lilypond installation, using env['lilypondPath']:\n",
    "\n",
    "    on Mac e.g.: Applications/Lilypond.app\n",
    "    on Windows e.g.: C:/Program Files (x86)/LilyPond/usr/bin/lilypond.exe\n",
    "\n",
    "Sometimes it's also necessary to adapt the musescoreDirectPNGPath. Check if it corresponds to your museScore path."
   ]
  },
  {
   "cell_type": "code",
   "execution_count": 2,
   "metadata": {},
   "outputs": [
    {
     "name": "stdout",
     "output_type": "stream",
     "text": [
      "Environment settings:\n",
      "musicXML:   /Applications/MuseScore 2.app/Contents/MacOS/mscore\n",
      "musescore:  /Applications/MuseScore 2.app/Contents/MacOS/mscore\n",
      "lilypond:   /Applications/Lilypond.app/Contents/Resources/bin/lilypond\n"
     ]
    }
   ],
   "source": [
    "# definition of environment settings is different from the settings \n",
    "# when this jupyter notebook runs locally on your machine.\n",
    "# Changes are necessary because jupyter notebook is running via Binder image\n",
    "\n",
    "env = environment.Environment()\n",
    "\n",
    "env['lilypondPath']='/usr/bin/lilypond'\n",
    "env['musescoreDirectPNGPath'] = '/usr/bin/musescore'\n",
    "env['musicxmlPath'] = '/usr/bin/musescore'\n",
    "\n",
    "environment.set('pdfPath', '/usr/bin/musescore')\n",
    "environment.set('graphicsPath', '/usr/bin/musescore')\n",
    "\n",
    "print('Environment settings:')\n",
    "print('musicXML:  ', env['musicxmlPath'])\n",
    "print('musescore: ', env['musescoreDirectPNGPath'])\n",
    "print('lilypond:  ', env['lilypondPath'])"
   ]
  },
  {
   "cell_type": "markdown",
   "metadata": {},
   "source": [
    "<div class=\"alert alert-block alert-warning\">\n",
    "Using jupyter notebook inside a Binder image causes some issues with music21's \".show()\"-method (see: https://github.com/cuthbertLab/music21/issues/260). Thanks to Tony Hirst (@psychemedia) there is a small workaround with a redefinition of the method:\n",
    "</div>"
   ]
  },
  {
   "cell_type": "code",
   "execution_count": null,
   "metadata": {},
   "outputs": [],
   "source": [
    "# re-definition of show()-method ---> \"HACK\" from https://github.com/psychemedia/showntell/blob/music/index_music.ipynb\n",
    "# see also this music21 issue: https://github.com/cuthbertLab/music21/issues/260\n",
    "%load_ext music21.ipython21\n",
    "\n",
    "from IPython.display import Image\n",
    "\n",
    "def render(s):\n",
    "    s.show('lily.png')\n",
    "    return Image(filename=s.write('lily.png'))"
   ]
  },
  {
   "cell_type": "code",
   "execution_count": null,
   "metadata": {},
   "outputs": [],
   "source": []
  },
  {
   "cell_type": "code",
   "execution_count": null,
   "metadata": {},
   "outputs": [],
   "source": []
  },
  {
   "cell_type": "code",
   "execution_count": null,
   "metadata": {},
   "outputs": [],
   "source": []
  },
  {
   "cell_type": "code",
   "execution_count": 50,
   "metadata": {},
   "outputs": [],
   "source": [
    "def createMusic21NoteObjectFromIntervall(pitchArray):\n",
    "    n1 = note.Note(pitchArray[0])       \n",
    "    n2 = note.Note(pitchArray[1])\n",
    "    return [n1, n2]\n",
    "\n",
    "\n",
    "def showStream(prevNote, curNote, transformStr):    \n",
    "    # full name\n",
    "    prevFull = prevNote.pitch.unicodeNameWithOctave\n",
    "    curFull = curNote.pitch.unicodeNameWithOctave\n",
    "    \n",
    "    \n",
    "    # pitch class\n",
    "    prevPc = prevNote.pitch.pitchClass\n",
    "    curPc = curNote.pitch.pitchClass\n",
    "    \n",
    "    # frequency\n",
    "    prevFreq = prevNote.pitch.freq440\n",
    "    curFreq = curNote.pitch.freq440\n",
    "    \n",
    "    # midi\n",
    "    prevMidi = prevNote.pitch.midi\n",
    "    curMidi = curNote.pitch.midi\n",
    "    \n",
    "    curNote.offset = 1.0\n",
    "    \n",
    "    if not prevNote.lyrics:\n",
    "        prevNote.addLyric('full: ' + str(prevFull))\n",
    "        prevNote.addLyric('pc:   ' + str(prevPc))\n",
    "        prevNote.addLyric('midi: ' + str(prevMidi))\n",
    "        prevNote.addLyric('freq: ' + str(prevFreq))\n",
    "            \n",
    "    if not curNote.lyrics:\n",
    "        curNote.addLyric('full: ' + str(curFull))\n",
    "        curNote.addLyric('pc:   ' + str(curPc))\n",
    "        curNote.addLyric('midi: ' + str(curMidi))\n",
    "        curNote.addLyric('freq: ' + str(curFreq))\n",
    "           \n",
    "    intStream = stream.Score()           # create Score\n",
    "    intStream.append(prevNote)\n",
    "    intStream.append(curNote)\n",
    "    \n",
    "    # output\n",
    "    print(transformStr)\n",
    "    intStream.show('text')                     # output of the stream (using the .show()-method)\n",
    "\n",
    "    \n",
    "\n",
    "def getTransposition(prevNote, curNote):\n",
    "    #get pitch classes\n",
    "    curPc = curNote.pitch.pitchClass\n",
    "    prevPc = prevNote.pitch.pitchClass\n",
    "    \n",
    "    # transposition string\n",
    "    transStr = \"T\"\n",
    "    n = (curPc - prevPc) % 12\n",
    "    transStr += str(n)\n",
    "    \n",
    "    # output\n",
    "    showStream(prevNote, curNote, transStr)\n",
    "\n",
    "    \n",
    "def getInversion(prevNote, curNote):\n",
    "    #get pitch classes\n",
    "    curPc = curNote.pitch.pitchClass\n",
    "    prevPc = prevNote.pitch.pitchClass\n",
    "    \n",
    "    # inversion string\n",
    "    invStr = \"I\"\n",
    "    n = (curPc + prevPc) % 12\n",
    "    invStr += str(n)\n",
    "    \n",
    "    # output\n",
    "    showStream(prevNote, curNote, invStr)\n",
    "\n",
    "    \n",
    "def getTranspositionAndInversion(pitchArray):\n",
    "    # pitchArray = [pitch1, pitch2]\n",
    "    if len(pitchArray) > 2:\n",
    "        return\n",
    "    \n",
    "    noteArray = createMusic21NoteObjectFromIntervall(pitchArray)\n",
    "    print(noteArray)\n",
    "    \n",
    "    getTransposition(noteArray[0], noteArray[1])\n",
    "    getInversion(noteArray[0], noteArray[1])"
   ]
  },
  {
   "cell_type": "code",
   "execution_count": 52,
   "metadata": {},
   "outputs": [
    {
     "name": "stdout",
     "output_type": "stream",
     "text": [
      "[<music21.note.Note C#>, <music21.note.Note E>]\n",
      "T3\n"
     ]
    },
    {
     "data": {
      "image/png": "[encoded data removed]",
      "text/plain": [
       "<IPython.core.display.Image object>"
      ]
     },
     "metadata": {
      "image/png": {
       "height": 124,
       "width": 748
      }
     },
     "output_type": "display_data"
    },
    {
     "name": "stdout",
     "output_type": "stream",
     "text": [
      "I5\n"
     ]
    },
    {
     "data": {
      "image/png": "[encoded data removed]",
      "text/plain": [
       "<IPython.core.display.Image object>"
      ]
     },
     "metadata": {
      "image/png": {
       "height": 124,
       "width": 748
      }
     },
     "output_type": "display_data"
    }
   ],
   "source": [
    "# example input (two pitches)\n",
    "# pitchArray = [pitch1, pitch2]\n",
    "\n",
    "pitchArray = ['C#4', 'E5']\n",
    "\n",
    "getTranspositionAndInversion(pitchArray)\n"
   ]
  },
  {
   "cell_type": "code",
   "execution_count": null,
   "metadata": {},
   "outputs": [],
   "source": []
  },
  {
   "cell_type": "code",
   "execution_count": null,
   "metadata": {},
   "outputs": [],
   "source": []
  },
  {
   "cell_type": "code",
   "execution_count": null,
   "metadata": {},
   "outputs": [],
   "source": []
  },
  {
   "cell_type": "code",
   "execution_count": null,
   "metadata": {},
   "outputs": [],
   "source": []
  }
 ],
 "metadata": {
  "kernelspec": {
   "display_name": "Python 3",
   "language": "python",
   "name": "python3"
  },
  "language_info": {
   "codemirror_mode": {
    "name": "ipython",
    "version": 3
   },
   "file_extension": ".py",
   "mimetype": "text/x-python",
   "name": "python",
   "nbconvert_exporter": "python",
   "pygments_lexer": "ipython3",
   "version": "3.7.2"
  }
 },
 "nbformat": 4,
 "nbformat_minor": 2
}
