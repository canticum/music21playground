{
 "cells": [
  {
   "cell_type": "code",
   "execution_count": 1,
   "metadata": {},
   "outputs": [],
   "source": [
    "from music21 import *"
   ]
  },
  {
   "cell_type": "code",
   "execution_count": 2,
   "metadata": {},
   "outputs": [],
   "source": [
    "PATH = './MIDI/'"
   ]
  },
  {
   "cell_type": "code",
   "execution_count": 3,
   "metadata": {},
   "outputs": [
    {
     "name": "stdout",
     "output_type": "stream",
     "text": [
      "/Users/muennich/anaconda3/lib/python3.7/site-packages/music21/midi/testPrimitive/test05.mid\n"
     ]
    }
   ],
   "source": [
    "import os\n",
    "fp = common.getSourceFilePath() / 'midi' / 'testPrimitive' / 'test05.mid'\n",
    "\n",
    "print(fp)"
   ]
  },
  {
   "cell_type": "code",
   "execution_count": 4,
   "metadata": {},
   "outputs": [
    {
     "data": {
      "text/plain": [
       "1"
      ]
     },
     "execution_count": 4,
     "metadata": {},
     "output_type": "execute_result"
    }
   ],
   "source": [
    "mf = midi.MidiFile()\n",
    "mf.open(str(fp))\n",
    "mf.read()\n",
    "mf.close()\n",
    "len(mf.tracks)\n"
   ]
  },
  {
   "cell_type": "code",
   "execution_count": 5,
   "metadata": {},
   "outputs": [
    {
     "data": {
      "text/plain": [
       "<music21.stream.Score 0x7ff1f182f160>"
      ]
     },
     "execution_count": 5,
     "metadata": {},
     "output_type": "execute_result"
    }
   ],
   "source": [
    "s = midi.translate.midiFileToStream(mf)\n",
    "s\n"
   ]
  },
  {
   "cell_type": "code",
   "execution_count": 6,
   "metadata": {},
   "outputs": [
    {
     "name": "stdout",
     "output_type": "stream",
     "text": [
      "{0.0} <music21.stream.Part 0x7ff1f182f240>\n",
      "    {0.0} <music21.note.Note C>\n",
      "    {1.0} <music21.note.Rest rest>\n",
      "    {2.0} <music21.chord.Chord F3 G#4 C5>\n",
      "    {3.0} <music21.note.Rest rest>\n",
      "    {4.5} <music21.note.Note B->\n",
      "    {5.5} <music21.note.Rest rest>\n",
      "    {7.5} <music21.chord.Chord D2 A4>\n",
      "    {8.0} <music21.note.Rest rest>\n",
      "    {8.5} <music21.chord.Chord C#2 B-3 G#6>\n",
      "    {9.0} <music21.note.Rest rest>\n",
      "    {10.5} <music21.chord.Chord F#3 A4 C#5>\n"
     ]
    }
   ],
   "source": [
    "s.show('text')"
   ]
  },
  {
   "cell_type": "code",
   "execution_count": 7,
   "metadata": {},
   "outputs": [
    {
     "data": {
      "text/plain": [
       "11"
      ]
     },
     "execution_count": 7,
     "metadata": {},
     "output_type": "execute_result"
    }
   ],
   "source": [
    "len(s.flat.notesAndRests)"
   ]
  },
  {
   "cell_type": "code",
   "execution_count": null,
   "metadata": {},
   "outputs": [],
   "source": []
  }
 ],
 "metadata": {
  "kernelspec": {
   "display_name": "Python 3",
   "language": "python",
   "name": "python3"
  },
  "language_info": {
   "codemirror_mode": {
    "name": "ipython",
    "version": 3
   },
   "file_extension": ".py",
   "mimetype": "text/x-python",
   "name": "python",
   "nbconvert_exporter": "python",
   "pygments_lexer": "ipython3",
   "version": "3.7.3"
  }
 },
 "nbformat": 4,
 "nbformat_minor": 2
}
