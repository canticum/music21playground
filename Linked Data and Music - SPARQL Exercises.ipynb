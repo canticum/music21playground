{
 "cells": [
  {
   "cell_type": "markdown",
   "metadata": {},
   "source": [
    "# Linked Data and Music\n",
    "## SPARQL Exercises: Exploring unknown datasets"
   ]
  },
  {
   "cell_type": "markdown",
   "metadata": {},
   "source": [
    "This Jupyter Notebook is inspired by Bob DuCharme's description of the approach in his blog entry: \n",
    "- http://www.bobdc.com/blog/jupytersparql/ \n",
    "\n",
    "and the corresponding notebook \n",
    "\n",
    "- https://github.com/bobdc/misc/blob/master/JupyterSPARQL/Jupyter%20and%20SPARQL%20and%20Dort%20or%20Dordrecht.ipynb.\n",
    "\n",
    "It uses the `sparqlkernel` written and released by Paulo Villegas: https://github.com/paulovn/sparql-kernel."
   ]
  },
  {
   "cell_type": "markdown",
   "metadata": {},
   "source": [
    "## 1. Setup"
   ]
  },
  {
   "cell_type": "markdown",
   "metadata": {},
   "source": [
    "Use some  `magics`from the `sparqlkernel` to set up the endpoint, the query format & output format.\n",
    "The `magics` don't have to be in a separate cell from the actual query, but it is easier to set things up separately. \n",
    "\n",
    "Possible music-related endpoints (alphabetically listed):\n",
    "\n",
    "\n",
    "**DoReMus**\n",
    "- Endpoint: [http://data.doremus.org/sparql]\n",
    "- Website:  [https://www.doremus.org/] \n",
    "\n",
    "\n",
    "**JazzCats**\n",
    "- Endpoint: [http://cdhr-linkeddata.anu.edu.au/jazzcats-sparql/sparql]\n",
    "- Website:  [http://jazzcats.cdhr.anu.edu.au/]\n",
    "\n",
    "\n",
    "**MIDI Linked Data**\n",
    "- Endpoint: [http://virtuoso-midi.amp.ops.labs.vu.nl/sparql]\n",
    "- Website:  [https://midi-ld.github.io/]\n",
    "\n",
    "\n",
    "**MusicOWL**\n",
    "- Endpoint: [http://linkeddata.uni-muenster.de:7200]\n",
    "- Website:  [http://linkeddata.uni-muenster.de/musicportal/]\n",
    "\n",
    "\n",
    "**RISM**\n",
    "- Endpoint: [https://data.rism.info/sparql]\n",
    "- Website:  [https://opac.rism.info/]\n",
    "\n",
    "\n",
    "**SLICKMEM**\n",
    "- Endpoint: [https://blazegraph.linkedmusic.org/blazegraph/namespace/SLICKMEM/sparql] \n",
    "- Website:  [https://slickmem.linkedmusic.org]\n"
   ]
  },
  {
   "cell_type": "code",
   "execution_count": 1,
   "metadata": {},
   "outputs": [
    {
     "data": {
      "text/html": [
       "<div class=\"krn-spql\"><div class=\"magic\">Endpoint set to: http://cdhr-linkeddata.anu.edu.au/jazzcats-sparql/sparql</div><div class=\"magic\">Result maximum size: 50</div><div class=\"magic\">Return format: ANY</div><div class=\"magic\">Display: table</div></div>"
      ],
      "text/plain": [
       "Endpoint set to: http://cdhr-linkeddata.anu.edu.au/jazzcats-sparql/sparql\n",
       "Result maximum size: 50\n",
       "Return format: ANY\n",
       "Display: table\n"
      ]
     },
     "metadata": {},
     "output_type": "display_data"
    }
   ],
   "source": [
    "# Set the SPARQL endpoint\n",
    "%endpoint http://cdhr-linkeddata.anu.edu.au/jazzcats-sparql/sparql\n",
    "\n",
    "# Don't show more than 50 results (event if more are fetched)\n",
    "%show 50\n",
    "\n",
    "# Set the data format requested to the SPARQL endpoint (%format JSON | XML | N3 | any | default)\n",
    "%format any\n",
    "\n",
    "# Set the output rendering shape (%display raw | table [withtypes] | diagram [svg|png] [withliterals])\n",
    "%display table"
   ]
  },
  {
   "cell_type": "markdown",
   "metadata": {},
   "source": [
    "Short test if the selected endpoint is running and we are connecting to it properly.\n",
    "\n",
    "**IMPORTANT: Use the `LIMIT` modifier in all of the following queries to avoid stressing the endpoint too much. You may need to increase your limit in certain queries according to the resulting total number in 2.1.1 to see all query results.**"
   ]
  },
  {
   "cell_type": "code",
   "execution_count": 2,
   "metadata": {},
   "outputs": [
    {
     "data": {
      "text/html": [
       "<div class=\"krn-spql\"><table><tr class=hdr><th>s</th>\n",
       "<th>p</th>\n",
       "<th>o</th></tr><tr class=odd><td class=val><a href=\"http://www.openlinksw.com/virtrdf-data-formats#default-iid\" target=\"_other\">http://www.openlinksw.com/virtrdf-data-formats#default-iid</a></td>\n",
       "<td class=val><a href=\"http://www.w3.org/1999/02/22-rdf-syntax-ns#type\" target=\"_other\">http://www.w3.org/1999/02/22-rdf-syntax-ns#type</a></td>\n",
       "<td class=val><a href=\"http://www.openlinksw.com/schemas/virtrdf#QuadMapFormat\" target=\"_other\">http://www.openlinksw.com/schemas/virtrdf#QuadMapFormat</a></td></tr><tr class=even><td class=val><a href=\"http://www.openlinksw.com/virtrdf-data-formats#default-iid-nullable\" target=\"_other\">http://www.openlinksw.com/virtrdf-data-formats#default-iid-nullable</a></td>\n",
       "<td class=val><a href=\"http://www.w3.org/1999/02/22-rdf-syntax-ns#type\" target=\"_other\">http://www.w3.org/1999/02/22-rdf-syntax-ns#type</a></td>\n",
       "<td class=val><a href=\"http://www.openlinksw.com/schemas/virtrdf#QuadMapFormat\" target=\"_other\">http://www.openlinksw.com/schemas/virtrdf#QuadMapFormat</a></td></tr><tr class=odd><td class=val><a href=\"http://www.openlinksw.com/virtrdf-data-formats#default-iid-nonblank\" target=\"_other\">http://www.openlinksw.com/virtrdf-data-formats#default-iid-nonblank</a></td>\n",
       "<td class=val><a href=\"http://www.w3.org/1999/02/22-rdf-syntax-ns#type\" target=\"_other\">http://www.w3.org/1999/02/22-rdf-syntax-ns#type</a></td>\n",
       "<td class=val><a href=\"http://www.openlinksw.com/schemas/virtrdf#QuadMapFormat\" target=\"_other\">http://www.openlinksw.com/schemas/virtrdf#QuadMapFormat</a></td></tr><tr class=even><td class=val><a href=\"http://www.openlinksw.com/virtrdf-data-formats#default-iid-nonblank-nullable\" target=\"_other\">http://www.openlinksw.com/virtrdf-data-formats#default-iid-nonblank-nullable</a></td>\n",
       "<td class=val><a href=\"http://www.w3.org/1999/02/22-rdf-syntax-ns#type\" target=\"_other\">http://www.w3.org/1999/02/22-rdf-syntax-ns#type</a></td>\n",
       "<td class=val><a href=\"http://www.openlinksw.com/schemas/virtrdf#QuadMapFormat\" target=\"_other\">http://www.openlinksw.com/schemas/virtrdf#QuadMapFormat</a></td></tr><tr class=odd><td class=val><a href=\"http://www.openlinksw.com/virtrdf-data-formats#default\" target=\"_other\">http://www.openlinksw.com/virtrdf-data-formats#default</a></td>\n",
       "<td class=val><a href=\"http://www.w3.org/1999/02/22-rdf-syntax-ns#type\" target=\"_other\">http://www.w3.org/1999/02/22-rdf-syntax-ns#type</a></td>\n",
       "<td class=val><a href=\"http://www.openlinksw.com/schemas/virtrdf#QuadMapFormat\" target=\"_other\">http://www.openlinksw.com/schemas/virtrdf#QuadMapFormat</a></td></tr></table><div class=\"tinfo\">Total: 5, Shown: 5</div></div>"
      ]
     },
     "metadata": {},
     "output_type": "display_data"
    }
   ],
   "source": [
    "SELECT * \n",
    "WHERE {\n",
    "\n",
    "    ?s ?p ?o . \n",
    "\n",
    "}\n",
    "LIMIT 5"
   ]
  },
  {
   "cell_type": "markdown",
   "metadata": {},
   "source": [
    "## 2. SPARQL Queries"
   ]
  },
  {
   "cell_type": "markdown",
   "metadata": {},
   "source": [
    "## 2.1. Exploring an unknown dataset – Concepts/Classes"
   ]
  },
  {
   "cell_type": "markdown",
   "metadata": {},
   "source": [
    "### 2.1.0 Find all Concepts/Classes of the dataset"
   ]
  },
  {
   "cell_type": "markdown",
   "metadata": {},
   "source": [
    "#### Explanation:\n",
    "\n",
    "General information about and specification of the SPARQL Query language can be found here: https://www.w3.org/TR/sparql11-query/ \n",
    "\n",
    "`SELECT`    = one of SPARQL's query forms; returns all, or a subset of, the variables bound in a query pattern match.\n",
    "\n",
    "`DISTINCT`  = ensure solutions in the sequence are unique, i.e. duplicates are merged into one result\n",
    "\n",
    "`*`         = shortcut to return all bound variables (`?xyz`) as results, here the results bound in `?Concept`\n",
    "\n",
    "`WHERE {…}` = so-called WHERE-clause, basic graph pattern to match against the data graph\n",
    "\n",
    "`[]`        = blank node, see [4.1.4 Syntax for Blank Nodes](https://www.w3.org/TR/sparql11-query/#QSynBlankNodes)\n",
    "\n",
    "`a`         = `rdf:type`\n",
    "\n",
    "`?Concept` = random variable name for any URI that matches the given pattern in the object position of a triple.\n",
    "\n",
    "`LIMIT`     = modifier to limit the result number (important!)"
   ]
  },
  {
   "cell_type": "code",
   "execution_count": 244,
   "metadata": {},
   "outputs": [
    {
     "data": {
      "text/html": [
       "<div class=\"krn-spql\"><table><tr class=hdr><th>Concept</th></tr><tr class=odd><td class=val><a href=\"http://www.openlinksw.com/schemas/virtrdf#QuadMapFormat\" target=\"_other\">http://www.openlinksw.com/schemas/virtrdf#QuadMapFormat</a></td></tr><tr class=even><td class=val><a href=\"http://www.openlinksw.com/schemas/virtrdf#QuadStorage\" target=\"_other\">http://www.openlinksw.com/schemas/virtrdf#QuadStorage</a></td></tr><tr class=odd><td class=val><a href=\"http://www.openlinksw.com/schemas/virtrdf#array-of-QuadMapFormat\" target=\"_other\">http://www.openlinksw.com/schemas/virtrdf#array-of-QuadMapFormat</a></td></tr><tr class=even><td class=val><a href=\"http://www.openlinksw.com/schemas/virtrdf#QuadMap\" target=\"_other\">http://www.openlinksw.com/schemas/virtrdf#QuadMap</a></td></tr><tr class=odd><td class=val><a href=\"http://www.openlinksw.com/schemas/virtrdf#QuadMapValue\" target=\"_other\">http://www.openlinksw.com/schemas/virtrdf#QuadMapValue</a></td></tr><tr class=even><td class=val><a href=\"http://www.openlinksw.com/schemas/virtrdf#array-of-QuadMapColumn\" target=\"_other\">http://www.openlinksw.com/schemas/virtrdf#array-of-QuadMapColumn</a></td></tr><tr class=odd><td class=val><a href=\"http://www.openlinksw.com/schemas/virtrdf#QuadMapColumn\" target=\"_other\">http://www.openlinksw.com/schemas/virtrdf#QuadMapColumn</a></td></tr><tr class=even><td class=val><a href=\"http://www.openlinksw.com/schemas/virtrdf#array-of-QuadMapATable\" target=\"_other\">http://www.openlinksw.com/schemas/virtrdf#array-of-QuadMapATable</a></td></tr><tr class=odd><td class=val><a href=\"http://www.openlinksw.com/schemas/virtrdf#QuadMapATable\" target=\"_other\">http://www.openlinksw.com/schemas/virtrdf#QuadMapATable</a></td></tr><tr class=even><td class=val><a href=\"http://www.openlinksw.com/schemas/virtrdf#QuadMapFText\" target=\"_other\">http://www.openlinksw.com/schemas/virtrdf#QuadMapFText</a></td></tr><tr class=odd><td class=val><a href=\"http://www.openlinksw.com/schemas/virtrdf#array-of-string\" target=\"_other\">http://www.openlinksw.com/schemas/virtrdf#array-of-string</a></td></tr><tr class=even><td class=val><a href=\"http://www.openlinksw.com/schemas/virtrdf#array-of-QuadMap\" target=\"_other\">http://www.openlinksw.com/schemas/virtrdf#array-of-QuadMap</a></td></tr><tr class=odd><td class=val><a href=\"http://www.w3.org/2002/07/owl#InverseFunctionalProperty\" target=\"_other\">http://www.w3.org/2002/07/owl#InverseFunctionalProperty</a></td></tr><tr class=even><td class=val><a href=\"http://www.w3.org/2002/07/owl#SymmetricProperty\" target=\"_other\">http://www.w3.org/2002/07/owl#SymmetricProperty</a></td></tr><tr class=odd><td class=val><a href=\"http://www.w3.org/2002/07/owl#FunctionalProperty\" target=\"_other\">http://www.w3.org/2002/07/owl#FunctionalProperty</a></td></tr><tr class=even><td class=val><a href=\"http://www.w3.org/2002/07/owl#TransitiveProperty\" target=\"_other\">http://www.w3.org/2002/07/owl#TransitiveProperty</a></td></tr><tr class=odd><td class=val><a href=\"http://www.w3.org/1999/02/22-rdf-syntax-ns#Property\" target=\"_other\">http://www.w3.org/1999/02/22-rdf-syntax-ns#Property</a></td></tr><tr class=even><td class=val><a href=\"http://www.w3.org/2002/07/owl#Class\" target=\"_other\">http://www.w3.org/2002/07/owl#Class</a></td></tr><tr class=odd><td class=val><a href=\"http://www.w3.org/2002/07/owl#Ontology\" target=\"_other\">http://www.w3.org/2002/07/owl#Ontology</a></td></tr><tr class=even><td class=val><a href=\"http://www.w3.org/2000/01/rdf-schema#Class\" target=\"_other\">http://www.w3.org/2000/01/rdf-schema#Class</a></td></tr><tr class=odd><td class=val><a href=\"http://www.w3.org/2002/07/owl#OntologyProperty\" target=\"_other\">http://www.w3.org/2002/07/owl#OntologyProperty</a></td></tr><tr class=even><td class=val><a href=\"http://www.w3.org/2002/07/owl#AnnotationProperty\" target=\"_other\">http://www.w3.org/2002/07/owl#AnnotationProperty</a></td></tr><tr class=odd><td class=val><a href=\"http://www.w3.org/1999/02/22-rdf-syntax-ns#List\" target=\"_other\">http://www.w3.org/1999/02/22-rdf-syntax-ns#List</a></td></tr><tr class=even><td class=val><a href=\"http://www.w3.org/2002/07/owl#Restriction\" target=\"_other\">http://www.w3.org/2002/07/owl#Restriction</a></td></tr><tr class=odd><td class=val><a href=\"http://www.w3.org/2002/07/owl#ObjectProperty\" target=\"_other\">http://www.w3.org/2002/07/owl#ObjectProperty</a></td></tr><tr class=even><td class=val><a href=\"http://www.w3.org/2002/07/owl#DatatypeProperty\" target=\"_other\">http://www.w3.org/2002/07/owl#DatatypeProperty</a></td></tr><tr class=odd><td class=val><a href=\"http://www.w3.org/ns/dcat#Dataset\" target=\"_other\">http://www.w3.org/ns/dcat#Dataset</a></td></tr><tr class=even><td class=val><a href=\"http://erlangen-crm.org/efrbroo/F19_Publication_Expression\" target=\"_other\">http://erlangen-crm.org/efrbroo/F19_Publication_Expression</a></td></tr><tr class=odd><td class=val><a href=\"http://data.doremus.org/ontology#M36_Award\" target=\"_other\">http://data.doremus.org/ontology#M36_Award</a></td></tr><tr class=even><td class=val><a href=\"http://purl.org/NET/c4dm/keys.owl#Key\" target=\"_other\">http://purl.org/NET/c4dm/keys.owl#Key</a></td></tr><tr class=odd><td class=val><a href=\"http://www.w3.org/2004/02/skos/core#Concept\" target=\"_other\">http://www.w3.org/2004/02/skos/core#Concept</a></td></tr><tr class=even><td class=val><a href=\"http://data.doremus.org/ontology#M4_Key\" target=\"_other\">http://data.doremus.org/ontology#M4_Key</a></td></tr><tr class=odd><td class=val><a href=\"http://erlangen-crm.org/efrbroo/F25_Performance_Plan\" target=\"_other\">http://erlangen-crm.org/efrbroo/F25_Performance_Plan</a></td></tr><tr class=even><td class=val><a href=\"http://www.w3.org/ns/dcat#Catalog\" target=\"_other\">http://www.w3.org/ns/dcat#Catalog</a></td></tr><tr class=odd><td class=val><a href=\"http://www.geonames.org/ontology#Feature\" target=\"_other\">http://www.geonames.org/ontology#Feature</a></td></tr><tr class=even><td class=val><a href=\"http://rhizomik.net/ontologies/copyrightonto#DistributionRight\" target=\"_other\">http://rhizomik.net/ontologies/copyrightonto#DistributionRight</a></td></tr><tr class=odd><td class=val><a href=\"http://www.w3.org/ns/sparql-service-description#Service\" target=\"_other\">http://www.w3.org/ns/sparql-service-description#Service</a></td></tr><tr class=even><td class=val><a href=\"http://erlangen-crm.org/current/E7_Activity\" target=\"_other\">http://erlangen-crm.org/current/E7_Activity</a></td></tr><tr class=odd><td class=val><a href=\"http://www.w3.org/ns/prov#Derivation\" target=\"_other\">http://www.w3.org/ns/prov#Derivation</a></td></tr><tr class=even><td class=val><a href=\"http://www.w3.org/2006/time#Interval\" target=\"_other\">http://www.w3.org/2006/time#Interval</a></td></tr><tr class=odd><td class=val><a href=\"http://data.doremus.org/ontology#M19_Categorization\" target=\"_other\">http://data.doremus.org/ontology#M19_Categorization</a></td></tr><tr class=even><td class=val><a href=\"http://rhizomik.net/ontologies/copyrightonto#CommunicationRight\" target=\"_other\">http://rhizomik.net/ontologies/copyrightonto#CommunicationRight</a></td></tr><tr class=odd><td class=val><a href=\"http://www.w3.org/ns/prov#Entity\" target=\"_other\">http://www.w3.org/ns/prov#Entity</a></td></tr><tr class=even><td class=val><a href=\"http://purl.org/dc/terms/AgentClass\" target=\"_other\">http://purl.org/dc/terms/AgentClass</a></td></tr><tr class=odd><td class=val><a href=\"http://www.w3.org/2004/02/skos/core#Collection\" target=\"_other\">http://www.w3.org/2004/02/skos/core#Collection</a></td></tr><tr class=even><td class=val><a href=\"http://erlangen-crm.org/current/E21_Person\" target=\"_other\">http://erlangen-crm.org/current/E21_Person</a></td></tr><tr class=odd><td class=val><a href=\"http://data.doremus.org/ontology#M155_Cast_Statement\" target=\"_other\">http://data.doremus.org/ontology#M155_Cast_Statement</a></td></tr><tr class=even><td class=val><a href=\"http://data.doremus.org/ontology#M29_Editing\" target=\"_other\">http://data.doremus.org/ontology#M29_Editing</a></td></tr><tr class=odd><td class=val><a href=\"http://data.doremus.org/ontology#M33_Set_of_Characters\" target=\"_other\">http://data.doremus.org/ontology#M33_Set_of_Characters</a></td></tr><tr class=even><td class=val><a href=\"http://erlangen-crm.org/efrbroo/F15_Complex_Work\" target=\"_other\">http://erlangen-crm.org/efrbroo/F15_Complex_Work</a></td></tr></table><div class=\"tinfo\">Total: 50, Shown: 50</div></div>"
      ]
     },
     "metadata": {},
     "output_type": "display_data"
    }
   ],
   "source": [
    "SELECT DISTINCT * \n",
    "WHERE {                 \n",
    "\n",
    "    [] a ?Concept .     \n",
    "    \n",
    "}\n",
    "LIMIT 50"
   ]
  },
  {
   "cell_type": "markdown",
   "metadata": {},
   "source": [
    "### 2.1.1 Get total number of classes available in the dataset"
   ]
  },
  {
   "cell_type": "markdown",
   "metadata": {},
   "source": [
    "#### Explanation\n",
    "\n",
    "`(COUNT(DISTINCT ?Concept)`= count number of distinct values bound to variable `?Concept`\n",
    "\n",
    "You may need to increase your limit in subsequent queries according to the resulting total number to see all query results."
   ]
  },
  {
   "cell_type": "code",
   "execution_count": 245,
   "metadata": {},
   "outputs": [
    {
     "data": {
      "text/html": [
       "<div class=\"krn-spql\"><table><tr class=hdr><th>count</th></tr><tr class=odd><td class=val>151</td></tr></table><div class=\"tinfo\">Total: 1, Shown: 1</div></div>"
      ]
     },
     "metadata": {},
     "output_type": "display_data"
    }
   ],
   "source": [
    "SELECT (COUNT(DISTINCT ?Concept) as ?count)\n",
    "WHERE   \n",
    "{ \n",
    "   \n",
    "    [] a ?Concept .\n",
    " \n",
    "}\n",
    "LIMIT 50"
   ]
  },
  {
   "cell_type": "markdown",
   "metadata": {},
   "source": [
    "### 2.1.2 Get the number of the individual concepts/classes in the dataset"
   ]
  },
  {
   "cell_type": "markdown",
   "metadata": {},
   "source": [
    "#### Explanation\n",
    "`(COUNT(*) AS ?n)` = bind the number of results of all bound variables to the variable `?n`\n",
    "\n",
    "`GROUP BY`         = group the results by the given value/variable\n",
    "\n",
    "`ORDER BY DESC`    = sort the results in descending order by the given value/variable (leave out `DESC` or use `ASC` for ascending order"
   ]
  },
  {
   "cell_type": "code",
   "execution_count": 246,
   "metadata": {},
   "outputs": [
    {
     "data": {
      "text/html": [
       "<div class=\"krn-spql\"><table><tr class=hdr><th>Concept</th>\n",
       "<th>n</th></tr><tr class=odd><td class=val><a href=\"http://www.w3.org/ns/prov#Entity\" target=\"_other\">http://www.w3.org/ns/prov#Entity</a></td>\n",
       "<td class=val>3763310</td></tr><tr class=even><td class=val><a href=\"http://www.w3.org/2006/time#Instant\" target=\"_other\">http://www.w3.org/2006/time#Instant</a></td>\n",
       "<td class=val>2351087</td></tr><tr class=odd><td class=val><a href=\"http://data.doremus.org/ontology#M28_Individual_Performance\" target=\"_other\">http://data.doremus.org/ontology#M28_Individual_Performance</a></td>\n",
       "<td class=val>1076749</td></tr><tr class=even><td class=val><a href=\"http://erlangen-crm.org/current/E52_Time-Span\" target=\"_other\">http://erlangen-crm.org/current/E52_Time-Span</a></td>\n",
       "<td class=val>1002428</td></tr><tr class=odd><td class=val><a href=\"http://www.w3.org/2006/time#Interval\" target=\"_other\">http://www.w3.org/2006/time#Interval</a></td>\n",
       "<td class=val>1002424</td></tr><tr class=even><td class=val><a href=\"http://erlangen-crm.org/current/E7_Activity\" target=\"_other\">http://erlangen-crm.org/current/E7_Activity</a></td>\n",
       "<td class=val>909795</td></tr><tr class=odd><td class=val><a href=\"http://www.w3.org/ns/prov#Activity\" target=\"_other\">http://www.w3.org/ns/prov#Activity</a></td>\n",
       "<td class=val>810507</td></tr><tr class=even><td class=val><a href=\"http://www.w3.org/ns/prov#Derivation\" target=\"_other\">http://www.w3.org/ns/prov#Derivation</a></td>\n",
       "<td class=val>810507</td></tr><tr class=odd><td class=val><a href=\"http://erlangen-crm.org/efrbroo/F28_Expression_Creation\" target=\"_other\">http://erlangen-crm.org/efrbroo/F28_Expression_Creation</a></td>\n",
       "<td class=val>742685</td></tr><tr class=even><td class=val><a href=\"http://data.doremus.org/ontology#M156_Title_Statement\" target=\"_other\">http://data.doremus.org/ontology#M156_Title_Statement</a></td>\n",
       "<td class=val>639721</td></tr><tr class=odd><td class=val><a href=\"http://erlangen-crm.org/current/E13_Attribute_Assignment\" target=\"_other\">http://erlangen-crm.org/current/E13_Attribute_Assignment</a></td>\n",
       "<td class=val>573749</td></tr><tr class=even><td class=val><a href=\"http://erlangen-crm.org/efrbroo/F22_Self-Contained_Expression\" target=\"_other\">http://erlangen-crm.org/efrbroo/F22_Self-Contained_Expression</a></td>\n",
       "<td class=val>535578</td></tr><tr class=odd><td class=val><a href=\"http://data.doremus.org/ontology#M46_Set_of_Tracks\" target=\"_other\">http://data.doremus.org/ontology#M46_Set_of_Tracks</a></td>\n",
       "<td class=val>483310</td></tr><tr class=even><td class=val><a href=\"http://data.doremus.org/ontology#M43_Performed_Expression\" target=\"_other\">http://data.doremus.org/ontology#M43_Performed_Expression</a></td>\n",
       "<td class=val>482892</td></tr><tr class=odd><td class=val><a href=\"http://data.doremus.org/ontology#M44_Performed_Work\" target=\"_other\">http://data.doremus.org/ontology#M44_Performed_Work</a></td>\n",
       "<td class=val>482892</td></tr><tr class=even><td class=val><a href=\"http://data.doremus.org/ontology#M42_Performed_Expression_Creation\" target=\"_other\">http://data.doremus.org/ontology#M42_Performed_Expression_Creation</a></td>\n",
       "<td class=val>480598</td></tr><tr class=odd><td class=val><a href=\"http://erlangen-crm.org/efrbroo/F14_Individual_Work\" target=\"_other\">http://erlangen-crm.org/efrbroo/F14_Individual_Work</a></td>\n",
       "<td class=val>477416</td></tr><tr class=even><td class=val><a href=\"http://erlangen-crm.org/efrbroo/F15_Complex_Work\" target=\"_other\">http://erlangen-crm.org/efrbroo/F15_Complex_Work</a></td>\n",
       "<td class=val>464062</td></tr><tr class=odd><td class=val><a href=\"http://data.doremus.org/ontology#M19_Categorization\" target=\"_other\">http://data.doremus.org/ontology#M19_Categorization</a></td>\n",
       "<td class=val>427034</td></tr><tr class=even><td class=val><a href=\"http://data.doremus.org/ontology#M23_Casting_Detail\" target=\"_other\">http://data.doremus.org/ontology#M23_Casting_Detail</a></td>\n",
       "<td class=val>417747</td></tr><tr class=odd><td class=val><a href=\"http://erlangen-crm.org/efrbroo/F26_Recording\" target=\"_other\">http://erlangen-crm.org/efrbroo/F26_Recording</a></td>\n",
       "<td class=val>397722</td></tr><tr class=even><td class=val><a href=\"http://erlangen-crm.org/efrbroo/F21_Recording_Work\" target=\"_other\">http://erlangen-crm.org/efrbroo/F21_Recording_Work</a></td>\n",
       "<td class=val>397721</td></tr><tr class=odd><td class=val><a href=\"http://erlangen-crm.org/current/E21_Person\" target=\"_other\">http://erlangen-crm.org/current/E21_Person</a></td>\n",
       "<td class=val>365072</td></tr><tr class=even><td class=val><a href=\"http://data.doremus.org/ontology#M157_Statement_of_Responsibility\" target=\"_other\">http://data.doremus.org/ontology#M157_Statement_of_Responsibility</a></td>\n",
       "<td class=val>353040</td></tr><tr class=odd><td class=val><a href=\"http://rhizomik.net/ontologies/copyrightonto#ProducersRights\" target=\"_other\">http://rhizomik.net/ontologies/copyrightonto#ProducersRights</a></td>\n",
       "<td class=val>331264</td></tr><tr class=even><td class=val><a href=\"http://erlangen-crm.org/efrbroo/F24_Publication_Expression\" target=\"_other\">http://erlangen-crm.org/efrbroo/F24_Publication_Expression</a></td>\n",
       "<td class=val>256629</td></tr><tr class=odd><td class=val><a href=\"http://erlangen-crm.org/efrbroo/F20_Performance_Work\" target=\"_other\">http://erlangen-crm.org/efrbroo/F20_Performance_Work</a></td>\n",
       "<td class=val>234131</td></tr><tr class=even><td class=val><a href=\"http://erlangen-crm.org/efrbroo/F30_Publication_Event\" target=\"_other\">http://erlangen-crm.org/efrbroo/F30_Publication_Event</a></td>\n",
       "<td class=val>223167</td></tr><tr class=odd><td class=val><a href=\"http://erlangen-crm.org/efrbroo/F25_Performance_Plan\" target=\"_other\">http://erlangen-crm.org/efrbroo/F25_Performance_Plan</a></td>\n",
       "<td class=val>210239</td></tr><tr class=even><td class=val><a href=\"http://data.doremus.org/ontology#M160_Publication_Statement\" target=\"_other\">http://data.doremus.org/ontology#M160_Publication_Statement</a></td>\n",
       "<td class=val>210085</td></tr><tr class=odd><td class=val><a href=\"http://data.doremus.org/ontology#M161_Distribution_Statement\" target=\"_other\">http://data.doremus.org/ontology#M161_Distribution_Statement</a></td>\n",
       "<td class=val>206663</td></tr><tr class=even><td class=val><a href=\"http://erlangen-crm.org/efrbroo/F31_Performance\" target=\"_other\">http://erlangen-crm.org/efrbroo/F31_Performance</a></td>\n",
       "<td class=val>206411</td></tr><tr class=odd><td class=val><a href=\"http://erlangen-crm.org/efrbroo/F3_Manifestation_Product_Type\" target=\"_other\">http://erlangen-crm.org/efrbroo/F3_Manifestation_Product_Type</a></td>\n",
       "<td class=val>204351</td></tr><tr class=even><td class=val><a href=\"http://data.doremus.org/ontology#M6_Casting\" target=\"_other\">http://data.doremus.org/ontology#M6_Casting</a></td>\n",
       "<td class=val>198435</td></tr><tr class=odd><td class=val><a href=\"http://erlangen-crm.org/efrbroo/F19_Publication_Work\" target=\"_other\">http://erlangen-crm.org/efrbroo/F19_Publication_Work</a></td>\n",
       "<td class=val>189408</td></tr><tr class=even><td class=val><a href=\"http://data.doremus.org/ontology#M158_Title_and_Statement_of_Responsibility\" target=\"_other\">http://data.doremus.org/ontology#M158_Title_and_Statement_of_Responsibility</a></td>\n",
       "<td class=val>187828</td></tr><tr class=odd><td class=val><a href=\"http://erlangen-crm.org/current/E42_Identifier\" target=\"_other\">http://erlangen-crm.org/current/E42_Identifier</a></td>\n",
       "<td class=val>175098</td></tr><tr class=even><td class=val><a href=\"http://data.doremus.org/ontology#M155_Cast_Statement\" target=\"_other\">http://data.doremus.org/ontology#M155_Cast_Statement</a></td>\n",
       "<td class=val>173015</td></tr><tr class=odd><td class=val><a href=\"http://erlangen-crm.org/efrbroo/F29_Recording_Event\" target=\"_other\">http://erlangen-crm.org/efrbroo/F29_Recording_Event</a></td>\n",
       "<td class=val>172995</td></tr><tr class=even><td class=val><a href=\"http://rhizomik.net/ontologies/copyrightonto#CommunicationRight\" target=\"_other\">http://rhizomik.net/ontologies/copyrightonto#CommunicationRight</a></td>\n",
       "<td class=val>171206</td></tr><tr class=odd><td class=val><a href=\"http://erlangen-crm.org/efrbroo/F42_Representative_Expression_Assignment\" target=\"_other\">http://erlangen-crm.org/efrbroo/F42_Representative_Expression_Assignment</a></td>\n",
       "<td class=val>135472</td></tr><tr class=even><td class=val><a href=\"http://erlangen-crm.org/current/E54_Dimension\" target=\"_other\">http://erlangen-crm.org/current/E54_Dimension</a></td>\n",
       "<td class=val>128154</td></tr><tr class=odd><td class=val><a href=\"http://erlangen-crm.org/current/E67_Birth\" target=\"_other\">http://erlangen-crm.org/current/E67_Birth</a></td>\n",
       "<td class=val>111517</td></tr><tr class=even><td class=val><a href=\"http://data.doremus.org/ontology#M31_Actor_Function\" target=\"_other\">http://data.doremus.org/ontology#M31_Actor_Function</a></td>\n",
       "<td class=val>102724</td></tr><tr class=odd><td class=val><a href=\"http://data.doremus.org/ontology#M29_Editing\" target=\"_other\">http://data.doremus.org/ontology#M29_Editing</a></td>\n",
       "<td class=val>91363</td></tr><tr class=even><td class=val><a href=\"http://erlangen-crm.org/efrbroo/F38_Character\" target=\"_other\">http://erlangen-crm.org/efrbroo/F38_Character</a></td>\n",
       "<td class=val>77442</td></tr><tr class=odd><td class=val><a href=\"http://data.doremus.org/ontology#M24_Track\" target=\"_other\">http://data.doremus.org/ontology#M24_Track</a></td>\n",
       "<td class=val>67424</td></tr><tr class=even><td class=val><a href=\"http://data.doremus.org/ontology#M171_Container\" target=\"_other\">http://data.doremus.org/ontology#M171_Container</a></td>\n",
       "<td class=val>64070</td></tr><tr class=odd><td class=val><a href=\"http://rhizomik.net/ontologies/copyrightonto#DistributionRight\" target=\"_other\">http://rhizomik.net/ontologies/copyrightonto#DistributionRight</a></td>\n",
       "<td class=val>60833</td></tr><tr class=even><td class=val><a href=\"http://erlangen-crm.org/current/E69_Death\" target=\"_other\">http://erlangen-crm.org/current/E69_Death</a></td>\n",
       "<td class=val>53314</td></tr></table><div class=\"tinfo\">Total: 50, Shown: 50</div></div>"
      ]
     },
     "metadata": {},
     "output_type": "display_data"
    }
   ],
   "source": [
    "SELECT DISTINCT ?Concept (COUNT(*) AS ?n) \n",
    "WHERE {\n",
    "\n",
    "    [] a ?Concept .\n",
    "\n",
    "}\n",
    "GROUP BY ?Concept\n",
    "ORDER BY DESC(?n)\n",
    "LIMIT 50"
   ]
  },
  {
   "cell_type": "markdown",
   "metadata": {},
   "source": [
    "### 2.1.3 Get the number of these concepts/classes in the dataset plus a sample of every class"
   ]
  },
  {
   "cell_type": "markdown",
   "metadata": {},
   "source": [
    "#### Explanation\n",
    "\n",
    "see also: https://twitter.com/kidehen/status/1129143936839294976 \n",
    "\n",
    "`(SAMPLE(?s) AS ?sample)` = retrieve one random sample of the result set for the variable `?s` and bind the sample to the variable `?sample`\n",
    "\n",
    "`COUNT(1)`                = equivalent of `COUNT(*)`\n",
    "\n",
    "`?s`                      = random variable name for any URI that matches the given pattern in the subject position of a triple\n",
    "\n",
    "`FILTER(isIri(?s))`       = filter out only those solutions for the variable `?s` that are an IRI"
   ]
  },
  {
   "cell_type": "code",
   "execution_count": 247,
   "metadata": {},
   "outputs": [
    {
     "data": {
      "text/html": [
       "<div class=\"krn-spql\"><table><tr class=hdr><th>sample</th>\n",
       "<th>n</th>\n",
       "<th>entityType</th></tr><tr class=odd><td class=val><a href=\"http://data.doremus.org/artist/b2360e86-1c01-322d-a9a0-ffff6dfff68d\" target=\"_other\">http://data.doremus.org/artist/b2360e86-1c01-322d-a9a0-ffff6dfff68d</a></td>\n",
       "<td class=val>3763310</td>\n",
       "<td class=val><a href=\"http://www.w3.org/ns/prov#Entity\" target=\"_other\">http://www.w3.org/ns/prov#Entity</a></td></tr><tr class=even><td class=val><a href=\"http://data.doremus.org/artist/327eae68-ae82-33d4-84fd-9564e64d2dc1/death/interval/end\" target=\"_other\">http://data.doremus.org/artist/327eae68-ae82-33d4-84fd-9564e64d2dc1/death/interval/end</a></td>\n",
       "<td class=val>1702246</td>\n",
       "<td class=val><a href=\"http://www.w3.org/2006/time#Instant\" target=\"_other\">http://www.w3.org/2006/time#Instant</a></td></tr><tr class=odd><td class=val><a href=\"http://data.doremus.org/performance/b216b135-83a0-37fd-a261-b775dac521f6/2\" target=\"_other\">http://data.doremus.org/performance/b216b135-83a0-37fd-a261-b775dac521f6/2</a></td>\n",
       "<td class=val>1076749</td>\n",
       "<td class=val><a href=\"http://data.doremus.org/ontology#M28_Individual_Performance\" target=\"_other\">http://data.doremus.org/ontology#M28_Individual_Performance</a></td></tr><tr class=even><td class=val><a href=\"http://data.doremus.org/artist/db8eae83-cb6a-35b2-b003-da54677a7fd6/death/interval\" target=\"_other\">http://data.doremus.org/artist/db8eae83-cb6a-35b2-b003-da54677a7fd6/death/interval</a></td>\n",
       "<td class=val>1002426</td>\n",
       "<td class=val><a href=\"http://erlangen-crm.org/current/E52_Time-Span\" target=\"_other\">http://erlangen-crm.org/current/E52_Time-Span</a></td></tr><tr class=odd><td class=val><a href=\"http://data.doremus.org/artist/db8eae83-cb6a-35b2-b003-da54677a7fd6/death/interval\" target=\"_other\">http://data.doremus.org/artist/db8eae83-cb6a-35b2-b003-da54677a7fd6/death/interval</a></td>\n",
       "<td class=val>1002424</td>\n",
       "<td class=val><a href=\"http://www.w3.org/2006/time#Interval\" target=\"_other\">http://www.w3.org/2006/time#Interval</a></td></tr><tr class=even><td class=val><a href=\"http://data.doremus.org/event/a4575c7c-49b5-38d5-b38d-de8d4d7d6702/activity/1\" target=\"_other\">http://data.doremus.org/event/a4575c7c-49b5-38d5-b38d-de8d4d7d6702/activity/1</a></td>\n",
       "<td class=val>909795</td>\n",
       "<td class=val><a href=\"http://erlangen-crm.org/current/E7_Activity\" target=\"_other\">http://erlangen-crm.org/current/E7_Activity</a></td></tr><tr class=odd><td class=val><a href=\"http://data.doremus.org/activity/7aa0b887-f87b-3c7f-bcd3-15e05961aff8\" target=\"_other\">http://data.doremus.org/activity/7aa0b887-f87b-3c7f-bcd3-15e05961aff8</a></td>\n",
       "<td class=val>810507</td>\n",
       "<td class=val><a href=\"http://www.w3.org/ns/prov#Derivation\" target=\"_other\">http://www.w3.org/ns/prov#Derivation</a></td></tr><tr class=even><td class=val><a href=\"http://data.doremus.org/activity/7aa0b887-f87b-3c7f-bcd3-15e05961aff8\" target=\"_other\">http://data.doremus.org/activity/7aa0b887-f87b-3c7f-bcd3-15e05961aff8</a></td>\n",
       "<td class=val>810507</td>\n",
       "<td class=val><a href=\"http://www.w3.org/ns/prov#Activity\" target=\"_other\">http://www.w3.org/ns/prov#Activity</a></td></tr><tr class=odd><td class=val><a href=\"http://data.doremus.org/event/a2951abd-7ee2-3e69-bcc7-791e6580f11a\" target=\"_other\">http://data.doremus.org/event/a2951abd-7ee2-3e69-bcc7-791e6580f11a</a></td>\n",
       "<td class=val>742685</td>\n",
       "<td class=val><a href=\"http://erlangen-crm.org/efrbroo/F28_Expression_Creation\" target=\"_other\">http://erlangen-crm.org/efrbroo/F28_Expression_Creation</a></td></tr><tr class=even><td class=val><a href=\"http://data.doremus.org/publication/beb2e8e0-51ad-3180-a1ae-ebacfe06ed5b/title\" target=\"_other\">http://data.doremus.org/publication/beb2e8e0-51ad-3180-a1ae-ebacfe06ed5b/title</a></td>\n",
       "<td class=val>639721</td>\n",
       "<td class=val><a href=\"http://data.doremus.org/ontology#M156_Title_Statement\" target=\"_other\">http://data.doremus.org/ontology#M156_Title_Statement</a></td></tr><tr class=odd><td class=val><a href=\"http://data.doremus.org/manifestation/4b742b80-3bfe-356a-9d64-1a4b1f265072/distribution_rigth/assignment\" target=\"_other\">http://data.doremus.org/manifestation/4b742b80-3bfe-356a-9d64-1a4b1f265072/distribution_rigth/assignment</a></td>\n",
       "<td class=val>573749</td>\n",
       "<td class=val><a href=\"http://erlangen-crm.org/current/E13_Attribute_Assignment\" target=\"_other\">http://erlangen-crm.org/current/E13_Attribute_Assignment</a></td></tr><tr class=even><td class=val><a href=\"http://data.doremus.org/expression/f7c49ab3-b467-38bf-912d-251a215d43c7\" target=\"_other\">http://data.doremus.org/expression/f7c49ab3-b467-38bf-912d-251a215d43c7</a></td>\n",
       "<td class=val>535578</td>\n",
       "<td class=val><a href=\"http://erlangen-crm.org/efrbroo/F22_Self-Contained_Expression\" target=\"_other\">http://erlangen-crm.org/efrbroo/F22_Self-Contained_Expression</a></td></tr><tr class=odd><td class=val><a href=\"http://data.doremus.org/manifestation/68c46996-dd54-3184-857e-a4ea43839597\" target=\"_other\">http://data.doremus.org/manifestation/68c46996-dd54-3184-857e-a4ea43839597</a></td>\n",
       "<td class=val>483310</td>\n",
       "<td class=val><a href=\"http://data.doremus.org/ontology#M46_Set_of_Tracks\" target=\"_other\">http://data.doremus.org/ontology#M46_Set_of_Tracks</a></td></tr><tr class=even><td class=val><a href=\"http://data.doremus.org/work/421bc5ae-099a-37bf-ba8d-9a2f3218141d\" target=\"_other\">http://data.doremus.org/work/421bc5ae-099a-37bf-ba8d-9a2f3218141d</a></td>\n",
       "<td class=val>482892</td>\n",
       "<td class=val><a href=\"http://data.doremus.org/ontology#M44_Performed_Work\" target=\"_other\">http://data.doremus.org/ontology#M44_Performed_Work</a></td></tr><tr class=odd><td class=val><a href=\"http://data.doremus.org/expression/73d7fd82-2063-3809-920a-62f6ea9f97b9\" target=\"_other\">http://data.doremus.org/expression/73d7fd82-2063-3809-920a-62f6ea9f97b9</a></td>\n",
       "<td class=val>482892</td>\n",
       "<td class=val><a href=\"http://data.doremus.org/ontology#M43_Performed_Expression\" target=\"_other\">http://data.doremus.org/ontology#M43_Performed_Expression</a></td></tr><tr class=even><td class=val><a href=\"http://data.doremus.org/performance/ec0b34d9-6882-3762-b8e2-34f3fe80e0c2\" target=\"_other\">http://data.doremus.org/performance/ec0b34d9-6882-3762-b8e2-34f3fe80e0c2</a></td>\n",
       "<td class=val>480598</td>\n",
       "<td class=val><a href=\"http://data.doremus.org/ontology#M42_Performed_Expression_Creation\" target=\"_other\">http://data.doremus.org/ontology#M42_Performed_Expression_Creation</a></td></tr><tr class=odd><td class=val><a href=\"http://data.doremus.org/work/2ea6477d-c8f0-3bf4-91a1-eef5bef07870\" target=\"_other\">http://data.doremus.org/work/2ea6477d-c8f0-3bf4-91a1-eef5bef07870</a></td>\n",
       "<td class=val>477416</td>\n",
       "<td class=val><a href=\"http://erlangen-crm.org/efrbroo/F14_Individual_Work\" target=\"_other\">http://erlangen-crm.org/efrbroo/F14_Individual_Work</a></td></tr><tr class=even><td class=val><a href=\"http://data.doremus.org/work/26e030bd-73ce-3d0f-82c9-47d7d64109b7\" target=\"_other\">http://data.doremus.org/work/26e030bd-73ce-3d0f-82c9-47d7d64109b7</a></td>\n",
       "<td class=val>464062</td>\n",
       "<td class=val><a href=\"http://erlangen-crm.org/efrbroo/F15_Complex_Work\" target=\"_other\">http://erlangen-crm.org/efrbroo/F15_Complex_Work</a></td></tr><tr class=odd><td class=val><a href=\"http://data.doremus.org/expression/f0a5b02b-5950-388d-b765-746e03db2596/casting/1/detail/1\" target=\"_other\">http://data.doremus.org/expression/f0a5b02b-5950-388d-b765-746e03db2596/casting/1/detail/1</a></td>\n",
       "<td class=val>417747</td>\n",
       "<td class=val><a href=\"http://data.doremus.org/ontology#M23_Casting_Detail\" target=\"_other\">http://data.doremus.org/ontology#M23_Casting_Detail</a></td></tr><tr class=even><td class=val><a href=\"http://data.doremus.org/recording/a33684e7-fb1b-31bc-b201-b218a7c3783d\" target=\"_other\">http://data.doremus.org/recording/a33684e7-fb1b-31bc-b201-b218a7c3783d</a></td>\n",
       "<td class=val>397722</td>\n",
       "<td class=val><a href=\"http://erlangen-crm.org/efrbroo/F26_Recording\" target=\"_other\">http://erlangen-crm.org/efrbroo/F26_Recording</a></td></tr><tr class=odd><td class=val><a href=\"http://data.doremus.org/work/b7e8f762-d86d-3bf2-9988-411a13ebebc5\" target=\"_other\">http://data.doremus.org/work/b7e8f762-d86d-3bf2-9988-411a13ebebc5</a></td>\n",
       "<td class=val>397721</td>\n",
       "<td class=val><a href=\"http://erlangen-crm.org/efrbroo/F21_Recording_Work\" target=\"_other\">http://erlangen-crm.org/efrbroo/F21_Recording_Work</a></td></tr><tr class=even><td class=val><a href=\"http://data.doremus.org/artist/b2360e86-1c01-322d-a9a0-ffff6dfff68d\" target=\"_other\">http://data.doremus.org/artist/b2360e86-1c01-322d-a9a0-ffff6dfff68d</a></td>\n",
       "<td class=val>365072</td>\n",
       "<td class=val><a href=\"http://erlangen-crm.org/current/E21_Person\" target=\"_other\">http://erlangen-crm.org/current/E21_Person</a></td></tr><tr class=odd><td class=val><a href=\"http://data.doremus.org/publication/16b65e44-3e69-3a9a-90d1-cf15d42743a3/fragment/36/responsibility\" target=\"_other\">http://data.doremus.org/publication/16b65e44-3e69-3a9a-90d1-cf15d42743a3/fragment/36/responsibility</a></td>\n",
       "<td class=val>353040</td>\n",
       "<td class=val><a href=\"http://data.doremus.org/ontology#M157_Statement_of_Responsibility\" target=\"_other\">http://data.doremus.org/ontology#M157_Statement_of_Responsibility</a></td></tr><tr class=even><td class=val><a href=\"http://data.doremus.org/recording/3ad99533-384a-3bf2-90f7-8c84dc522412/producer_right/1\" target=\"_other\">http://data.doremus.org/recording/3ad99533-384a-3bf2-90f7-8c84dc522412/producer_right/1</a></td>\n",
       "<td class=val>331264</td>\n",
       "<td class=val><a href=\"http://rhizomik.net/ontologies/copyrightonto#ProducersRights\" target=\"_other\">http://rhizomik.net/ontologies/copyrightonto#ProducersRights</a></td></tr><tr class=odd><td class=val><a href=\"http://data.doremus.org/publication/df6b0c85-d9ee-35a9-be31-994cc2f72fb2\" target=\"_other\">http://data.doremus.org/publication/df6b0c85-d9ee-35a9-be31-994cc2f72fb2</a></td>\n",
       "<td class=val>256629</td>\n",
       "<td class=val><a href=\"http://erlangen-crm.org/efrbroo/F24_Publication_Expression\" target=\"_other\">http://erlangen-crm.org/efrbroo/F24_Publication_Expression</a></td></tr><tr class=even><td class=val><a href=\"http://data.doremus.org/work/f8b29409-0af3-3b6c-ae15-d64c4836213f\" target=\"_other\">http://data.doremus.org/work/f8b29409-0af3-3b6c-ae15-d64c4836213f</a></td>\n",
       "<td class=val>234131</td>\n",
       "<td class=val><a href=\"http://erlangen-crm.org/efrbroo/F20_Performance_Work\" target=\"_other\">http://erlangen-crm.org/efrbroo/F20_Performance_Work</a></td></tr><tr class=odd><td class=val><a href=\"http://data.doremus.org/event/e64d68a4-5d5f-3ae0-8867-51ab57fdf2cf\" target=\"_other\">http://data.doremus.org/event/e64d68a4-5d5f-3ae0-8867-51ab57fdf2cf</a></td>\n",
       "<td class=val>223167</td>\n",
       "<td class=val><a href=\"http://erlangen-crm.org/efrbroo/F30_Publication_Event\" target=\"_other\">http://erlangen-crm.org/efrbroo/F30_Publication_Event</a></td></tr><tr class=even><td class=val><a href=\"http://data.doremus.org/expression/2db73a6e-dab0-3ff6-afd2-27cf5f667385\" target=\"_other\">http://data.doremus.org/expression/2db73a6e-dab0-3ff6-afd2-27cf5f667385</a></td>\n",
       "<td class=val>210239</td>\n",
       "<td class=val><a href=\"http://erlangen-crm.org/efrbroo/F25_Performance_Plan\" target=\"_other\">http://erlangen-crm.org/efrbroo/F25_Performance_Plan</a></td></tr><tr class=odd><td class=val><a href=\"http://data.doremus.org/publication/07e4c71a-39c6-36f9-8edb-86d63be4dd59/publication/1\" target=\"_other\">http://data.doremus.org/publication/07e4c71a-39c6-36f9-8edb-86d63be4dd59/publication/1</a></td>\n",
       "<td class=val>210085</td>\n",
       "<td class=val><a href=\"http://data.doremus.org/ontology#M160_Publication_Statement\" target=\"_other\">http://data.doremus.org/ontology#M160_Publication_Statement</a></td></tr><tr class=even><td class=val><a href=\"http://data.doremus.org/publication/a6ea0469-e7ea-302a-8b1c-18d44ff1b32d/distribution/1\" target=\"_other\">http://data.doremus.org/publication/a6ea0469-e7ea-302a-8b1c-18d44ff1b32d/distribution/1</a></td>\n",
       "<td class=val>206663</td>\n",
       "<td class=val><a href=\"http://data.doremus.org/ontology#M161_Distribution_Statement\" target=\"_other\">http://data.doremus.org/ontology#M161_Distribution_Statement</a></td></tr><tr class=odd><td class=val><a href=\"http://data.doremus.org/performance/ddf0f907-7bbe-3c88-8522-29be2a41a72e\" target=\"_other\">http://data.doremus.org/performance/ddf0f907-7bbe-3c88-8522-29be2a41a72e</a></td>\n",
       "<td class=val>206411</td>\n",
       "<td class=val><a href=\"http://erlangen-crm.org/efrbroo/F31_Performance\" target=\"_other\">http://erlangen-crm.org/efrbroo/F31_Performance</a></td></tr><tr class=even><td class=val><a href=\"http://data.doremus.org/manifestation/201d6d89-b2e7-3d93-afb0-7984f6dd5940\" target=\"_other\">http://data.doremus.org/manifestation/201d6d89-b2e7-3d93-afb0-7984f6dd5940</a></td>\n",
       "<td class=val>204351</td>\n",
       "<td class=val><a href=\"http://erlangen-crm.org/efrbroo/F3_Manifestation_Product_Type\" target=\"_other\">http://erlangen-crm.org/efrbroo/F3_Manifestation_Product_Type</a></td></tr><tr class=odd><td class=val><a href=\"http://data.doremus.org/expression/f7c756bc-077d-3be8-9f73-d88e4ceee09f/casting/1\" target=\"_other\">http://data.doremus.org/expression/f7c756bc-077d-3be8-9f73-d88e4ceee09f/casting/1</a></td>\n",
       "<td class=val>198435</td>\n",
       "<td class=val><a href=\"http://data.doremus.org/ontology#M6_Casting\" target=\"_other\">http://data.doremus.org/ontology#M6_Casting</a></td></tr><tr class=even><td class=val><a href=\"http://data.doremus.org/work/4bc89340-6805-36e1-9d36-a72e56b7681b\" target=\"_other\">http://data.doremus.org/work/4bc89340-6805-36e1-9d36-a72e56b7681b</a></td>\n",
       "<td class=val>189408</td>\n",
       "<td class=val><a href=\"http://erlangen-crm.org/efrbroo/F19_Publication_Work\" target=\"_other\">http://erlangen-crm.org/efrbroo/F19_Publication_Work</a></td></tr><tr class=odd><td class=val><a href=\"http://data.doremus.org/publication/36a5f85f-a2f8-30df-ac97-fa1478112ae9/title_responsibility\" target=\"_other\">http://data.doremus.org/publication/36a5f85f-a2f8-30df-ac97-fa1478112ae9/title_responsibility</a></td>\n",
       "<td class=val>187828</td>\n",
       "<td class=val><a href=\"http://data.doremus.org/ontology#M158_Title_and_Statement_of_Responsibility\" target=\"_other\">http://data.doremus.org/ontology#M158_Title_and_Statement_of_Responsibility</a></td></tr><tr class=even><td class=val><a href=\"http://data.doremus.org/publication/d3503a19-c6c0-325b-8cff-95a17a3ccf8f/id/193\" target=\"_other\">http://data.doremus.org/publication/d3503a19-c6c0-325b-8cff-95a17a3ccf8f/id/193</a></td>\n",
       "<td class=val>175098</td>\n",
       "<td class=val><a href=\"http://erlangen-crm.org/current/E42_Identifier\" target=\"_other\">http://erlangen-crm.org/current/E42_Identifier</a></td></tr><tr class=odd><td class=val><a href=\"http://data.doremus.org/manifestation/1b945687-ab16-307d-95f4-904e0826a1b6/cast/1\" target=\"_other\">http://data.doremus.org/manifestation/1b945687-ab16-307d-95f4-904e0826a1b6/cast/1</a></td>\n",
       "<td class=val>173015</td>\n",
       "<td class=val><a href=\"http://data.doremus.org/ontology#M155_Cast_Statement\" target=\"_other\">http://data.doremus.org/ontology#M155_Cast_Statement</a></td></tr><tr class=even><td class=val><a href=\"http://data.doremus.org/event/291989c7-b94d-3860-a86b-9fb2173744de\" target=\"_other\">http://data.doremus.org/event/291989c7-b94d-3860-a86b-9fb2173744de</a></td>\n",
       "<td class=val>172995</td>\n",
       "<td class=val><a href=\"http://erlangen-crm.org/efrbroo/F29_Recording_Event\" target=\"_other\">http://erlangen-crm.org/efrbroo/F29_Recording_Event</a></td></tr><tr class=odd><td class=val><a href=\"http://data.doremus.org/manifestation/c5fdaf31-6411-3bdf-86de-b2114269d2bb/communication_right\" target=\"_other\">http://data.doremus.org/manifestation/c5fdaf31-6411-3bdf-86de-b2114269d2bb/communication_right</a></td>\n",
       "<td class=val>171206</td>\n",
       "<td class=val><a href=\"http://rhizomik.net/ontologies/copyrightonto#CommunicationRight\" target=\"_other\">http://rhizomik.net/ontologies/copyrightonto#CommunicationRight</a></td></tr><tr class=even><td class=val><a href=\"http://data.doremus.org/expression/1181947a-211e-3c42-959a-19afc31a9305/categorization/1\" target=\"_other\">http://data.doremus.org/expression/1181947a-211e-3c42-959a-19afc31a9305/categorization/1</a></td>\n",
       "<td class=val>147883</td>\n",
       "<td class=val><a href=\"http://data.doremus.org/ontology#M19_Categorization\" target=\"_other\">http://data.doremus.org/ontology#M19_Categorization</a></td></tr><tr class=odd><td class=val><a href=\"http://data.doremus.org/event/e712996d-8aa1-34e8-ba27-8e05a47c158b\" target=\"_other\">http://data.doremus.org/event/e712996d-8aa1-34e8-ba27-8e05a47c158b</a></td>\n",
       "<td class=val>135472</td>\n",
       "<td class=val><a href=\"http://erlangen-crm.org/efrbroo/F42_Representative_Expression_Assignment\" target=\"_other\">http://erlangen-crm.org/efrbroo/F42_Representative_Expression_Assignment</a></td></tr><tr class=even><td class=val><a href=\"http://data.doremus.org/artist/c25a8e1c-0a61-3079-8a8c-ed7dc6b182b5/birth\" target=\"_other\">http://data.doremus.org/artist/c25a8e1c-0a61-3079-8a8c-ed7dc6b182b5/birth</a></td>\n",
       "<td class=val>111517</td>\n",
       "<td class=val><a href=\"http://erlangen-crm.org/current/E67_Birth\" target=\"_other\">http://erlangen-crm.org/current/E67_Birth</a></td></tr><tr class=odd><td class=val><a href=\"http://data.doremus.org/editing/33638a0b-50f9-3f2a-b7a3-c9abd931b27a\" target=\"_other\">http://data.doremus.org/editing/33638a0b-50f9-3f2a-b7a3-c9abd931b27a</a></td>\n",
       "<td class=val>91363</td>\n",
       "<td class=val><a href=\"http://data.doremus.org/ontology#M29_Editing\" target=\"_other\">http://data.doremus.org/ontology#M29_Editing</a></td></tr><tr class=even><td class=val><a href=\"http://data.doremus.org/performance/49c5627f-718a-3ea3-9cf6-e55e6a3a5018/5/character\" target=\"_other\">http://data.doremus.org/performance/49c5627f-718a-3ea3-9cf6-e55e6a3a5018/5/character</a></td>\n",
       "<td class=val>75199</td>\n",
       "<td class=val><a href=\"http://erlangen-crm.org/efrbroo/F38_Character\" target=\"_other\">http://erlangen-crm.org/efrbroo/F38_Character</a></td></tr><tr class=odd><td class=val><a href=\"http://data.doremus.org/track/1e2d0a56-88ac-3165-8246-b6891547baf7\" target=\"_other\">http://data.doremus.org/track/1e2d0a56-88ac-3165-8246-b6891547baf7</a></td>\n",
       "<td class=val>67424</td>\n",
       "<td class=val><a href=\"http://data.doremus.org/ontology#M24_Track\" target=\"_other\">http://data.doremus.org/ontology#M24_Track</a></td></tr><tr class=even><td class=val><a href=\"http://data.doremus.org/manifestation/7a538eb1-055f-3ce5-aad8-947d6c2a3619/distribution_right\" target=\"_other\">http://data.doremus.org/manifestation/7a538eb1-055f-3ce5-aad8-947d6c2a3619/distribution_right</a></td>\n",
       "<td class=val>60833</td>\n",
       "<td class=val><a href=\"http://rhizomik.net/ontologies/copyrightonto#DistributionRight\" target=\"_other\">http://rhizomik.net/ontologies/copyrightonto#DistributionRight</a></td></tr><tr class=odd><td class=val><a href=\"http://data.doremus.org/artist/b1ba6fad-addf-3a5d-bcef-fa58c42972a0/death\" target=\"_other\">http://data.doremus.org/artist/b1ba6fad-addf-3a5d-bcef-fa58c42972a0/death</a></td>\n",
       "<td class=val>53314</td>\n",
       "<td class=val><a href=\"http://erlangen-crm.org/current/E69_Death\" target=\"_other\">http://erlangen-crm.org/current/E69_Death</a></td></tr><tr class=even><td class=val><a href=\"http://data.doremus.org/artist/cf6fede0-4cac-362b-a36c-7da30ec15aa7\" target=\"_other\">http://data.doremus.org/artist/cf6fede0-4cac-362b-a36c-7da30ec15aa7</a></td>\n",
       "<td class=val>45967</td>\n",
       "<td class=val><a href=\"http://erlangen-crm.org/efrbroo/F11_Corporate_Body\" target=\"_other\">http://erlangen-crm.org/efrbroo/F11_Corporate_Body</a></td></tr><tr class=odd><td class=val><a href=\"http://data.doremus.org/expression/759c5134-5a07-39ad-bf65-5248480815c2/opus/6-9\" target=\"_other\">http://data.doremus.org/expression/759c5134-5a07-39ad-bf65-5248480815c2/opus/6-9</a></td>\n",
       "<td class=val>34320</td>\n",
       "<td class=val><a href=\"http://data.doremus.org/ontology#M2_Opus_Statement\" target=\"_other\">http://data.doremus.org/ontology#M2_Opus_Statement</a></td></tr><tr class=even><td class=val><a href=\"http://data.doremus.org/expression/0365e9db-29c2-3255-8c3a-d5d4ce7e844e/catalog/ČS_22\" target=\"_other\">http://data.doremus.org/expression/0365e9db-29c2-3255-8c3a-d5d4ce7e844e/catalog/ČS_22</a></td>\n",
       "<td class=val>33461</td>\n",
       "<td class=val><a href=\"http://data.doremus.org/ontology#M1_Catalogue_Statement\" target=\"_other\">http://data.doremus.org/ontology#M1_Catalogue_Statement</a></td></tr></table><div class=\"tinfo\">Total: 50, Shown: 50</div></div>"
      ]
     },
     "metadata": {},
     "output_type": "display_data"
    }
   ],
   "source": [
    "SELECT (SAMPLE(?s) AS ?sample) (COUNT(1) AS ?n) (?Concept AS ?entityType) \n",
    "WHERE {\n",
    "\n",
    "    ?s a ?Concept .\n",
    "    FILTER(isIri(?s)) .\n",
    "}\n",
    "GROUP BY ?Concept\n",
    "ORDER BY DESC(?n)\n",
    "LIMIT 50"
   ]
  },
  {
   "cell_type": "markdown",
   "metadata": {},
   "source": [
    "### 2.1.4 Get all classes/concepts with a given prefix/namespace"
   ]
  },
  {
   "cell_type": "markdown",
   "metadata": {},
   "source": [
    "#### Explanation\n",
    "\n",
    "see also: https://codyburleson.com/sparql-examples-select/ \n",
    "\n",
    "`FILTER( STRSTARTS(STR(?Concept),str(owl:)) )`       = filter out only those solutions for the variable `?Concept`  that start with the given string `owl:` (try to replace with `foaf:`, `rdfs:`, `mo:` or others)"
   ]
  },
  {
   "cell_type": "code",
   "execution_count": 248,
   "metadata": {},
   "outputs": [
    {
     "data": {
      "text/html": [
       "<div class=\"krn-spql\"><table><tr class=hdr><th>Concept</th></tr><tr class=odd><td class=val><a href=\"http://www.w3.org/2002/07/owl#InverseFunctionalProperty\" target=\"_other\">http://www.w3.org/2002/07/owl#InverseFunctionalProperty</a></td></tr><tr class=even><td class=val><a href=\"http://www.w3.org/2002/07/owl#SymmetricProperty\" target=\"_other\">http://www.w3.org/2002/07/owl#SymmetricProperty</a></td></tr><tr class=odd><td class=val><a href=\"http://www.w3.org/2002/07/owl#FunctionalProperty\" target=\"_other\">http://www.w3.org/2002/07/owl#FunctionalProperty</a></td></tr><tr class=even><td class=val><a href=\"http://www.w3.org/2002/07/owl#TransitiveProperty\" target=\"_other\">http://www.w3.org/2002/07/owl#TransitiveProperty</a></td></tr><tr class=odd><td class=val><a href=\"http://www.w3.org/2002/07/owl#Class\" target=\"_other\">http://www.w3.org/2002/07/owl#Class</a></td></tr><tr class=even><td class=val><a href=\"http://www.w3.org/2002/07/owl#Ontology\" target=\"_other\">http://www.w3.org/2002/07/owl#Ontology</a></td></tr><tr class=odd><td class=val><a href=\"http://www.w3.org/2002/07/owl#OntologyProperty\" target=\"_other\">http://www.w3.org/2002/07/owl#OntologyProperty</a></td></tr><tr class=even><td class=val><a href=\"http://www.w3.org/2002/07/owl#AnnotationProperty\" target=\"_other\">http://www.w3.org/2002/07/owl#AnnotationProperty</a></td></tr><tr class=odd><td class=val><a href=\"http://www.w3.org/2002/07/owl#Restriction\" target=\"_other\">http://www.w3.org/2002/07/owl#Restriction</a></td></tr><tr class=even><td class=val><a href=\"http://www.w3.org/2002/07/owl#ObjectProperty\" target=\"_other\">http://www.w3.org/2002/07/owl#ObjectProperty</a></td></tr><tr class=odd><td class=val><a href=\"http://www.w3.org/2002/07/owl#DatatypeProperty\" target=\"_other\">http://www.w3.org/2002/07/owl#DatatypeProperty</a></td></tr><tr class=even><td class=val><a href=\"http://www.w3.org/2002/07/owl#NamedIndividual\" target=\"_other\">http://www.w3.org/2002/07/owl#NamedIndividual</a></td></tr><tr class=odd><td class=val><a href=\"http://www.w3.org/2002/07/owl#inverseFunctionalProperty\" target=\"_other\">http://www.w3.org/2002/07/owl#inverseFunctionalProperty</a></td></tr><tr class=even><td class=val><a href=\"http://www.w3.org/2002/07/owl#SymmetricObjectProperty\" target=\"_other\">http://www.w3.org/2002/07/owl#SymmetricObjectProperty</a></td></tr></table><div class=\"tinfo\">Total: 14, Shown: 14</div></div>"
      ]
     },
     "metadata": {},
     "output_type": "display_data"
    }
   ],
   "source": [
    "PREFIX doremus: <http://data.doremus.org/ontology#>\n",
    "PREFIX ecrm: <http://erlangen-crm.org/current/>\n",
    "PREFIX foaf: <http://xmlns.com/foaf/0.1/>\n",
    "PREFIX mo: <http://purl.org/ontology/mo/>\n",
    "PREFIX owl: <http://www.w3.org/2002/07/owl#>\n",
    "PREFIX prov: <http://www.w3.org/ns/prov#>\n",
    "PREFIX rdf: <http://www.w3.org/1999/02/22-rdf-syntax-ns#>\n",
    "PREFIX rdfs: <http://www.w3.org/2000/01/rdf-schema#>\n",
    "\n",
    "\n",
    "SELECT DISTINCT ?Concept\n",
    "WHERE {\n",
    "    \n",
    "     [] a ?Concept .\n",
    "     FILTER( STRSTARTS(STR(?Concept),str(owl:)) )\n",
    "    \n",
    "}\n",
    "LIMIT 50"
   ]
  },
  {
   "cell_type": "markdown",
   "metadata": {},
   "source": [
    "### 2.1.5 Get and count the namespaces of all classes/concepts used in the dataset"
   ]
  },
  {
   "cell_type": "markdown",
   "metadata": {},
   "source": [
    "#### Explanation\n",
    "\n",
    "see also: https://stackoverflow.com/a/20054523\n",
    "\n",
    "`COUNT (DISTINCT ?Concept)` = count only distinct values bound to variable `?Concept`, i.e. make sure all occurences of classes/concepts are counted only once\n",
    "\n",
    "`REPLACE(str(?Concept), \"(#|/)[^#/]*$\", \"$1\")` = REGEX expression that is used to remove the individual class name from the namespaces bound to `?Concept`\n",
    "\n",
    "`BIND(… AS ?ns)` = binds the result of the regex replacement to the variable `?ns`"
   ]
  },
  {
   "cell_type": "code",
   "execution_count": null,
   "metadata": {},
   "outputs": [],
   "source": [
    "SELECT ?ns (COUNT (DISTINCT ?Concept) AS ?nsCount)\n",
    "WHERE   \n",
    "{ \n",
    "   [] a ?Concept .\n",
    "   BIND(REPLACE(str(?Concept), \"(#|/)[^#/]*$\", \"$1\") AS ?ns)\n",
    " \n",
    "}\n",
    "ORDER BY DESC(?nsCount)\n",
    "LIMIT 50"
   ]
  },
  {
   "cell_type": "markdown",
   "metadata": {},
   "source": [
    "##  2.2 Exploring an unknown dataset – Properties"
   ]
  },
  {
   "cell_type": "markdown",
   "metadata": {},
   "source": [
    "### 2.2.0 Get all properties used in the dataset"
   ]
  },
  {
   "cell_type": "markdown",
   "metadata": {},
   "source": [
    "#### Explanation\n",
    "\n",
    "see above for classes/concepts"
   ]
  },
  {
   "cell_type": "code",
   "execution_count": 230,
   "metadata": {},
   "outputs": [
    {
     "data": {
      "text/html": [
       "<div class=\"krn-spql\"><table><tr class=hdr><th>p</th></tr><tr class=odd><td class=val><a href=\"http://purl.org/NET/c4dm/event.owl#Place\" target=\"_other\">http://purl.org/NET/c4dm/event.owl#Place</a></td></tr><tr class=even><td class=val><a href=\"http://purl.org/NET/c4dm/event.owl#time\" target=\"_other\">http://purl.org/NET/c4dm/event.owl#time</a></td></tr><tr class=odd><td class=val><a href=\"http://purl.org/dc/terms/identifier\" target=\"_other\">http://purl.org/dc/terms/identifier</a></td></tr><tr class=even><td class=val><a href=\"http://purl.org/dc/terms/isPartOf\" target=\"_other\">http://purl.org/dc/terms/isPartOf</a></td></tr><tr class=odd><td class=val><a href=\"http://purl.org/dc/terms/references\" target=\"_other\">http://purl.org/dc/terms/references</a></td></tr><tr class=even><td class=val><a href=\"http://purl.org/dc/terms/title\" target=\"_other\">http://purl.org/dc/terms/title</a></td></tr><tr class=odd><td class=val><a href=\"http://purl.org/ontology/similarity/Object\" target=\"_other\">http://purl.org/ontology/similarity/Object</a></td></tr><tr class=even><td class=val><a href=\"http://purl.org/ontology/similarity/Subject\" target=\"_other\">http://purl.org/ontology/similarity/Subject</a></td></tr><tr class=odd><td class=val><a href=\"http://purl.org/ontology/similarity/distance\" target=\"_other\">http://purl.org/ontology/similarity/distance</a></td></tr><tr class=even><td class=val><a href=\"http://purl.org/ontology/similarity/method\" target=\"_other\">http://purl.org/ontology/similarity/method</a></td></tr><tr class=odd><td class=val><a href=\"http://purl.org/vocab/frbr/core#creator\" target=\"_other\">http://purl.org/vocab/frbr/core#creator</a></td></tr><tr class=even><td class=val><a href=\"http://slickmem.data.t-mus.org/terms/cataloguePlaceString\" target=\"_other\">http://slickmem.data.t-mus.org/terms/cataloguePlaceString</a></td></tr><tr class=odd><td class=val><a href=\"http://slickmem.data.t-mus.org/terms/creation-date\" target=\"_other\">http://slickmem.data.t-mus.org/terms/creation-date</a></td></tr><tr class=even><td class=val><a href=\"http://slickmem.data.t-mus.org/terms/database\" target=\"_other\">http://slickmem.data.t-mus.org/terms/database</a></td></tr><tr class=odd><td class=val><a href=\"http://slickmem.data.t-mus.org/terms/shelfmark\" target=\"_other\">http://slickmem.data.t-mus.org/terms/shelfmark</a></td></tr><tr class=even><td class=val><a href=\"http://www.bl.uk/schemas/bibliographic/blterms#publication\" target=\"_other\">http://www.bl.uk/schemas/bibliographic/blterms#publication</a></td></tr><tr class=odd><td class=val><a href=\"http://www.w3.org/1999/02/22-rdf-syntax-ns#type\" target=\"_other\">http://www.w3.org/1999/02/22-rdf-syntax-ns#type</a></td></tr><tr class=even><td class=val><a href=\"http://www.w3.org/2000/01/rdf-schema#label\" target=\"_other\">http://www.w3.org/2000/01/rdf-schema#label</a></td></tr><tr class=odd><td class=val><a href=\"http://www.w3.org/2000/01/rdf-schema#subClassOf\" target=\"_other\">http://www.w3.org/2000/01/rdf-schema#subClassOf</a></td></tr><tr class=even><td class=val><a href=\"http://xmlns.com/foaf/0.1/depiction\" target=\"_other\">http://xmlns.com/foaf/0.1/depiction</a></td></tr><tr class=odd><td class=val><a href=\"http://xmlns.com/foaf/0.1/homepage\" target=\"_other\">http://xmlns.com/foaf/0.1/homepage</a></td></tr><tr class=even><td class=val><a href=\"http://xmlns.com/foaf/0.1/maker\" target=\"_other\">http://xmlns.com/foaf/0.1/maker</a></td></tr></table><div class=\"tinfo\">Total: 22, Shown: 22</div></div>"
      ]
     },
     "metadata": {},
     "output_type": "display_data"
    }
   ],
   "source": [
    "SELECT DISTINCT ?p\n",
    "WHERE   \n",
    "{ \n",
    "   \n",
    "    ?s ?p ?o .\n",
    " \n",
    "}\n",
    "ORDER BY ?p\n",
    "LIMIT 50"
   ]
  },
  {
   "cell_type": "markdown",
   "metadata": {},
   "source": [
    "### 2.2.1 Get total number of properties used in the dataset"
   ]
  },
  {
   "cell_type": "markdown",
   "metadata": {},
   "source": [
    "#### Explanation\n",
    "\n",
    "`(COUNT(DISTINCT ?p)`= count number of distinct values bound to variable `?p`"
   ]
  },
  {
   "cell_type": "code",
   "execution_count": 231,
   "metadata": {},
   "outputs": [
    {
     "data": {
      "text/html": [
       "<div class=\"krn-spql\"><table><tr class=hdr><th>pCount</th></tr><tr class=odd><td class=val>22</td></tr></table><div class=\"tinfo\">Total: 1, Shown: 1</div></div>"
      ]
     },
     "metadata": {},
     "output_type": "display_data"
    }
   ],
   "source": [
    "SELECT (COUNT(DISTINCT ?p) as ?pCount)\n",
    "WHERE   \n",
    "{ \n",
    "   \n",
    "    ?s ?p ?o .\n",
    " \n",
    "}\n",
    "LIMIT 50"
   ]
  },
  {
   "cell_type": "markdown",
   "metadata": {},
   "source": [
    "### 2.2.2 Get properties with a given prefix/namespace"
   ]
  },
  {
   "cell_type": "markdown",
   "metadata": {},
   "source": [
    "#### Explanation\n",
    "\n",
    "see above for classes/concepts\n",
    "\n",
    " `FILTER( STRSTARTS(STR(?Concept),str(owl:)) )`       = filter out only those solutions for the variable `?Concept`  that start with the given string `owl:` (try to replace with `foaf:`, `rdfs:`, or `mo:`)"
   ]
  },
  {
   "cell_type": "code",
   "execution_count": 232,
   "metadata": {},
   "outputs": [
    {
     "data": {
      "text/html": [
       "<div class=\"krn-spql\"><table><tr class=hdr><th>p</th></tr></table><div class=\"tinfo\">Total: 0, Shown: 0</div></div>"
      ]
     },
     "metadata": {},
     "output_type": "display_data"
    }
   ],
   "source": [
    "PREFIX foaf: <http://xmlns.com/foaf/0.1/>\n",
    "PREFIX mo: <http://purl.org/ontology/mo/>\n",
    "PREFIX owl: <http://www.w3.org/2002/07/owl#>\n",
    "PREFIX rdf: <http://www.w3.org/1999/02/22-rdf-syntax-ns#>\n",
    "PREFIX rdfs: <http://www.w3.org/2000/01/rdf-schema#>\n",
    "\n",
    "\n",
    "SELECT DISTINCT ?p\n",
    "WHERE {\n",
    "    \n",
    "     ?s ?p ?o .\n",
    "     FILTER( STRSTARTS(STR(?p),str(owl:)) )\n",
    "    \n",
    "}\n",
    "LIMIT 50"
   ]
  },
  {
   "cell_type": "markdown",
   "metadata": {},
   "source": [
    " "
   ]
  },
  {
   "cell_type": "markdown",
   "metadata": {},
   "source": [
    "### 2.2.3 Get and count the namespaces of all properties used in the dataset"
   ]
  },
  {
   "cell_type": "markdown",
   "metadata": {},
   "source": [
    "#### Explanation\n",
    "\n",
    "see also: https://stackoverflow.com/a/20054523\n",
    "\n",
    "`COUNT (DISTINCT ?Concept)` = count only distinct values bound to variable `?Concept`, i.e. make sure all occurences of classes/concepts are counted only once\n",
    "\n",
    "`REPLACE(str(?Concept), \"(#|/)[^#/]*$\", \"$1\")` = REGEX expression that is used to remove the individual class name from the namespaces bound to `?Concept`\n",
    "\n",
    "`BIND(… AS ?ns)` = binds the result of the regex replacement to the variable `?ns`"
   ]
  },
  {
   "cell_type": "code",
   "execution_count": 233,
   "metadata": {},
   "outputs": [
    {
     "data": {
      "text/html": [
       "<div class=\"krn-spql\"><div class=\"krn-error\"><span class=\"title\">Error:</span> SPARQL error: QueryBadFormed: a bad request has been sent to the endpoint, probably the sparql query is bad formed. <br/><br/>Response:<br/>b'SPARQL-QUERY: queryStr=SELECT ?ns (COUNT (DISTINCT ?p) AS ?nsCount)\\nWHERE   \\n{ \\n   ?s ?p ?o .\\n   BIND(REPLACE(str(?p), &quot;(#|/)[^#/]*$&quot;, &quot;$1&quot;) AS ?ns)\\n \\n}\\nORDER BY DESC(?nsCount)\\nLIMIT 50\\njava.util.concurrent.ExecutionException: org.openrdf.query.MalformedQueryException: Bad aggregate\\n\\tat java.util.concurrent.FutureTask.report(Unknown Source)\\n\\tat java.util.concurrent.FutureTask.get(Unknown Source)\\n\\tat com.bigdata.rdf.sail.webapp.BigdataServlet.submitApiTask(BigdataServlet.java:281)\\n\\tat com.bigdata.rdf.sail.webapp.QueryServlet.doSparqlQuery(QueryServlet.java:653)\\n\\tat com.bigdata.rdf.sail.webapp.QueryServlet.doGet(QueryServlet.java:288)\\n\\tat com.bigdata.rdf.sail.webapp.RESTServlet.doGet(RESTServlet.java:240)\\n\\tat com.bigdata.rdf.sail.webapp.MultiTenancyServlet.doGet(MultiTenancyServlet.java:271)\\n\\tat javax.servlet.http.HttpServlet.service(HttpServlet.java:687)\\n\\tat javax.servlet.http.HttpServlet.service(HttpServlet.java:790)\\n\\tat org.eclipse.jetty.servlet.ServletHolder.handle(ServletHolder.java:769)\\n\\tat org.eclipse.jetty.servlet.ServletHandler.doHandle(ServletHandler.java:585)\\n\\tat org.eclipse.jetty.server.handler.ScopedHandler.handle(ScopedHandler.java:143)\\n\\tat org.eclipse.jetty.security.SecurityHandler.handle(SecurityHandler.java:577)\\n\\tat org.eclipse.jetty.server.session.SessionHandler.doHandle(SessionHandler.java:223)\\n\\tat org.eclipse.jetty.server.handler.ContextHandler.doHandle(ContextHandler.java:1125)\\n\\tat org.eclipse.jetty.servlet.ServletHandler.doScope(ServletHandler.java:515)\\n\\tat org.eclipse.jetty.server.session.SessionHandler.doScope(SessionHandler.java:185)\\n\\tat org.eclipse.jetty.server.handler.ContextHandler.doScope(ContextHandler.java:1059)\\n\\tat org.eclipse.jetty.server.handler.ScopedHandler.handle(ScopedHandler.java:141)\\n\\tat org.eclipse.jetty.server.handler.ContextHandlerCollection.handle(ContextHandlerCollection.java:215)\\n\\tat org.eclipse.jetty.server.handler.HandlerCollection.handle(HandlerCollection.java:110)\\n\\tat org.eclipse.jetty.server.handler.HandlerWrapper.handle(HandlerWrapper.java:97)\\n\\tat org.eclipse.jetty.server.Server.handle(Server.java:497)\\n\\tat org.eclipse.jetty.server.HttpChannel.handle(HttpChannel.java:311)\\n\\tat org.eclipse.jetty.server.HttpConnection.onFillable(HttpConnection.java:248)\\n\\tat org.eclipse.jetty.io.AbstractConnection$2.run(AbstractConnection.java:540)\\n\\tat org.eclipse.jetty.util.thread.QueuedThreadPool.runJob(QueuedThreadPool.java:610)\\n\\tat org.eclipse.jetty.util.thread.QueuedThreadPool$3.run(QueuedThreadPool.java:539)\\n\\tat java.lang.Thread.run(Unknown Source)\\nCaused by: org.openrdf.query.MalformedQueryException: Bad aggregate\\n\\tat com.bigdata.rdf.sail.sparql.Bigdata2ASTSPARQLParser.parseQuery2(Bigdata2ASTSPARQLParser.java:396)\\n\\tat com.bigdata.rdf.sail.webapp.QueryServlet$SparqlQueryTask.call(QueryServlet.java:716)\\n\\tat com.bigdata.rdf.sail.webapp.QueryServlet$SparqlQueryTask.call(QueryServlet.java:670)\\n\\tat com.bigdata.rdf.task.ApiTaskForIndexManager.call(ApiTaskForIndexManager.java:68)\\n\\tat java.util.concurrent.FutureTask.run(Unknown Source)\\n\\tat java.util.concurrent.ThreadPoolExecutor.runWorker(Unknown Source)\\n\\tat java.util.concurrent.ThreadPoolExecutor$Worker.run(Unknown Source)\\n\\t... 1 more\\nCaused by: com.bigdata.rdf.sail.sparql.ast.VisitorException: Bad aggregate\\n\\tat com.bigdata.rdf.sail.sparql.VerifyAggregates.verifyAggregate(VerifyAggregates.java:603)\\n\\tat com.bigdata.rdf.sail.sparql.Bigdata2ASTSPARQLParser.parseQuery2(Bigdata2ASTSPARQLParser.java:384)\\n\\t... 7 more\\nCaused by: java.lang.IllegalArgumentException: Non-aggregate variable in select expression: ns\\n\\tat com.bigdata.rdf.sail.sparql.VerifyAggregates.isAggregate(VerifyAggregates.java:494)\\n\\tat com.bigdata.rdf.sail.sparql.VerifyAggregates.isAggregate(VerifyAggregates.java:429)\\n\\tat com.bigdata.rdf.sail.sparql.VerifyAggregates.&lt;init&gt;(VerifyAggregates.java:252)\\n\\tat com.bigdata.rdf.sail.sparql.VerifyAggregates.verifyAggregate(VerifyAggregates.java:599)\\n\\t... 8 more\\n'</div></div>"
      ],
      "text/plain": [
       "Error: SPARQL error: QueryBadFormed: a bad request has been sent to the endpoint, probably the sparql query is bad formed. \n",
       "\n",
       "Response:\n",
       "b'SPARQL-QUERY: queryStr=SELECT ?ns (COUNT (DISTINCT ?p) AS ?nsCount)\\nWHERE   \\n{ \\n   ?s ?p ?o .\\n   BIND(REPLACE(str(?p), \"(#|/)[^#/]*$\", \"$1\") AS ?ns)\\n \\n}\\nORDER BY DESC(?nsCount)\\nLIMIT 50\\njava.util.concurrent.ExecutionException: org.openrdf.query.MalformedQueryException: Bad aggregate\\n\\tat java.util.concurrent.FutureTask.report(Unknown Source)\\n\\tat java.util.concurrent.FutureTask.get(Unknown Source)\\n\\tat com.bigdata.rdf.sail.webapp.BigdataServlet.submitApiTask(BigdataServlet.java:281)\\n\\tat com.bigdata.rdf.sail.webapp.QueryServlet.doSparqlQuery(QueryServlet.java:653)\\n\\tat com.bigdata.rdf.sail.webapp.QueryServlet.doGet(QueryServlet.java:288)\\n\\tat com.bigdata.rdf.sail.webapp.RESTServlet.doGet(RESTServlet.java:240)\\n\\tat com.bigdata.rdf.sail.webapp.MultiTenancyServlet.doGet(MultiTenancyServlet.java:271)\\n\\tat javax.servlet.http.HttpServlet.service(HttpServlet.java:687)\\n\\tat javax.servlet.http.HttpServlet.service(HttpServlet.java:790)\\n\\tat org.eclipse.jetty.servlet.ServletHolder.handle(ServletHolder.java:769)\\n\\tat org.eclipse.jetty.servlet.ServletHandler.doHandle(ServletHandler.java:585)\\n\\tat org.eclipse.jetty.server.handler.ScopedHandler.handle(ScopedHandler.java:143)\\n\\tat org.eclipse.jetty.security.SecurityHandler.handle(SecurityHandler.java:577)\\n\\tat org.eclipse.jetty.server.session.SessionHandler.doHandle(SessionHandler.java:223)\\n\\tat org.eclipse.jetty.server.handler.ContextHandler.doHandle(ContextHandler.java:1125)\\n\\tat org.eclipse.jetty.servlet.ServletHandler.doScope(ServletHandler.java:515)\\n\\tat org.eclipse.jetty.server.session.SessionHandler.doScope(SessionHandler.java:185)\\n\\tat org.eclipse.jetty.server.handler.ContextHandler.doScope(ContextHandler.java:1059)\\n\\tat org.eclipse.jetty.server.handler.ScopedHandler.handle(ScopedHandler.java:141)\\n\\tat org.eclipse.jetty.server.handler.ContextHandlerCollection.handle(ContextHandlerCollection.java:215)\\n\\tat org.eclipse.jetty.server.handler.HandlerCollection.handle(HandlerCollection.java:110)\\n\\tat org.eclipse.jetty.server.handler.HandlerWrapper.handle(HandlerWrapper.java:97)\\n\\tat org.eclipse.jetty.server.Server.handle(Server.java:497)\\n\\tat org.eclipse.jetty.server.HttpChannel.handle(HttpChannel.java:311)\\n\\tat org.eclipse.jetty.server.HttpConnection.onFillable(HttpConnection.java:248)\\n\\tat org.eclipse.jetty.io.AbstractConnection$2.run(AbstractConnection.java:540)\\n\\tat org.eclipse.jetty.util.thread.QueuedThreadPool.runJob(QueuedThreadPool.java:610)\\n\\tat org.eclipse.jetty.util.thread.QueuedThreadPool$3.run(QueuedThreadPool.java:539)\\n\\tat java.lang.Thread.run(Unknown Source)\\nCaused by: org.openrdf.query.MalformedQueryException: Bad aggregate\\n\\tat com.bigdata.rdf.sail.sparql.Bigdata2ASTSPARQLParser.parseQuery2(Bigdata2ASTSPARQLParser.java:396)\\n\\tat com.bigdata.rdf.sail.webapp.QueryServlet$SparqlQueryTask.call(QueryServlet.java:716)\\n\\tat com.bigdata.rdf.sail.webapp.QueryServlet$SparqlQueryTask.call(QueryServlet.java:670)\\n\\tat com.bigdata.rdf.task.ApiTaskForIndexManager.call(ApiTaskForIndexManager.java:68)\\n\\tat java.util.concurrent.FutureTask.run(Unknown Source)\\n\\tat java.util.concurrent.ThreadPoolExecutor.runWorker(Unknown Source)\\n\\tat java.util.concurrent.ThreadPoolExecutor$Worker.run(Unknown Source)\\n\\t... 1 more\\nCaused by: com.bigdata.rdf.sail.sparql.ast.VisitorException: Bad aggregate\\n\\tat com.bigdata.rdf.sail.sparql.VerifyAggregates.verifyAggregate(VerifyAggregates.java:603)\\n\\tat com.bigdata.rdf.sail.sparql.Bigdata2ASTSPARQLParser.parseQuery2(Bigdata2ASTSPARQLParser.java:384)\\n\\t... 7 more\\nCaused by: java.lang.IllegalArgumentException: Non-aggregate variable in select expression: ns\\n\\tat com.bigdata.rdf.sail.sparql.VerifyAggregates.isAggregate(VerifyAggregates.java:494)\\n\\tat com.bigdata.rdf.sail.sparql.VerifyAggregates.isAggregate(VerifyAggregates.java:429)\\n\\tat com.bigdata.rdf.sail.sparql.VerifyAggregates.<init>(VerifyAggregates.java:252)\\n\\tat com.bigdata.rdf.sail.sparql.VerifyAggregates.verifyAggregate(VerifyAggregates.java:599)\\n\\t... 8 more\\n'"
      ]
     },
     "metadata": {},
     "output_type": "display_data"
    }
   ],
   "source": [
    "SELECT ?ns (COUNT (DISTINCT ?p) AS ?nsCount)\n",
    "WHERE   \n",
    "{ \n",
    "   ?s ?p ?o .\n",
    "   BIND(REPLACE(str(?p), \"(#|/)[^#/]*$\", \"$1\") AS ?ns)\n",
    " \n",
    "}\n",
    "ORDER BY DESC(?nsCount)\n",
    "LIMIT 50"
   ]
  },
  {
   "cell_type": "markdown",
   "metadata": {},
   "source": [
    " "
   ]
  },
  {
   "cell_type": "markdown",
   "metadata": {},
   "source": [
    "## 2.3 Exploring a certain class/concept"
   ]
  },
  {
   "cell_type": "markdown",
   "metadata": {},
   "source": [
    "### 2.3.0 Find all persons of the dataset\n"
   ]
  },
  {
   "cell_type": "markdown",
   "metadata": {},
   "source": [
    "Given there are any persons in the dataset at all, make sure that you use the correct entity type when you search for persons. For an overview of the entity types that are used in the dataset see 2.1.2.\n",
    "\n",
    "#### Explanation:\n",
    "\n",
    "`PREFIX foaf: <http://xmlns.com/foaf/0.1/>` = shortcut prefix for the [FOAF](http://xmlns.com/foaf/spec/) vocabulary and namespace\n",
    "\n",
    "`SELECT DISTINCT ?person` = return all unique values bound in the variable `?person` as results\n",
    "\n",
    "`foaf:Person`        = concept of Person from the [FOAF](http://xmlns.com/foaf/spec/) vocabulary (replace with the corresponding Person concept according to your dataset)"
   ]
  },
  {
   "cell_type": "code",
   "execution_count": 234,
   "metadata": {},
   "outputs": [
    {
     "data": {
      "text/html": [
       "<div class=\"krn-spql\"><table><tr class=hdr><th>person</th></tr><tr class=odd><td class=val><a href=\"http://slickmem.data.t-mus.org/resource/person/0-031de0b0a1a9012e8330fd1cbfbf31ec\" target=\"_other\">http://slickmem.data.t-mus.org/resource/person/0-031de0b0a1a9012e8330fd1cbfbf31ec</a></td></tr><tr class=even><td class=val><a href=\"http://slickmem.data.t-mus.org/resource/person/0-032138f0a1a9012e8330fd1cbfbf31ec\" target=\"_other\">http://slickmem.data.t-mus.org/resource/person/0-032138f0a1a9012e8330fd1cbfbf31ec</a></td></tr><tr class=odd><td class=val><a href=\"http://slickmem.data.t-mus.org/resource/person/0-0323b780a1a9012e8330fd1cbfbf31ec\" target=\"_other\">http://slickmem.data.t-mus.org/resource/person/0-0323b780a1a9012e8330fd1cbfbf31ec</a></td></tr><tr class=even><td class=val><a href=\"http://slickmem.data.t-mus.org/resource/person/0-0325dd40a1a9012e8330fd1cbfbf31ec\" target=\"_other\">http://slickmem.data.t-mus.org/resource/person/0-0325dd40a1a9012e8330fd1cbfbf31ec</a></td></tr><tr class=odd><td class=val><a href=\"http://slickmem.data.t-mus.org/resource/person/0-0327b1c0a1a9012e8330fd1cbfbf31ec\" target=\"_other\">http://slickmem.data.t-mus.org/resource/person/0-0327b1c0a1a9012e8330fd1cbfbf31ec</a></td></tr><tr class=even><td class=val><a href=\"http://slickmem.data.t-mus.org/resource/person/0-058379b0812d012e5dbbf9745bb22b7e\" target=\"_other\">http://slickmem.data.t-mus.org/resource/person/0-058379b0812d012e5dbbf9745bb22b7e</a></td></tr><tr class=odd><td class=val><a href=\"http://slickmem.data.t-mus.org/resource/person/0-0c0bccc081cc012e5dbbf9745bb22b7e\" target=\"_other\">http://slickmem.data.t-mus.org/resource/person/0-0c0bccc081cc012e5dbbf9745bb22b7e</a></td></tr><tr class=even><td class=val><a href=\"http://slickmem.data.t-mus.org/resource/person/0-0e5f0560812b012e5dbbf9745bb22b7e\" target=\"_other\">http://slickmem.data.t-mus.org/resource/person/0-0e5f0560812b012e5dbbf9745bb22b7e</a></td></tr><tr class=odd><td class=val><a href=\"http://slickmem.data.t-mus.org/resource/person/0-11eac6308132012e5dbbf9745bb22b7e\" target=\"_other\">http://slickmem.data.t-mus.org/resource/person/0-11eac6308132012e5dbbf9745bb22b7e</a></td></tr><tr class=even><td class=val><a href=\"http://slickmem.data.t-mus.org/resource/person/0-17d2c950a1a7012e8330fd1cbfbf31ec\" target=\"_other\">http://slickmem.data.t-mus.org/resource/person/0-17d2c950a1a7012e8330fd1cbfbf31ec</a></td></tr><tr class=odd><td class=val><a href=\"http://slickmem.data.t-mus.org/resource/person/0-17d624e0a1a7012e8330fd1cbfbf31ec\" target=\"_other\">http://slickmem.data.t-mus.org/resource/person/0-17d624e0a1a7012e8330fd1cbfbf31ec</a></td></tr><tr class=even><td class=val><a href=\"http://slickmem.data.t-mus.org/resource/person/0-17d95620a1a7012e8330fd1cbfbf31ec\" target=\"_other\">http://slickmem.data.t-mus.org/resource/person/0-17d95620a1a7012e8330fd1cbfbf31ec</a></td></tr><tr class=odd><td class=val><a href=\"http://slickmem.data.t-mus.org/resource/person/0-18ad26e08168012e5dbbf9745bb22b7e\" target=\"_other\">http://slickmem.data.t-mus.org/resource/person/0-18ad26e08168012e5dbbf9745bb22b7e</a></td></tr><tr class=even><td class=val><a href=\"http://slickmem.data.t-mus.org/resource/person/0-18eccb3081ba012e5dbbf9745bb22b7e\" target=\"_other\">http://slickmem.data.t-mus.org/resource/person/0-18eccb3081ba012e5dbbf9745bb22b7e</a></td></tr><tr class=odd><td class=val><a href=\"http://slickmem.data.t-mus.org/resource/person/0-1905b500a1a7012e8330fd1cbfbf31ec\" target=\"_other\">http://slickmem.data.t-mus.org/resource/person/0-1905b500a1a7012e8330fd1cbfbf31ec</a></td></tr><tr class=even><td class=val><a href=\"http://slickmem.data.t-mus.org/resource/person/0-190a3d80a1a7012e8330fd1cbfbf31ec\" target=\"_other\">http://slickmem.data.t-mus.org/resource/person/0-190a3d80a1a7012e8330fd1cbfbf31ec</a></td></tr><tr class=odd><td class=val><a href=\"http://slickmem.data.t-mus.org/resource/person/0-190c0e30a1a7012e8330fd1cbfbf31ec\" target=\"_other\">http://slickmem.data.t-mus.org/resource/person/0-190c0e30a1a7012e8330fd1cbfbf31ec</a></td></tr><tr class=even><td class=val><a href=\"http://slickmem.data.t-mus.org/resource/person/0-19112350a1a7012e8330fd1cbfbf31ec\" target=\"_other\">http://slickmem.data.t-mus.org/resource/person/0-19112350a1a7012e8330fd1cbfbf31ec</a></td></tr><tr class=odd><td class=val><a href=\"http://slickmem.data.t-mus.org/resource/person/0-1a226b00a1a7012e8330fd1cbfbf31ec\" target=\"_other\">http://slickmem.data.t-mus.org/resource/person/0-1a226b00a1a7012e8330fd1cbfbf31ec</a></td></tr><tr class=even><td class=val><a href=\"http://slickmem.data.t-mus.org/resource/person/0-1a2448a0a1a7012e8330fd1cbfbf31ec\" target=\"_other\">http://slickmem.data.t-mus.org/resource/person/0-1a2448a0a1a7012e8330fd1cbfbf31ec</a></td></tr><tr class=odd><td class=val><a href=\"http://slickmem.data.t-mus.org/resource/person/0-1a260710a1a7012e8330fd1cbfbf31ec\" target=\"_other\">http://slickmem.data.t-mus.org/resource/person/0-1a260710a1a7012e8330fd1cbfbf31ec</a></td></tr><tr class=even><td class=val><a href=\"http://slickmem.data.t-mus.org/resource/person/0-1a28c600a1a7012e8330fd1cbfbf31ec\" target=\"_other\">http://slickmem.data.t-mus.org/resource/person/0-1a28c600a1a7012e8330fd1cbfbf31ec</a></td></tr><tr class=odd><td class=val><a href=\"http://slickmem.data.t-mus.org/resource/person/0-1a2a6810a1a7012e8330fd1cbfbf31ec\" target=\"_other\">http://slickmem.data.t-mus.org/resource/person/0-1a2a6810a1a7012e8330fd1cbfbf31ec</a></td></tr><tr class=even><td class=val><a href=\"http://slickmem.data.t-mus.org/resource/person/0-1a2c1990a1a7012e8330fd1cbfbf31ec\" target=\"_other\">http://slickmem.data.t-mus.org/resource/person/0-1a2c1990a1a7012e8330fd1cbfbf31ec</a></td></tr><tr class=odd><td class=val><a href=\"http://slickmem.data.t-mus.org/resource/person/0-1a331180a1a7012e8330fd1cbfbf31ec\" target=\"_other\">http://slickmem.data.t-mus.org/resource/person/0-1a331180a1a7012e8330fd1cbfbf31ec</a></td></tr><tr class=even><td class=val><a href=\"http://slickmem.data.t-mus.org/resource/person/0-1a3586c0a1a7012e8330fd1cbfbf31ec\" target=\"_other\">http://slickmem.data.t-mus.org/resource/person/0-1a3586c0a1a7012e8330fd1cbfbf31ec</a></td></tr><tr class=odd><td class=val><a href=\"http://slickmem.data.t-mus.org/resource/person/0-1a37d0d0a1a7012e8330fd1cbfbf31ec\" target=\"_other\">http://slickmem.data.t-mus.org/resource/person/0-1a37d0d0a1a7012e8330fd1cbfbf31ec</a></td></tr><tr class=even><td class=val><a href=\"http://slickmem.data.t-mus.org/resource/person/0-1b94bbe0a1a7012e8330fd1cbfbf31ec\" target=\"_other\">http://slickmem.data.t-mus.org/resource/person/0-1b94bbe0a1a7012e8330fd1cbfbf31ec</a></td></tr><tr class=odd><td class=val><a href=\"http://slickmem.data.t-mus.org/resource/person/0-1cac68f0a1a7012e8330fd1cbfbf31ec\" target=\"_other\">http://slickmem.data.t-mus.org/resource/person/0-1cac68f0a1a7012e8330fd1cbfbf31ec</a></td></tr><tr class=even><td class=val><a href=\"http://slickmem.data.t-mus.org/resource/person/0-1cb56240a1a7012e8330fd1cbfbf31ec\" target=\"_other\">http://slickmem.data.t-mus.org/resource/person/0-1cb56240a1a7012e8330fd1cbfbf31ec</a></td></tr><tr class=odd><td class=val><a href=\"http://slickmem.data.t-mus.org/resource/person/0-1cca1630a1a7012e8330fd1cbfbf31ec\" target=\"_other\">http://slickmem.data.t-mus.org/resource/person/0-1cca1630a1a7012e8330fd1cbfbf31ec</a></td></tr><tr class=even><td class=val><a href=\"http://slickmem.data.t-mus.org/resource/person/0-1ccbf690a1a7012e8330fd1cbfbf31ec\" target=\"_other\">http://slickmem.data.t-mus.org/resource/person/0-1ccbf690a1a7012e8330fd1cbfbf31ec</a></td></tr><tr class=odd><td class=val><a href=\"http://slickmem.data.t-mus.org/resource/person/0-1ccca770a1aa012e8330fd1cbfbf31ec\" target=\"_other\">http://slickmem.data.t-mus.org/resource/person/0-1ccca770a1aa012e8330fd1cbfbf31ec</a></td></tr><tr class=even><td class=val><a href=\"http://slickmem.data.t-mus.org/resource/person/0-1cce8d40a1aa012e8330fd1cbfbf31ec\" target=\"_other\">http://slickmem.data.t-mus.org/resource/person/0-1cce8d40a1aa012e8330fd1cbfbf31ec</a></td></tr><tr class=odd><td class=val><a href=\"http://slickmem.data.t-mus.org/resource/person/0-1ccedac0a1a7012e8330fd1cbfbf31ec\" target=\"_other\">http://slickmem.data.t-mus.org/resource/person/0-1ccedac0a1a7012e8330fd1cbfbf31ec</a></td></tr><tr class=even><td class=val><a href=\"http://slickmem.data.t-mus.org/resource/person/0-1cd05e70a1aa012e8330fd1cbfbf31ec\" target=\"_other\">http://slickmem.data.t-mus.org/resource/person/0-1cd05e70a1aa012e8330fd1cbfbf31ec</a></td></tr><tr class=odd><td class=val><a href=\"http://slickmem.data.t-mus.org/resource/person/0-1cd25170a1aa012e8330fd1cbfbf31ec\" target=\"_other\">http://slickmem.data.t-mus.org/resource/person/0-1cd25170a1aa012e8330fd1cbfbf31ec</a></td></tr><tr class=even><td class=val><a href=\"http://slickmem.data.t-mus.org/resource/person/0-1dd4dfa0a1aa012e8330fd1cbfbf31ec\" target=\"_other\">http://slickmem.data.t-mus.org/resource/person/0-1dd4dfa0a1aa012e8330fd1cbfbf31ec</a></td></tr><tr class=odd><td class=val><a href=\"http://slickmem.data.t-mus.org/resource/person/0-1dd83ba0a1aa012e8330fd1cbfbf31ec\" target=\"_other\">http://slickmem.data.t-mus.org/resource/person/0-1dd83ba0a1aa012e8330fd1cbfbf31ec</a></td></tr><tr class=even><td class=val><a href=\"http://slickmem.data.t-mus.org/resource/person/0-1def5510a1a7012e8330fd1cbfbf31ec\" target=\"_other\">http://slickmem.data.t-mus.org/resource/person/0-1def5510a1a7012e8330fd1cbfbf31ec</a></td></tr><tr class=odd><td class=val><a href=\"http://slickmem.data.t-mus.org/resource/person/0-1df5ea50a1a7012e8330fd1cbfbf31ec\" target=\"_other\">http://slickmem.data.t-mus.org/resource/person/0-1df5ea50a1a7012e8330fd1cbfbf31ec</a></td></tr><tr class=even><td class=val><a href=\"http://slickmem.data.t-mus.org/resource/person/0-1df79960a1a7012e8330fd1cbfbf31ec\" target=\"_other\">http://slickmem.data.t-mus.org/resource/person/0-1df79960a1a7012e8330fd1cbfbf31ec</a></td></tr><tr class=odd><td class=val><a href=\"http://slickmem.data.t-mus.org/resource/person/0-1edd9a60a1aa012e8330fd1cbfbf31ec\" target=\"_other\">http://slickmem.data.t-mus.org/resource/person/0-1edd9a60a1aa012e8330fd1cbfbf31ec</a></td></tr><tr class=even><td class=val><a href=\"http://slickmem.data.t-mus.org/resource/person/0-1f135ca0a1a7012e8330fd1cbfbf31ec\" target=\"_other\">http://slickmem.data.t-mus.org/resource/person/0-1f135ca0a1a7012e8330fd1cbfbf31ec</a></td></tr><tr class=odd><td class=val><a href=\"http://slickmem.data.t-mus.org/resource/person/0-1f162dd0a1a7012e8330fd1cbfbf31ec\" target=\"_other\">http://slickmem.data.t-mus.org/resource/person/0-1f162dd0a1a7012e8330fd1cbfbf31ec</a></td></tr><tr class=even><td class=val><a href=\"http://slickmem.data.t-mus.org/resource/person/0-1ffc14b0a1aa012e8330fd1cbfbf31ec\" target=\"_other\">http://slickmem.data.t-mus.org/resource/person/0-1ffc14b0a1aa012e8330fd1cbfbf31ec</a></td></tr><tr class=odd><td class=val><a href=\"http://slickmem.data.t-mus.org/resource/person/0-204c96a0a1a7012e8330fd1cbfbf31ec\" target=\"_other\">http://slickmem.data.t-mus.org/resource/person/0-204c96a0a1a7012e8330fd1cbfbf31ec</a></td></tr><tr class=even><td class=val><a href=\"http://slickmem.data.t-mus.org/resource/person/0-20f89ff0a1aa012e8330fd1cbfbf31ec\" target=\"_other\">http://slickmem.data.t-mus.org/resource/person/0-20f89ff0a1aa012e8330fd1cbfbf31ec</a></td></tr><tr class=odd><td class=val><a href=\"http://slickmem.data.t-mus.org/resource/person/0-215826c0a1a7012e8330fd1cbfbf31ec\" target=\"_other\">http://slickmem.data.t-mus.org/resource/person/0-215826c0a1a7012e8330fd1cbfbf31ec</a></td></tr><tr class=even><td class=val><a href=\"http://slickmem.data.t-mus.org/resource/person/0-215d3b60a1a7012e8330fd1cbfbf31ec\" target=\"_other\">http://slickmem.data.t-mus.org/resource/person/0-215d3b60a1a7012e8330fd1cbfbf31ec</a></td></tr></table><div class=\"tinfo\">Total: 50, Shown: 50</div></div>"
      ]
     },
     "metadata": {},
     "output_type": "display_data"
    }
   ],
   "source": [
    "PREFIX foaf: <http://xmlns.com/foaf/0.1/>\n",
    "\n",
    "SELECT DISTINCT ?person \n",
    "WHERE {\n",
    "    \n",
    "    ?person a foaf:Person .\n",
    "} \n",
    "LIMIT 50"
   ]
  },
  {
   "cell_type": "markdown",
   "metadata": {},
   "source": [
    "### 2.3.1 Count all persons in the dataset"
   ]
  },
  {
   "cell_type": "markdown",
   "metadata": {},
   "source": [
    "Given there are any persons in the dataset at all, make sure that you use the correct entity type when you search for persons. For an overview of the entity types that are used in the dataset see 2.1.2.\n",
    "\n",
    "#### Explanation:\n",
    "\n",
    "see 2.1.1\n",
    "\n",
    "`BIND(foaf:Person as ?personConcept )` = bind `foaf:Person` to the variable `?personConcept`"
   ]
  },
  {
   "cell_type": "code",
   "execution_count": 235,
   "metadata": {},
   "outputs": [
    {
     "data": {
      "text/html": [
       "<div class=\"krn-spql\"><table><tr class=hdr><th>personConcept</th>\n",
       "<th>personCount</th></tr><tr class=odd><td class=val><a href=\"http://xmlns.com/foaf/0.1/Person\" target=\"_other\">http://xmlns.com/foaf/0.1/Person</a></td>\n",
       "<td class=val>1235</td></tr></table><div class=\"tinfo\">Total: 1, Shown: 1</div></div>"
      ]
     },
     "metadata": {},
     "output_type": "display_data"
    }
   ],
   "source": [
    "PREFIX foaf: <http://xmlns.com/foaf/0.1/>\n",
    "\n",
    "SELECT  ?personConcept (COUNT(?person) AS ?personCount)\n",
    "WHERE {\n",
    "    \n",
    "        ?person a foaf:Person .\n",
    "        BIND(foaf:Person as ?personConcept )\n",
    "}\n",
    "GROUP BY ?personConcept\n",
    "ORDER BY DESC (?personCount)\n",
    "LIMIT 50"
   ]
  },
  {
   "cell_type": "markdown",
   "metadata": {},
   "source": [
    "### 2.3.2 Find all properties assigned to the Person concept (as subject) in the dataset"
   ]
  },
  {
   "cell_type": "markdown",
   "metadata": {},
   "source": [
    "Given there are any persons in the dataset at all, make sure that you use the correct entity type when you search for persons. For an overview of the entity types that are used in the dataset see 2.1.2.\n",
    "\n",
    "#### Explanation:\n",
    "\n",
    "`?p` = random variable name for any URI that matches the given pattern in the predicate position of a triple"
   ]
  },
  {
   "cell_type": "code",
   "execution_count": 236,
   "metadata": {},
   "outputs": [
    {
     "data": {
      "text/html": [
       "<div class=\"krn-spql\"><table><tr class=hdr><th>p</th></tr><tr class=odd><td class=val><a href=\"http://www.w3.org/1999/02/22-rdf-syntax-ns#type\" target=\"_other\">http://www.w3.org/1999/02/22-rdf-syntax-ns#type</a></td></tr><tr class=even><td class=val><a href=\"http://www.w3.org/2000/01/rdf-schema#label\" target=\"_other\">http://www.w3.org/2000/01/rdf-schema#label</a></td></tr></table><div class=\"tinfo\">Total: 2, Shown: 2</div></div>"
      ]
     },
     "metadata": {},
     "output_type": "display_data"
    }
   ],
   "source": [
    "PREFIX foaf: <http://xmlns.com/foaf/0.1/>\n",
    "\n",
    "SELECT DISTINCT ?p\n",
    "WHERE {\n",
    "    \n",
    "        ?person a foaf:Person .\n",
    "        ?person ?p ?o .\n",
    "\n",
    "}\n",
    "ORDER BY ?p\n",
    "LIMIT 50"
   ]
  },
  {
   "cell_type": "markdown",
   "metadata": {},
   "source": [
    "### 2.3.3 Find and count all properties assigned to the Person concept (as subject) in the dataset"
   ]
  },
  {
   "cell_type": "markdown",
   "metadata": {},
   "source": [
    "Given there are any persons in the dataset at all, make sure that you use the correct entity type when you search for persons. For an overview of the entity types that are used in the dataset see 2.1.2.\n",
    "\n",
    "#### Explanation:\n",
    "\n",
    "`?p` = random variable name for any URI that matches the given pattern in the predicate position of a triple"
   ]
  },
  {
   "cell_type": "code",
   "execution_count": 237,
   "metadata": {},
   "outputs": [
    {
     "data": {
      "text/html": [
       "<div class=\"krn-spql\"><table><tr class=hdr><th>p</th>\n",
       "<th>pCount</th></tr><tr class=odd><td class=val><a href=\"http://www.w3.org/1999/02/22-rdf-syntax-ns#type\" target=\"_other\">http://www.w3.org/1999/02/22-rdf-syntax-ns#type</a></td>\n",
       "<td class=val>3349</td></tr><tr class=even><td class=val><a href=\"http://www.w3.org/2000/01/rdf-schema#label\" target=\"_other\">http://www.w3.org/2000/01/rdf-schema#label</a></td>\n",
       "<td class=val>1235</td></tr></table><div class=\"tinfo\">Total: 2, Shown: 2</div></div>"
      ]
     },
     "metadata": {},
     "output_type": "display_data"
    }
   ],
   "source": [
    "PREFIX foaf: <http://xmlns.com/foaf/0.1/>\n",
    "\n",
    "SELECT ?p (COUNT(?p) AS ?pCount) \n",
    "WHERE\n",
    "{\n",
    "      ?person a foaf:Person .\n",
    "      ?person ?p ?o .\n",
    "}\n",
    "GROUP BY ?p\n",
    "ORDER BY DESC (?pCount)\n",
    "LIMIT 50\n"
   ]
  },
  {
   "cell_type": "markdown",
   "metadata": {},
   "source": [
    "### 2.3.4 Find and count all properties assigned to the Person concept (as object) in the dataset"
   ]
  },
  {
   "cell_type": "markdown",
   "metadata": {},
   "source": [
    "Given there are any persons in the dataset at all, make sure that you use the correct entity type when you search for persons. For an overview of the entity types that are used in the dataset see 2.1.2.\n",
    "\n",
    "#### Explanation:\n",
    "\n",
    "see 2.2.3"
   ]
  },
  {
   "cell_type": "code",
   "execution_count": 238,
   "metadata": {},
   "outputs": [
    {
     "data": {
      "text/html": [
       "<div class=\"krn-spql\"><table><tr class=hdr><th>p</th>\n",
       "<th>pCount</th></tr><tr class=odd><td class=val><a href=\"http://purl.org/ontology/similarity/Subject\" target=\"_other\">http://purl.org/ontology/similarity/Subject</a></td>\n",
       "<td class=val>7867</td></tr><tr class=even><td class=val><a href=\"http://xmlns.com/foaf/0.1/maker\" target=\"_other\">http://xmlns.com/foaf/0.1/maker</a></td>\n",
       "<td class=val>1283</td></tr><tr class=odd><td class=val><a href=\"http://purl.org/vocab/frbr/core#creator\" target=\"_other\">http://purl.org/vocab/frbr/core#creator</a></td>\n",
       "<td class=val>430</td></tr></table><div class=\"tinfo\">Total: 3, Shown: 3</div></div>"
      ]
     },
     "metadata": {},
     "output_type": "display_data"
    }
   ],
   "source": [
    "PREFIX foaf: <http://xmlns.com/foaf/0.1/>\n",
    "\n",
    "SELECT DISTINCT ?p (COUNT(?p) AS ?pCount)\n",
    "WHERE {\n",
    "    \n",
    "        ?person a foaf:Person .\n",
    "        ?s ?p ?person .\n",
    "        \n",
    "}\n",
    "GROUP BY ?p\n",
    "ORDER BY DESC(?pCount)\n",
    "LIMIT 50"
   ]
  },
  {
   "cell_type": "markdown",
   "metadata": {},
   "source": [
    "### 2.3.5 Find and count all properties assigned to the Person concept (as subject & object) in the dataset"
   ]
  },
  {
   "cell_type": "markdown",
   "metadata": {},
   "source": [
    "The same query merging the two columns into one thus merging properties that are available for Persons in the position of subject and object.\n",
    "\n",
    "#### Explanation:\n",
    "\n",
    "`{…} UNION {…}` = keyword to form a disjunction of two graph patterns in terms of a logical OR; solutions to both sides of the UNION are included in the results."
   ]
  },
  {
   "cell_type": "code",
   "execution_count": 239,
   "metadata": {},
   "outputs": [
    {
     "data": {
      "text/html": [
       "<div class=\"krn-spql\"><table><tr class=hdr><th>p</th>\n",
       "<th>pCount</th></tr><tr class=odd><td class=val><a href=\"http://purl.org/ontology/similarity/Subject\" target=\"_other\">http://purl.org/ontology/similarity/Subject</a></td>\n",
       "<td class=val>7867</td></tr><tr class=even><td class=val><a href=\"http://www.w3.org/1999/02/22-rdf-syntax-ns#type\" target=\"_other\">http://www.w3.org/1999/02/22-rdf-syntax-ns#type</a></td>\n",
       "<td class=val>3349</td></tr><tr class=odd><td class=val><a href=\"http://xmlns.com/foaf/0.1/maker\" target=\"_other\">http://xmlns.com/foaf/0.1/maker</a></td>\n",
       "<td class=val>1283</td></tr><tr class=even><td class=val><a href=\"http://www.w3.org/2000/01/rdf-schema#label\" target=\"_other\">http://www.w3.org/2000/01/rdf-schema#label</a></td>\n",
       "<td class=val>1235</td></tr><tr class=odd><td class=val><a href=\"http://purl.org/vocab/frbr/core#creator\" target=\"_other\">http://purl.org/vocab/frbr/core#creator</a></td>\n",
       "<td class=val>430</td></tr></table><div class=\"tinfo\">Total: 5, Shown: 5</div></div>"
      ]
     },
     "metadata": {},
     "output_type": "display_data"
    }
   ],
   "source": [
    "PREFIX foaf: <http://xmlns.com/foaf/0.1/>\n",
    "\n",
    "SELECT DISTINCT ?p (COUNT(?p) AS ?pCount)\n",
    "WHERE\n",
    "{\n",
    "        ?person a foaf:Person .\n",
    "        { ?person ?p [] . }\n",
    "        UNION\n",
    "        { [] ?p ?person . }\n",
    "}\n",
    "GROUP BY ?p\n",
    "ORDER BY DESC (?pCount)\n",
    "LIMIT 50"
   ]
  },
  {
   "cell_type": "code",
   "execution_count": null,
   "metadata": {},
   "outputs": [],
   "source": []
  },
  {
   "cell_type": "markdown",
   "metadata": {},
   "source": [
    "Of which type are possible subjects and objects of a property? And what does a sample look like?"
   ]
  },
  {
   "cell_type": "code",
   "execution_count": 240,
   "metadata": {},
   "outputs": [
    {
     "data": {
      "text/html": [
       "<div class=\"krn-spql\"><table><tr class=hdr><th>perfomance</th>\n",
       "<th>sType</th>\n",
       "<th>pCount</th>\n",
       "<th>oType</th>\n",
       "<th>performer</th></tr></table><div class=\"tinfo\">Total: 0, Shown: 0</div></div>"
      ]
     },
     "metadata": {},
     "output_type": "display_data"
    }
   ],
   "source": [
    "PREFIX mo: <http://purl.org/ontology/mo/>\n",
    "\n",
    "SELECT (SAMPLE(?s) AS ?perfomance) ?sType (COUNT(?s) AS ?pCount) ?oType (SAMPLE(?o) AS ?performer)\n",
    "WHERE\n",
    "{\n",
    "    \n",
    "      ?s mo:performer ?o .  # replace with a property that is in your dataset\n",
    "      ?s a ?sType .\n",
    "      ?o a ?oType .\n",
    "\n",
    "}\n",
    "GROUP BY ?sType ?oType\n",
    "ORDER BY DESC (?pCount)\n",
    "LIMIT 50"
   ]
  },
  {
   "cell_type": "code",
   "execution_count": null,
   "metadata": {},
   "outputs": [],
   "source": []
  },
  {
   "cell_type": "markdown",
   "metadata": {},
   "source": [
    "TEST"
   ]
  },
  {
   "cell_type": "code",
   "execution_count": null,
   "metadata": {},
   "outputs": [],
   "source": []
  },
  {
   "cell_type": "code",
   "execution_count": 241,
   "metadata": {},
   "outputs": [
    {
     "data": {
      "text/html": [
       "<div class=\"krn-spql\"><table><tr class=hdr><th>instrumentLabel</th>\n",
       "<th>n</th></tr></table><div class=\"tinfo\">Total: 0, Shown: 0</div></div>"
      ]
     },
     "metadata": {},
     "output_type": "display_data"
    }
   ],
   "source": [
    "PREFIX rdfs: <http://www.w3.org/2000/01/rdf-schema#>\n",
    "PREFIX mo: <http://purl.org/ontology/mo/>\n",
    "\n",
    "SELECT DISTINCT ?instrumentLabel (COUNT(?instrument) as ?n)\n",
    "WHERE {\n",
    "\n",
    "    ?s a foaf:Person ; \n",
    "       <http://purl.org/ontology/mo/performed> ?performance .\n",
    "    ?performance  mo:performance_of ?work ;\n",
    "                  mo:instrument ?instrument .\n",
    "    ?instrument rdfs:label ?instrumentLabel.\n",
    "    \n",
    "    \n",
    "}\n",
    "GROUP BY ?instrumentLabel\n",
    "ORDER BY DESC (?n)\n",
    "LIMIT 50\n"
   ]
  },
  {
   "cell_type": "code",
   "execution_count": null,
   "metadata": {},
   "outputs": [],
   "source": [
    "\n"
   ]
  }
 ],
 "metadata": {
  "kernelspec": {
   "display_name": "SPARQL",
   "language": "sparql",
   "name": "sparql"
  },
  "language_info": {
   "codemirror_mode": {
    "name": "sparql"
   },
   "mimetype": "application/sparql-query",
   "name": "sparql",
   "pygments_lexer": "sparql-nb"
  }
 },
 "nbformat": 4,
 "nbformat_minor": 2
}
