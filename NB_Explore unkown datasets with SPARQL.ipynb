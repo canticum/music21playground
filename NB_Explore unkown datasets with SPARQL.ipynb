{
 "cells": [
  {
   "cell_type": "markdown",
   "metadata": {},
   "source": [
    "# Linked Data and Music\n",
    "## SPARQL Exercises: Exploring unknown datasets"
   ]
  },
  {
   "cell_type": "markdown",
   "metadata": {},
   "source": [
    "This Jupyter notebook aims to support a basic understanding of how to explore unknown Linked Data datasets with the query language SPARQL (https://www.w3.org/TR/rdf-sparql-query/)."
   ]
  },
  {
   "cell_type": "markdown",
   "metadata": {},
   "source": [
    "The Notebook is created by [@musicenfanthen](https://github.com/musicEnfanthen) and inspired by [@Bob DuCharme](https://twitter.com/bobdc)'s description of the approach in his blog entry: \n",
    "- http://www.bobdc.com/blog/jupytersparql/ \n",
    "\n",
    "and the corresponding notebook \n",
    "\n",
    "- https://github.com/bobdc/misc/blob/master/JupyterSPARQL/Jupyter%20and%20SPARQL%20and%20Dort%20or%20Dordrecht.ipynb.\n",
    "\n",
    "It uses the `sparqlkernel` written and released by Paulo Villegas: https://github.com/paulovn/sparql-kernel."
   ]
  },
  {
   "cell_type": "markdown",
   "metadata": {},
   "source": [
    "To execute a block of code in this notebook, click in a cell and press `Shift+Enter`. For general information about Jupyter notebooks see http://jupyter.org/. \n"
   ]
  },
  {
   "cell_type": "markdown",
   "metadata": {},
   "source": [
    "## 1. Setup"
   ]
  },
  {
   "cell_type": "markdown",
   "metadata": {},
   "source": [
    "At first, we have to set up this Jupyter notebook and the `sparqlkernel` which SPARQL endpoint, query format or output format we want to use. The `sparqlkernel` provides some `magics` (keywords) for this, so it is pretty straightforward. You will find more information about the syntax of these `magics` here: https://github.com/paulovn/sparql-kernel#syntax"
   ]
  },
  {
   "cell_type": "markdown",
   "metadata": {},
   "source": [
    "Possible music-related endpoints (in alphabetical order):\n",
    "\n",
    "\n",
    "**DoReMus**\n",
    "- Endpoint: http://data.doremus.org/sparql\n",
    "- Website:  https://www.doremus.org/\n",
    "\n",
    "\n",
    "**JazzCats**\n",
    "- Endpoint: http://cdhr-linkeddata.anu.edu.au/jazzcats-sparql/sparql\n",
    "- Website:  http://jazzcats.cdhr.anu.edu.au/\n",
    "\n",
    "\n",
    "**MIDI Linked Data** (could face timeouts)\n",
    "- Endpoint: http://virtuoso-midi.amp.ops.labs.vu.nl/sparql\n",
    "- Website:  https://midi-ld.github.io/\n",
    "\n",
    "\n",
    "**MusicOWL**\n",
    "- Endpoint: http://linkeddata.uni-muenster.de:7200\n",
    "- Website:  http://linkeddata.uni-muenster.de/musicportal/\n",
    "\n",
    "\n",
    "**RISM**\n",
    "- Endpoint: https://data.rism.info/sparql\n",
    "- Website:  https://opac.rism.info/\n",
    "\n",
    "\n",
    "**SLICKMEM**\n",
    "- Endpoint: https://blazegraph.linkedmusic.org/blazegraph/namespace/SLICKMEM/sparql\n",
    "- Website:  https://slickmem.linkedmusic.org\n"
   ]
  },
  {
   "cell_type": "code",
   "execution_count": 1,
   "metadata": {},
   "outputs": [
    {
     "data": {
      "text/html": [
       "<div class=\"krn-spql\"><div class=\"magic\">Endpoint set to: http://data.doremus.org/sparql</div><div class=\"magic\">Result maximum size: 50</div><div class=\"magic\">Return format: ANY</div><div class=\"magic\">Display: table</div></div>"
      ],
      "text/plain": [
       "Endpoint set to: http://data.doremus.org/sparql\n",
       "Result maximum size: 50\n",
       "Return format: ANY\n",
       "Display: table\n"
      ]
     },
     "metadata": {},
     "output_type": "display_data"
    }
   ],
   "source": [
    "# Set the SPARQL endpoint (feel free to change to your liking)\n",
    "%endpoint http://data.doremus.org/sparql\n",
    "\n",
    "# Don't show more than 50 results (event if more are fetched)\n",
    "%show 50\n",
    "\n",
    "# Set the data format requested to the SPARQL endpoint (%format JSON | XML | N3 | any | default)\n",
    "%format any\n",
    "\n",
    "# Set the output rendering shape (%display raw | table [withtypes] | diagram [svg|png] [withliterals])\n",
    "%display table"
   ]
  },
  {
   "cell_type": "markdown",
   "metadata": {},
   "source": [
    "Short test if the selected endpoint is running and we are connecting to it properly.\n",
    "\n",
    "**IMPORTANT: Use the `LIMIT` modifier in all of the following queries to avoid stressing the endpoint too much. You may need to increase your limit in certain queries according to the total number of query results e.g. in 2.1.1.**"
   ]
  },
  {
   "cell_type": "code",
   "execution_count": 2,
   "metadata": {},
   "outputs": [
    {
     "data": {
      "text/html": [
       "<div class=\"krn-spql\"><table><tr class=hdr><th>s</th>\n",
       "<th>p</th>\n",
       "<th>o</th></tr><tr class=odd><td class=val><a href=\"http://www.openlinksw.com/virtrdf-data-formats#default-iid\" target=\"_other\">http://www.openlinksw.com/virtrdf-data-formats#default-iid</a></td>\n",
       "<td class=val><a href=\"http://www.w3.org/1999/02/22-rdf-syntax-ns#type\" target=\"_other\">http://www.w3.org/1999/02/22-rdf-syntax-ns#type</a></td>\n",
       "<td class=val><a href=\"http://www.openlinksw.com/schemas/virtrdf#QuadMapFormat\" target=\"_other\">http://www.openlinksw.com/schemas/virtrdf#QuadMapFormat</a></td></tr><tr class=even><td class=val><a href=\"http://www.openlinksw.com/virtrdf-data-formats#default-iid-nullable\" target=\"_other\">http://www.openlinksw.com/virtrdf-data-formats#default-iid-nullable</a></td>\n",
       "<td class=val><a href=\"http://www.w3.org/1999/02/22-rdf-syntax-ns#type\" target=\"_other\">http://www.w3.org/1999/02/22-rdf-syntax-ns#type</a></td>\n",
       "<td class=val><a href=\"http://www.openlinksw.com/schemas/virtrdf#QuadMapFormat\" target=\"_other\">http://www.openlinksw.com/schemas/virtrdf#QuadMapFormat</a></td></tr><tr class=odd><td class=val><a href=\"http://www.openlinksw.com/virtrdf-data-formats#default-iid-nonblank\" target=\"_other\">http://www.openlinksw.com/virtrdf-data-formats#default-iid-nonblank</a></td>\n",
       "<td class=val><a href=\"http://www.w3.org/1999/02/22-rdf-syntax-ns#type\" target=\"_other\">http://www.w3.org/1999/02/22-rdf-syntax-ns#type</a></td>\n",
       "<td class=val><a href=\"http://www.openlinksw.com/schemas/virtrdf#QuadMapFormat\" target=\"_other\">http://www.openlinksw.com/schemas/virtrdf#QuadMapFormat</a></td></tr><tr class=even><td class=val><a href=\"http://www.openlinksw.com/virtrdf-data-formats#default-iid-nonblank-nullable\" target=\"_other\">http://www.openlinksw.com/virtrdf-data-formats#default-iid-nonblank-nullable</a></td>\n",
       "<td class=val><a href=\"http://www.w3.org/1999/02/22-rdf-syntax-ns#type\" target=\"_other\">http://www.w3.org/1999/02/22-rdf-syntax-ns#type</a></td>\n",
       "<td class=val><a href=\"http://www.openlinksw.com/schemas/virtrdf#QuadMapFormat\" target=\"_other\">http://www.openlinksw.com/schemas/virtrdf#QuadMapFormat</a></td></tr><tr class=odd><td class=val><a href=\"http://www.openlinksw.com/virtrdf-data-formats#default\" target=\"_other\">http://www.openlinksw.com/virtrdf-data-formats#default</a></td>\n",
       "<td class=val><a href=\"http://www.w3.org/1999/02/22-rdf-syntax-ns#type\" target=\"_other\">http://www.w3.org/1999/02/22-rdf-syntax-ns#type</a></td>\n",
       "<td class=val><a href=\"http://www.openlinksw.com/schemas/virtrdf#QuadMapFormat\" target=\"_other\">http://www.openlinksw.com/schemas/virtrdf#QuadMapFormat</a></td></tr></table><div class=\"tinfo\">Total: 5, Shown: 5</div></div>"
      ]
     },
     "metadata": {},
     "output_type": "display_data"
    }
   ],
   "source": [
    "SELECT * \n",
    "WHERE {\n",
    "\n",
    "    ?s ?p ?o . \n",
    "\n",
    "}\n",
    "LIMIT 5"
   ]
  },
  {
   "cell_type": "markdown",
   "metadata": {},
   "source": [
    "## 2. SPARQL Queries"
   ]
  },
  {
   "cell_type": "markdown",
   "metadata": {},
   "source": [
    "## 2.1. Exploring an unknown dataset – Concepts/Classes"
   ]
  },
  {
   "cell_type": "markdown",
   "metadata": {},
   "source": [
    "### 2.1.0 Find all Concepts/Classes of the dataset"
   ]
  },
  {
   "cell_type": "markdown",
   "metadata": {},
   "source": [
    "#### Explanation:\n",
    "\n",
    "General information about and specification of the SPARQL Query language can be found here: https://www.w3.org/TR/sparql11-query/ \n",
    "\n",
    "`SELECT`    = one of SPARQL's query forms; returns all, or a subset of, the variables bound in a query pattern match.\n",
    "\n",
    "`DISTINCT`  = ensure solutions in the sequence are unique, i.e. duplicates are merged into one result\n",
    "\n",
    "`*`         = shortcut to return all bound variables (`?xyz`) as results, here the results bound in `?Concept`\n",
    "\n",
    "`WHERE {…}` = so-called WHERE-clause, basic graph pattern to match against the data graph\n",
    "\n",
    "`[]`        = blank node, see [4.1.4 Syntax for Blank Nodes](https://www.w3.org/TR/sparql11-query/#QSynBlankNodes)\n",
    "\n",
    "`a`         = `rdf:type`\n",
    "\n",
    "`?Concept` = random variable name for any URI that matches the given pattern in the object position of a triple.\n",
    "\n",
    "`LIMIT`     = modifier to limit the result number (important!)"
   ]
  },
  {
   "cell_type": "code",
   "execution_count": 3,
   "metadata": {},
   "outputs": [
    {
     "data": {
      "text/html": [
       "<div class=\"krn-spql\"><table><tr class=hdr><th>Concept</th></tr><tr class=odd><td class=val><a href=\"http://www.w3.org/1999/02/22-rdf-syntax-ns#Property\" target=\"_other\">http://www.w3.org/1999/02/22-rdf-syntax-ns#Property</a></td></tr><tr class=even><td class=val><a href=\"http://www.openlinksw.com/schemas/virtrdf#QuadMapFormat\" target=\"_other\">http://www.openlinksw.com/schemas/virtrdf#QuadMapFormat</a></td></tr><tr class=odd><td class=val><a href=\"http://www.openlinksw.com/schemas/virtrdf#QuadStorage\" target=\"_other\">http://www.openlinksw.com/schemas/virtrdf#QuadStorage</a></td></tr><tr class=even><td class=val><a href=\"http://www.openlinksw.com/schemas/virtrdf#array-of-QuadMap\" target=\"_other\">http://www.openlinksw.com/schemas/virtrdf#array-of-QuadMap</a></td></tr><tr class=odd><td class=val><a href=\"http://www.openlinksw.com/schemas/virtrdf#QuadMap\" target=\"_other\">http://www.openlinksw.com/schemas/virtrdf#QuadMap</a></td></tr><tr class=even><td class=val><a href=\"http://www.openlinksw.com/schemas/virtrdf#array-of-QuadMapFormat\" target=\"_other\">http://www.openlinksw.com/schemas/virtrdf#array-of-QuadMapFormat</a></td></tr><tr class=odd><td class=val><a href=\"http://www.openlinksw.com/schemas/virtrdf#QuadMapValue\" target=\"_other\">http://www.openlinksw.com/schemas/virtrdf#QuadMapValue</a></td></tr><tr class=even><td class=val><a href=\"http://www.openlinksw.com/schemas/virtrdf#array-of-QuadMapATable\" target=\"_other\">http://www.openlinksw.com/schemas/virtrdf#array-of-QuadMapATable</a></td></tr><tr class=odd><td class=val><a href=\"http://www.openlinksw.com/schemas/virtrdf#array-of-QuadMapColumn\" target=\"_other\">http://www.openlinksw.com/schemas/virtrdf#array-of-QuadMapColumn</a></td></tr><tr class=even><td class=val><a href=\"http://www.openlinksw.com/schemas/virtrdf#QuadMapColumn\" target=\"_other\">http://www.openlinksw.com/schemas/virtrdf#QuadMapColumn</a></td></tr><tr class=odd><td class=val><a href=\"http://www.openlinksw.com/schemas/virtrdf#QuadMapFText\" target=\"_other\">http://www.openlinksw.com/schemas/virtrdf#QuadMapFText</a></td></tr><tr class=even><td class=val><a href=\"http://www.openlinksw.com/schemas/virtrdf#QuadMapATable\" target=\"_other\">http://www.openlinksw.com/schemas/virtrdf#QuadMapATable</a></td></tr><tr class=odd><td class=val><a href=\"http://www.openlinksw.com/schemas/virtrdf#array-of-string\" target=\"_other\">http://www.openlinksw.com/schemas/virtrdf#array-of-string</a></td></tr><tr class=even><td class=val><a href=\"http://www.w3.org/2000/01/rdf-schema#Class\" target=\"_other\">http://www.w3.org/2000/01/rdf-schema#Class</a></td></tr><tr class=odd><td class=val><a href=\"http://www.w3.org/ns/sparql-service-description#Service\" target=\"_other\">http://www.w3.org/ns/sparql-service-description#Service</a></td></tr><tr class=even><td class=val><a href=\"http://www.w3.org/2002/07/owl#AnnotationProperty\" target=\"_other\">http://www.w3.org/2002/07/owl#AnnotationProperty</a></td></tr><tr class=odd><td class=val><a href=\"http://www.w3.org/2002/07/owl#Class\" target=\"_other\">http://www.w3.org/2002/07/owl#Class</a></td></tr><tr class=even><td class=val><a href=\"http://www.w3.org/1999/02/22-rdf-syntax-ns#List\" target=\"_other\">http://www.w3.org/1999/02/22-rdf-syntax-ns#List</a></td></tr><tr class=odd><td class=val><a href=\"http://www.w3.org/2002/07/owl#Ontology\" target=\"_other\">http://www.w3.org/2002/07/owl#Ontology</a></td></tr><tr class=even><td class=val><a href=\"http://www.w3.org/2002/07/owl#OntologyProperty\" target=\"_other\">http://www.w3.org/2002/07/owl#OntologyProperty</a></td></tr><tr class=odd><td class=val><a href=\"http://www.loc.gov/standards/mods/rdf/v1/#ModsResource\" target=\"_other\">http://www.loc.gov/standards/mods/rdf/v1/#ModsResource</a></td></tr><tr class=even><td class=val><a href=\"http://www.loc.gov/standards/mods/rdf/v1/#IdentifierGroup\" target=\"_other\">http://www.loc.gov/standards/mods/rdf/v1/#IdentifierGroup</a></td></tr><tr class=odd><td class=val><a href=\"http://www.w3.org/ns/prov#Entity\" target=\"_other\">http://www.w3.org/ns/prov#Entity</a></td></tr><tr class=even><td class=val><a href=\"http://erlangen-crm.org/current/E21_Person\" target=\"_other\">http://erlangen-crm.org/current/E21_Person</a></td></tr><tr class=odd><td class=val><a href=\"http://www.w3.org/2004/02/skos/core#Concept\" target=\"_other\">http://www.w3.org/2004/02/skos/core#Concept</a></td></tr><tr class=even><td class=val><a href=\"http://www.w3.org/2004/02/skos/core#Collection\" target=\"_other\">http://www.w3.org/2004/02/skos/core#Collection</a></td></tr><tr class=odd><td class=val><a href=\"http://www.w3.org/2004/02/skos/core#ConceptScheme\" target=\"_other\">http://www.w3.org/2004/02/skos/core#ConceptScheme</a></td></tr><tr class=even><td class=val><a href=\"http://www.w3.org/2000/01/rdf-schema#Datatype\" target=\"_other\">http://www.w3.org/2000/01/rdf-schema#Datatype</a></td></tr><tr class=odd><td class=val><a href=\"http://purl.org/NET/c4dm/keys.owl#Key\" target=\"_other\">http://purl.org/NET/c4dm/keys.owl#Key</a></td></tr><tr class=even><td class=val><a href=\"http://erlangen-crm.org/current/E53_Place\" target=\"_other\">http://erlangen-crm.org/current/E53_Place</a></td></tr><tr class=odd><td class=val><a href=\"http://www.geonames.org/ontology#Feature\" target=\"_other\">http://www.geonames.org/ontology#Feature</a></td></tr><tr class=even><td class=val><a href=\"http://www.w3.org/2006/time#Interval\" target=\"_other\">http://www.w3.org/2006/time#Interval</a></td></tr><tr class=odd><td class=val><a href=\"http://erlangen-crm.org/current/E52_Time-Span\" target=\"_other\">http://erlangen-crm.org/current/E52_Time-Span</a></td></tr><tr class=even><td class=val><a href=\"http://erlangen-crm.org/current/E67_Birth\" target=\"_other\">http://erlangen-crm.org/current/E67_Birth</a></td></tr><tr class=odd><td class=val><a href=\"http://www.w3.org/ns/prov#Derivation\" target=\"_other\">http://www.w3.org/ns/prov#Derivation</a></td></tr><tr class=even><td class=val><a href=\"http://www.w3.org/ns/prov#Activity\" target=\"_other\">http://www.w3.org/ns/prov#Activity</a></td></tr><tr class=odd><td class=val><a href=\"http://erlangen-crm.org/current/E69_Death\" target=\"_other\">http://erlangen-crm.org/current/E69_Death</a></td></tr><tr class=even><td class=val><a href=\"http://erlangen-crm.org/efrbroo/F15_Complex_Work\" target=\"_other\">http://erlangen-crm.org/efrbroo/F15_Complex_Work</a></td></tr><tr class=odd><td class=val><a href=\"http://erlangen-crm.org/efrbroo/F22_Self-Contained_Expression\" target=\"_other\">http://erlangen-crm.org/efrbroo/F22_Self-Contained_Expression</a></td></tr><tr class=even><td class=val><a href=\"http://erlangen-crm.org/efrbroo/F14_Individual_Work\" target=\"_other\">http://erlangen-crm.org/efrbroo/F14_Individual_Work</a></td></tr><tr class=odd><td class=val><a href=\"http://erlangen-crm.org/efrbroo/F42_Representative_Expression_Assignment\" target=\"_other\">http://erlangen-crm.org/efrbroo/F42_Representative_Expression_Assignment</a></td></tr><tr class=even><td class=val><a href=\"http://data.doremus.org/ontology#M23_Casting_Detail\" target=\"_other\">http://data.doremus.org/ontology#M23_Casting_Detail</a></td></tr><tr class=odd><td class=val><a href=\"http://erlangen-crm.org/efrbroo/F28_Expression_Creation\" target=\"_other\">http://erlangen-crm.org/efrbroo/F28_Expression_Creation</a></td></tr><tr class=even><td class=val><a href=\"http://data.doremus.org/ontology#M6_Casting\" target=\"_other\">http://data.doremus.org/ontology#M6_Casting</a></td></tr><tr class=odd><td class=val><a href=\"http://erlangen-crm.org/efrbroo/F25_Performance_Plan\" target=\"_other\">http://erlangen-crm.org/efrbroo/F25_Performance_Plan</a></td></tr><tr class=even><td class=val><a href=\"http://data.doremus.org/ontology#M1_Catalogue_Statement\" target=\"_other\">http://data.doremus.org/ontology#M1_Catalogue_Statement</a></td></tr><tr class=odd><td class=val><a href=\"http://erlangen-crm.org/efrbroo/F31_Performance\" target=\"_other\">http://erlangen-crm.org/efrbroo/F31_Performance</a></td></tr><tr class=even><td class=val><a href=\"http://erlangen-crm.org/current/E7_Activity\" target=\"_other\">http://erlangen-crm.org/current/E7_Activity</a></td></tr><tr class=odd><td class=val><a href=\"http://data.doremus.org/ontology#M15_Dedication_Statement\" target=\"_other\">http://data.doremus.org/ontology#M15_Dedication_Statement</a></td></tr><tr class=even><td class=val><a href=\"http://data.doremus.org/ontology#M44_Performed_Work\" target=\"_other\">http://data.doremus.org/ontology#M44_Performed_Work</a></td></tr></table><div class=\"tinfo\">Total: 50, Shown: 50</div></div>"
      ]
     },
     "metadata": {},
     "output_type": "display_data"
    }
   ],
   "source": [
    "SELECT DISTINCT * \n",
    "WHERE {                 \n",
    "\n",
    "    [] a ?Concept .     \n",
    "    \n",
    "}\n",
    "LIMIT 50"
   ]
  },
  {
   "cell_type": "markdown",
   "metadata": {},
   "source": [
    "### 2.1.1 Get total number of classes available in the dataset"
   ]
  },
  {
   "cell_type": "markdown",
   "metadata": {},
   "source": [
    "#### Explanation\n",
    "\n",
    "`(COUNT(DISTINCT ?Concept)`= count number of distinct values bound to variable `?Concept`\n",
    "\n",
    "You may need to increase your limit in subsequent queries according to the resulting total number to see all query results."
   ]
  },
  {
   "cell_type": "code",
   "execution_count": 4,
   "metadata": {},
   "outputs": [
    {
     "data": {
      "text/html": [
       "<div class=\"krn-spql\"><table><tr class=hdr><th>count</th></tr><tr class=odd><td class=val>151</td></tr></table><div class=\"tinfo\">Total: 1, Shown: 1</div></div>"
      ]
     },
     "metadata": {},
     "output_type": "display_data"
    }
   ],
   "source": [
    "SELECT (COUNT(DISTINCT ?Concept) as ?count)\n",
    "WHERE   \n",
    "{ \n",
    "   \n",
    "    [] a ?Concept .\n",
    " \n",
    "}\n",
    "LIMIT 50"
   ]
  },
  {
   "cell_type": "markdown",
   "metadata": {},
   "source": [
    "### 2.1.2 Get the number of the individual concepts/classes in the dataset"
   ]
  },
  {
   "cell_type": "markdown",
   "metadata": {},
   "source": [
    "#### Explanation\n",
    "`(COUNT(*) AS ?n)` = bind the number of results of all bound variables to the variable `?n`\n",
    "\n",
    "`GROUP BY`         = group the results by the given value/variable\n",
    "\n",
    "`ORDER BY DESC`    = sort the results in descending order by the given value/variable (leave out `DESC` or use `ASC` for ascending order"
   ]
  },
  {
   "cell_type": "code",
   "execution_count": 5,
   "metadata": {},
   "outputs": [
    {
     "data": {
      "text/html": [
       "<div class=\"krn-spql\"><table><tr class=hdr><th>Concept</th>\n",
       "<th>n</th></tr><tr class=odd><td class=val><a href=\"http://www.w3.org/ns/prov#Entity\" target=\"_other\">http://www.w3.org/ns/prov#Entity</a></td>\n",
       "<td class=val>3763310</td></tr><tr class=even><td class=val><a href=\"http://www.w3.org/2006/time#Instant\" target=\"_other\">http://www.w3.org/2006/time#Instant</a></td>\n",
       "<td class=val>2351087</td></tr><tr class=odd><td class=val><a href=\"http://data.doremus.org/ontology#M28_Individual_Performance\" target=\"_other\">http://data.doremus.org/ontology#M28_Individual_Performance</a></td>\n",
       "<td class=val>1076749</td></tr><tr class=even><td class=val><a href=\"http://erlangen-crm.org/current/E52_Time-Span\" target=\"_other\">http://erlangen-crm.org/current/E52_Time-Span</a></td>\n",
       "<td class=val>1002428</td></tr><tr class=odd><td class=val><a href=\"http://www.w3.org/2006/time#Interval\" target=\"_other\">http://www.w3.org/2006/time#Interval</a></td>\n",
       "<td class=val>1002424</td></tr><tr class=even><td class=val><a href=\"http://erlangen-crm.org/current/E7_Activity\" target=\"_other\">http://erlangen-crm.org/current/E7_Activity</a></td>\n",
       "<td class=val>909795</td></tr><tr class=odd><td class=val><a href=\"http://www.w3.org/ns/prov#Activity\" target=\"_other\">http://www.w3.org/ns/prov#Activity</a></td>\n",
       "<td class=val>810507</td></tr><tr class=even><td class=val><a href=\"http://www.w3.org/ns/prov#Derivation\" target=\"_other\">http://www.w3.org/ns/prov#Derivation</a></td>\n",
       "<td class=val>810507</td></tr><tr class=odd><td class=val><a href=\"http://erlangen-crm.org/efrbroo/F28_Expression_Creation\" target=\"_other\">http://erlangen-crm.org/efrbroo/F28_Expression_Creation</a></td>\n",
       "<td class=val>742685</td></tr><tr class=even><td class=val><a href=\"http://data.doremus.org/ontology#M156_Title_Statement\" target=\"_other\">http://data.doremus.org/ontology#M156_Title_Statement</a></td>\n",
       "<td class=val>639721</td></tr><tr class=odd><td class=val><a href=\"http://erlangen-crm.org/current/E13_Attribute_Assignment\" target=\"_other\">http://erlangen-crm.org/current/E13_Attribute_Assignment</a></td>\n",
       "<td class=val>573749</td></tr><tr class=even><td class=val><a href=\"http://erlangen-crm.org/efrbroo/F22_Self-Contained_Expression\" target=\"_other\">http://erlangen-crm.org/efrbroo/F22_Self-Contained_Expression</a></td>\n",
       "<td class=val>535578</td></tr><tr class=odd><td class=val><a href=\"http://data.doremus.org/ontology#M46_Set_of_Tracks\" target=\"_other\">http://data.doremus.org/ontology#M46_Set_of_Tracks</a></td>\n",
       "<td class=val>483310</td></tr><tr class=even><td class=val><a href=\"http://data.doremus.org/ontology#M43_Performed_Expression\" target=\"_other\">http://data.doremus.org/ontology#M43_Performed_Expression</a></td>\n",
       "<td class=val>482892</td></tr><tr class=odd><td class=val><a href=\"http://data.doremus.org/ontology#M44_Performed_Work\" target=\"_other\">http://data.doremus.org/ontology#M44_Performed_Work</a></td>\n",
       "<td class=val>482892</td></tr><tr class=even><td class=val><a href=\"http://data.doremus.org/ontology#M42_Performed_Expression_Creation\" target=\"_other\">http://data.doremus.org/ontology#M42_Performed_Expression_Creation</a></td>\n",
       "<td class=val>480598</td></tr><tr class=odd><td class=val><a href=\"http://erlangen-crm.org/efrbroo/F14_Individual_Work\" target=\"_other\">http://erlangen-crm.org/efrbroo/F14_Individual_Work</a></td>\n",
       "<td class=val>477416</td></tr><tr class=even><td class=val><a href=\"http://erlangen-crm.org/efrbroo/F15_Complex_Work\" target=\"_other\">http://erlangen-crm.org/efrbroo/F15_Complex_Work</a></td>\n",
       "<td class=val>464062</td></tr><tr class=odd><td class=val><a href=\"http://data.doremus.org/ontology#M19_Categorization\" target=\"_other\">http://data.doremus.org/ontology#M19_Categorization</a></td>\n",
       "<td class=val>427034</td></tr><tr class=even><td class=val><a href=\"http://data.doremus.org/ontology#M23_Casting_Detail\" target=\"_other\">http://data.doremus.org/ontology#M23_Casting_Detail</a></td>\n",
       "<td class=val>417747</td></tr><tr class=odd><td class=val><a href=\"http://erlangen-crm.org/efrbroo/F26_Recording\" target=\"_other\">http://erlangen-crm.org/efrbroo/F26_Recording</a></td>\n",
       "<td class=val>397722</td></tr><tr class=even><td class=val><a href=\"http://erlangen-crm.org/efrbroo/F21_Recording_Work\" target=\"_other\">http://erlangen-crm.org/efrbroo/F21_Recording_Work</a></td>\n",
       "<td class=val>397721</td></tr><tr class=odd><td class=val><a href=\"http://erlangen-crm.org/current/E21_Person\" target=\"_other\">http://erlangen-crm.org/current/E21_Person</a></td>\n",
       "<td class=val>365072</td></tr><tr class=even><td class=val><a href=\"http://data.doremus.org/ontology#M157_Statement_of_Responsibility\" target=\"_other\">http://data.doremus.org/ontology#M157_Statement_of_Responsibility</a></td>\n",
       "<td class=val>353040</td></tr><tr class=odd><td class=val><a href=\"http://rhizomik.net/ontologies/copyrightonto#ProducersRights\" target=\"_other\">http://rhizomik.net/ontologies/copyrightonto#ProducersRights</a></td>\n",
       "<td class=val>331264</td></tr><tr class=even><td class=val><a href=\"http://erlangen-crm.org/efrbroo/F24_Publication_Expression\" target=\"_other\">http://erlangen-crm.org/efrbroo/F24_Publication_Expression</a></td>\n",
       "<td class=val>256629</td></tr><tr class=odd><td class=val><a href=\"http://erlangen-crm.org/efrbroo/F20_Performance_Work\" target=\"_other\">http://erlangen-crm.org/efrbroo/F20_Performance_Work</a></td>\n",
       "<td class=val>234131</td></tr><tr class=even><td class=val><a href=\"http://erlangen-crm.org/efrbroo/F30_Publication_Event\" target=\"_other\">http://erlangen-crm.org/efrbroo/F30_Publication_Event</a></td>\n",
       "<td class=val>223167</td></tr><tr class=odd><td class=val><a href=\"http://erlangen-crm.org/efrbroo/F25_Performance_Plan\" target=\"_other\">http://erlangen-crm.org/efrbroo/F25_Performance_Plan</a></td>\n",
       "<td class=val>210239</td></tr><tr class=even><td class=val><a href=\"http://data.doremus.org/ontology#M160_Publication_Statement\" target=\"_other\">http://data.doremus.org/ontology#M160_Publication_Statement</a></td>\n",
       "<td class=val>210085</td></tr><tr class=odd><td class=val><a href=\"http://data.doremus.org/ontology#M161_Distribution_Statement\" target=\"_other\">http://data.doremus.org/ontology#M161_Distribution_Statement</a></td>\n",
       "<td class=val>206663</td></tr><tr class=even><td class=val><a href=\"http://erlangen-crm.org/efrbroo/F31_Performance\" target=\"_other\">http://erlangen-crm.org/efrbroo/F31_Performance</a></td>\n",
       "<td class=val>206411</td></tr><tr class=odd><td class=val><a href=\"http://erlangen-crm.org/efrbroo/F3_Manifestation_Product_Type\" target=\"_other\">http://erlangen-crm.org/efrbroo/F3_Manifestation_Product_Type</a></td>\n",
       "<td class=val>204351</td></tr><tr class=even><td class=val><a href=\"http://data.doremus.org/ontology#M6_Casting\" target=\"_other\">http://data.doremus.org/ontology#M6_Casting</a></td>\n",
       "<td class=val>198435</td></tr><tr class=odd><td class=val><a href=\"http://erlangen-crm.org/efrbroo/F19_Publication_Work\" target=\"_other\">http://erlangen-crm.org/efrbroo/F19_Publication_Work</a></td>\n",
       "<td class=val>189408</td></tr><tr class=even><td class=val><a href=\"http://data.doremus.org/ontology#M158_Title_and_Statement_of_Responsibility\" target=\"_other\">http://data.doremus.org/ontology#M158_Title_and_Statement_of_Responsibility</a></td>\n",
       "<td class=val>187828</td></tr><tr class=odd><td class=val><a href=\"http://erlangen-crm.org/current/E42_Identifier\" target=\"_other\">http://erlangen-crm.org/current/E42_Identifier</a></td>\n",
       "<td class=val>175098</td></tr><tr class=even><td class=val><a href=\"http://data.doremus.org/ontology#M155_Cast_Statement\" target=\"_other\">http://data.doremus.org/ontology#M155_Cast_Statement</a></td>\n",
       "<td class=val>173015</td></tr><tr class=odd><td class=val><a href=\"http://erlangen-crm.org/efrbroo/F29_Recording_Event\" target=\"_other\">http://erlangen-crm.org/efrbroo/F29_Recording_Event</a></td>\n",
       "<td class=val>172995</td></tr><tr class=even><td class=val><a href=\"http://rhizomik.net/ontologies/copyrightonto#CommunicationRight\" target=\"_other\">http://rhizomik.net/ontologies/copyrightonto#CommunicationRight</a></td>\n",
       "<td class=val>171206</td></tr><tr class=odd><td class=val><a href=\"http://erlangen-crm.org/efrbroo/F42_Representative_Expression_Assignment\" target=\"_other\">http://erlangen-crm.org/efrbroo/F42_Representative_Expression_Assignment</a></td>\n",
       "<td class=val>135472</td></tr><tr class=even><td class=val><a href=\"http://erlangen-crm.org/current/E54_Dimension\" target=\"_other\">http://erlangen-crm.org/current/E54_Dimension</a></td>\n",
       "<td class=val>128154</td></tr><tr class=odd><td class=val><a href=\"http://erlangen-crm.org/current/E67_Birth\" target=\"_other\">http://erlangen-crm.org/current/E67_Birth</a></td>\n",
       "<td class=val>111517</td></tr><tr class=even><td class=val><a href=\"http://data.doremus.org/ontology#M31_Actor_Function\" target=\"_other\">http://data.doremus.org/ontology#M31_Actor_Function</a></td>\n",
       "<td class=val>102724</td></tr><tr class=odd><td class=val><a href=\"http://data.doremus.org/ontology#M29_Editing\" target=\"_other\">http://data.doremus.org/ontology#M29_Editing</a></td>\n",
       "<td class=val>91363</td></tr><tr class=even><td class=val><a href=\"http://erlangen-crm.org/efrbroo/F38_Character\" target=\"_other\">http://erlangen-crm.org/efrbroo/F38_Character</a></td>\n",
       "<td class=val>77442</td></tr><tr class=odd><td class=val><a href=\"http://data.doremus.org/ontology#M24_Track\" target=\"_other\">http://data.doremus.org/ontology#M24_Track</a></td>\n",
       "<td class=val>67424</td></tr><tr class=even><td class=val><a href=\"http://data.doremus.org/ontology#M171_Container\" target=\"_other\">http://data.doremus.org/ontology#M171_Container</a></td>\n",
       "<td class=val>64070</td></tr><tr class=odd><td class=val><a href=\"http://rhizomik.net/ontologies/copyrightonto#DistributionRight\" target=\"_other\">http://rhizomik.net/ontologies/copyrightonto#DistributionRight</a></td>\n",
       "<td class=val>60833</td></tr><tr class=even><td class=val><a href=\"http://erlangen-crm.org/current/E69_Death\" target=\"_other\">http://erlangen-crm.org/current/E69_Death</a></td>\n",
       "<td class=val>53314</td></tr></table><div class=\"tinfo\">Total: 50, Shown: 50</div></div>"
      ]
     },
     "metadata": {},
     "output_type": "display_data"
    }
   ],
   "source": [
    "SELECT DISTINCT ?Concept (COUNT(*) AS ?n) \n",
    "WHERE {\n",
    "\n",
    "    [] a ?Concept .\n",
    "\n",
    "}\n",
    "GROUP BY ?Concept\n",
    "ORDER BY DESC(?n)\n",
    "LIMIT 50"
   ]
  },
  {
   "cell_type": "markdown",
   "metadata": {},
   "source": [
    "### 2.1.3 Get the number of these concepts/classes in the dataset plus a sample of every class"
   ]
  },
  {
   "cell_type": "markdown",
   "metadata": {},
   "source": [
    "#### Explanation\n",
    "\n",
    "see also: https://twitter.com/kidehen/status/1129143936839294976 \n",
    "\n",
    "`(SAMPLE(?s) AS ?sample)` = retrieve one random sample of the result set for the variable `?s` and bind the sample to the variable `?sample`\n",
    "\n",
    "`COUNT(1)`                = equivalent of `COUNT(*)`\n",
    "\n",
    "`?s`                      = random variable name for any URI that matches the given pattern in the subject position of a triple\n",
    "\n",
    "`FILTER(isIri(?s))`       = filter out only those solutions for the variable `?s` that are an IRI"
   ]
  },
  {
   "cell_type": "code",
   "execution_count": null,
   "metadata": {},
   "outputs": [],
   "source": [
    "SELECT (SAMPLE(?s) AS ?sample) (COUNT(1) AS ?n) (?Concept AS ?entityType) \n",
    "WHERE {\n",
    "\n",
    "    ?s a ?Concept .\n",
    "    FILTER(isIri(?s)) .\n",
    "}\n",
    "GROUP BY ?Concept\n",
    "ORDER BY DESC(?n)\n",
    "LIMIT 50"
   ]
  },
  {
   "cell_type": "markdown",
   "metadata": {},
   "source": [
    "### 2.1.4 Get all classes/concepts with a given prefix/namespace"
   ]
  },
  {
   "cell_type": "markdown",
   "metadata": {},
   "source": [
    "#### Explanation\n",
    "\n",
    "see also: https://codyburleson.com/sparql-examples-select/ \n",
    "\n",
    "`FILTER( STRSTARTS(STR(?Concept),str(owl:)) )`       = filter out only those solutions for the variable `?Concept`  that start with the given string `owl:` (try to replace with `foaf:`, `rdfs:`, `mo:` or others)"
   ]
  },
  {
   "cell_type": "code",
   "execution_count": null,
   "metadata": {},
   "outputs": [],
   "source": [
    "PREFIX doremus: <http://data.doremus.org/ontology#>\n",
    "PREFIX ecrm: <http://erlangen-crm.org/current/>\n",
    "PREFIX foaf: <http://xmlns.com/foaf/0.1/>\n",
    "PREFIX mo: <http://purl.org/ontology/mo/>\n",
    "PREFIX owl: <http://www.w3.org/2002/07/owl#>\n",
    "PREFIX prov: <http://www.w3.org/ns/prov#>\n",
    "PREFIX rdf: <http://www.w3.org/1999/02/22-rdf-syntax-ns#>\n",
    "PREFIX rdfs: <http://www.w3.org/2000/01/rdf-schema#>\n",
    "\n",
    "\n",
    "SELECT DISTINCT ?Concept\n",
    "WHERE {\n",
    "    \n",
    "     [] a ?Concept .\n",
    "     FILTER( STRSTARTS(STR(?Concept),str(owl:)) )\n",
    "    \n",
    "}\n",
    "LIMIT 50"
   ]
  },
  {
   "cell_type": "markdown",
   "metadata": {},
   "source": [
    "### 2.1.5 Get and count the namespaces of all classes/concepts used in the dataset"
   ]
  },
  {
   "cell_type": "markdown",
   "metadata": {},
   "source": [
    "#### Explanation\n",
    "\n",
    "see also: https://stackoverflow.com/a/20054523\n",
    "\n",
    "`COUNT (DISTINCT ?Concept)` = count only distinct values bound to variable `?Concept`, i.e. make sure all occurences of classes/concepts are counted only once\n",
    "\n",
    "`REPLACE(str(?Concept), \"(#|/)[^#/]*$\", \"$1\")` = REGEX expression that is used to remove the individual class name from the namespaces bound to `?Concept`\n",
    "\n",
    "`BIND(… AS ?ns)` = binds the result of the regex replacement to the variable `?ns`"
   ]
  },
  {
   "cell_type": "code",
   "execution_count": null,
   "metadata": {},
   "outputs": [],
   "source": [
    "SELECT ?ns (COUNT (DISTINCT ?Concept) AS ?nsCount)\n",
    "WHERE   \n",
    "{ \n",
    "   [] a ?Concept .\n",
    "   BIND(REPLACE(str(?Concept), \"(#|/)[^#/]*$\", \"$1\") AS ?ns)\n",
    " \n",
    "}\n",
    "ORDER BY DESC(?nsCount)\n",
    "LIMIT 50"
   ]
  },
  {
   "cell_type": "markdown",
   "metadata": {},
   "source": [
    "##  2.2 Exploring an unknown dataset – Properties"
   ]
  },
  {
   "cell_type": "markdown",
   "metadata": {},
   "source": [
    "### 2.2.0 Get all properties used in the dataset"
   ]
  },
  {
   "cell_type": "markdown",
   "metadata": {},
   "source": [
    "#### Explanation\n",
    "\n",
    "see above for classes/concepts"
   ]
  },
  {
   "cell_type": "code",
   "execution_count": null,
   "metadata": {},
   "outputs": [],
   "source": [
    "SELECT DISTINCT ?p\n",
    "WHERE   \n",
    "{ \n",
    "   \n",
    "    ?s ?p ?o .\n",
    " \n",
    "}\n",
    "ORDER BY ?p\n",
    "LIMIT 50"
   ]
  },
  {
   "cell_type": "markdown",
   "metadata": {},
   "source": [
    "### 2.2.1 Get total number of properties used in the dataset"
   ]
  },
  {
   "cell_type": "markdown",
   "metadata": {},
   "source": [
    "#### Explanation\n",
    "\n",
    "`(COUNT(DISTINCT ?p)`= count number of distinct values bound to variable `?p`"
   ]
  },
  {
   "cell_type": "code",
   "execution_count": null,
   "metadata": {},
   "outputs": [],
   "source": [
    "SELECT (COUNT(DISTINCT ?p) as ?pCount)\n",
    "WHERE   \n",
    "{ \n",
    "   \n",
    "    ?s ?p ?o .\n",
    " \n",
    "}\n",
    "LIMIT 50"
   ]
  },
  {
   "cell_type": "markdown",
   "metadata": {},
   "source": [
    "### 2.2.2 Get properties with a given prefix/namespace"
   ]
  },
  {
   "cell_type": "markdown",
   "metadata": {},
   "source": [
    "#### Explanation\n",
    "\n",
    "see above for classes/concepts\n",
    "\n",
    " `FILTER( STRSTARTS(STR(?Concept),str(owl:)) )`       = filter out only those solutions for the variable `?Concept`  that start with the given string `owl:` (try to replace with `foaf:`, `rdfs:`, or `mo:`)"
   ]
  },
  {
   "cell_type": "code",
   "execution_count": null,
   "metadata": {},
   "outputs": [],
   "source": [
    "PREFIX foaf: <http://xmlns.com/foaf/0.1/>\n",
    "PREFIX mo: <http://purl.org/ontology/mo/>\n",
    "PREFIX owl: <http://www.w3.org/2002/07/owl#>\n",
    "PREFIX rdf: <http://www.w3.org/1999/02/22-rdf-syntax-ns#>\n",
    "PREFIX rdfs: <http://www.w3.org/2000/01/rdf-schema#>\n",
    "\n",
    "\n",
    "SELECT DISTINCT ?p\n",
    "WHERE {\n",
    "    \n",
    "     ?s ?p ?o .\n",
    "     FILTER( STRSTARTS(STR(?p),str(owl:)) )\n",
    "    \n",
    "}\n",
    "LIMIT 50"
   ]
  },
  {
   "cell_type": "markdown",
   "metadata": {},
   "source": [
    " "
   ]
  },
  {
   "cell_type": "markdown",
   "metadata": {},
   "source": [
    "### 2.2.3 Get and count the namespaces of all properties used in the dataset"
   ]
  },
  {
   "cell_type": "markdown",
   "metadata": {},
   "source": [
    "#### Explanation\n",
    "\n",
    "see also: https://stackoverflow.com/a/20054523\n",
    "\n",
    "`COUNT (DISTINCT ?Concept)` = count only distinct values bound to variable `?Concept`, i.e. make sure all occurences of classes/concepts are counted only once\n",
    "\n",
    "`REPLACE(str(?Concept), \"(#|/)[^#/]*$\", \"$1\")` = REGEX expression that is used to remove the individual class name from the namespaces bound to `?Concept`\n",
    "\n",
    "`BIND(… AS ?ns)` = binds the result of the regex replacement to the variable `?ns`"
   ]
  },
  {
   "cell_type": "code",
   "execution_count": null,
   "metadata": {},
   "outputs": [],
   "source": [
    "SELECT ?ns (COUNT (DISTINCT ?p) AS ?nsCount)\n",
    "WHERE   \n",
    "{ \n",
    "   ?s ?p ?o .\n",
    "   BIND(REPLACE(str(?p), \"(#|/)[^#/]*$\", \"$1\") AS ?ns)\n",
    " \n",
    "}\n",
    "ORDER BY DESC(?nsCount)\n",
    "LIMIT 50"
   ]
  },
  {
   "cell_type": "markdown",
   "metadata": {},
   "source": [
    " "
   ]
  },
  {
   "cell_type": "markdown",
   "metadata": {},
   "source": [
    "## 2.3 Exploring a certain class/concept"
   ]
  },
  {
   "cell_type": "markdown",
   "metadata": {},
   "source": [
    "### 2.3.0 Find all persons of the dataset\n"
   ]
  },
  {
   "cell_type": "markdown",
   "metadata": {},
   "source": [
    "Given there are any persons in the dataset at all, make sure that you use the correct entity type when you search for persons. For an overview of the entity types that are used in the dataset see 2.1.2.\n",
    "\n",
    "#### Explanation:\n",
    "\n",
    "`PREFIX foaf: <http://xmlns.com/foaf/0.1/>` = shortcut prefix for the [FOAF](http://xmlns.com/foaf/spec/) vocabulary and namespace\n",
    "\n",
    "`SELECT DISTINCT ?person` = return all unique values bound in the variable `?person` as results\n",
    "\n",
    "`foaf:Person`        = concept of Person from the [FOAF](http://xmlns.com/foaf/spec/) vocabulary (replace with the corresponding Person concept according to your dataset)"
   ]
  },
  {
   "cell_type": "code",
   "execution_count": null,
   "metadata": {},
   "outputs": [],
   "source": [
    "PREFIX foaf: <http://xmlns.com/foaf/0.1/>\n",
    "\n",
    "SELECT DISTINCT ?person \n",
    "WHERE {\n",
    "    \n",
    "    ?person a foaf:Person .\n",
    "} \n",
    "LIMIT 50"
   ]
  },
  {
   "cell_type": "markdown",
   "metadata": {},
   "source": [
    "### 2.3.1 Count all persons in the dataset"
   ]
  },
  {
   "cell_type": "markdown",
   "metadata": {},
   "source": [
    "Given there are any persons in the dataset at all, make sure that you use the correct entity type when you search for persons. For an overview of the entity types that are used in the dataset see 2.1.2.\n",
    "\n",
    "#### Explanation:\n",
    "\n",
    "see 2.1.1\n",
    "\n",
    "`BIND(foaf:Person as ?personConcept )` = bind `foaf:Person` to the variable `?personConcept`"
   ]
  },
  {
   "cell_type": "code",
   "execution_count": null,
   "metadata": {},
   "outputs": [],
   "source": [
    "PREFIX foaf: <http://xmlns.com/foaf/0.1/>\n",
    "\n",
    "SELECT  ?personConcept (COUNT(?person) AS ?personCount)\n",
    "WHERE {\n",
    "    \n",
    "        ?person a foaf:Person .\n",
    "        BIND(foaf:Person as ?personConcept )\n",
    "}\n",
    "GROUP BY ?personConcept\n",
    "ORDER BY DESC (?personCount)\n",
    "LIMIT 50"
   ]
  },
  {
   "cell_type": "markdown",
   "metadata": {},
   "source": [
    "### 2.3.2 Find all properties assigned to the Person concept (as subject) in the dataset"
   ]
  },
  {
   "cell_type": "markdown",
   "metadata": {},
   "source": [
    "Given there are any persons in the dataset at all, make sure that you use the correct entity type when you search for persons. For an overview of the entity types that are used in the dataset see 2.1.2.\n",
    "\n",
    "#### Explanation:\n",
    "\n",
    "`?p` = random variable name for any URI that matches the given pattern in the predicate position of a triple"
   ]
  },
  {
   "cell_type": "code",
   "execution_count": null,
   "metadata": {},
   "outputs": [],
   "source": [
    "PREFIX foaf: <http://xmlns.com/foaf/0.1/>\n",
    "\n",
    "SELECT DISTINCT ?p\n",
    "WHERE {\n",
    "    \n",
    "        ?person a foaf:Person .\n",
    "        ?person ?p ?o .\n",
    "\n",
    "}\n",
    "ORDER BY ?p\n",
    "LIMIT 50"
   ]
  },
  {
   "cell_type": "markdown",
   "metadata": {},
   "source": [
    "### 2.3.3 Find and count all properties assigned to the Person concept (as subject) in the dataset"
   ]
  },
  {
   "cell_type": "markdown",
   "metadata": {},
   "source": [
    "Given there are any persons in the dataset at all, make sure that you use the correct entity type when you search for persons. For an overview of the entity types that are used in the dataset see 2.1.2.\n",
    "\n",
    "#### Explanation:\n",
    "\n",
    "`?p` = random variable name for any URI that matches the given pattern in the predicate position of a triple"
   ]
  },
  {
   "cell_type": "code",
   "execution_count": null,
   "metadata": {},
   "outputs": [],
   "source": [
    "PREFIX foaf: <http://xmlns.com/foaf/0.1/>\n",
    "\n",
    "SELECT ?p (COUNT(?p) AS ?pCount) \n",
    "WHERE\n",
    "{\n",
    "      ?person a foaf:Person .\n",
    "      ?person ?p ?o .\n",
    "}\n",
    "GROUP BY ?p\n",
    "ORDER BY DESC (?pCount)\n",
    "LIMIT 50\n"
   ]
  },
  {
   "cell_type": "markdown",
   "metadata": {},
   "source": [
    "### 2.3.4 Find and count all properties assigned to the Person concept (as object) in the dataset"
   ]
  },
  {
   "cell_type": "markdown",
   "metadata": {},
   "source": [
    "Given there are any persons in the dataset at all, make sure that you use the correct entity type when you search for persons. For an overview of the entity types that are used in the dataset see 2.1.2.\n",
    "\n",
    "#### Explanation:\n",
    "\n",
    "see 2.2.3"
   ]
  },
  {
   "cell_type": "code",
   "execution_count": null,
   "metadata": {},
   "outputs": [],
   "source": [
    "PREFIX foaf: <http://xmlns.com/foaf/0.1/>\n",
    "\n",
    "SELECT DISTINCT ?p (COUNT(?p) AS ?pCount)\n",
    "WHERE {\n",
    "    \n",
    "        ?person a foaf:Person .\n",
    "        ?s ?p ?person .\n",
    "        \n",
    "}\n",
    "GROUP BY ?p\n",
    "ORDER BY DESC(?pCount)\n",
    "LIMIT 50"
   ]
  },
  {
   "cell_type": "markdown",
   "metadata": {},
   "source": [
    "### 2.3.5 Find and count all properties assigned to the Person concept (as subject & object) in the dataset"
   ]
  },
  {
   "cell_type": "markdown",
   "metadata": {},
   "source": [
    "The same query merging the two columns into one thus merging properties that are available for Persons in the position of subject and object.\n",
    "\n",
    "#### Explanation:\n",
    "\n",
    "`{…} UNION {…}` = keyword to form a disjunction of two graph patterns in terms of a logical OR; solutions to both sides of the UNION are included in the results."
   ]
  },
  {
   "cell_type": "code",
   "execution_count": null,
   "metadata": {},
   "outputs": [],
   "source": [
    "PREFIX foaf: <http://xmlns.com/foaf/0.1/>\n",
    "\n",
    "SELECT DISTINCT ?p (COUNT(?p) AS ?pCount)\n",
    "WHERE\n",
    "{\n",
    "        ?person a foaf:Person .\n",
    "        { ?person ?p [] . }\n",
    "        UNION\n",
    "        { [] ?p ?person . }\n",
    "}\n",
    "GROUP BY ?p\n",
    "ORDER BY DESC (?pCount)\n",
    "LIMIT 50"
   ]
  },
  {
   "cell_type": "markdown",
   "metadata": {},
   "source": [
    "Of which type are possible subjects and objects of a property? And what does a sample look like?"
   ]
  },
  {
   "cell_type": "code",
   "execution_count": null,
   "metadata": {},
   "outputs": [],
   "source": [
    "PREFIX mo: <http://purl.org/ontology/mo/>\n",
    "\n",
    "SELECT (SAMPLE(?s) AS ?perfomance) ?sType (COUNT(?s) AS ?pCount) ?oType (SAMPLE(?o) AS ?performer)\n",
    "WHERE\n",
    "{\n",
    "    \n",
    "      ?s mo:performer ?o .  # replace with a property that is in your dataset\n",
    "      ?s a ?sType .\n",
    "      ?o a ?oType .\n",
    "\n",
    "}\n",
    "GROUP BY ?sType ?oType\n",
    "ORDER BY DESC (?pCount)\n",
    "LIMIT 50"
   ]
  },
  {
   "cell_type": "markdown",
   "metadata": {},
   "source": [
    "## Congratulations!"
   ]
  },
  {
   "cell_type": "markdown",
   "metadata": {},
   "source": [
    "You made it through that Jupyter notebook. You should now have a basic idea of how to explore unknown/undocumented records with SPARQL. Feel free to examine another endpoint of your choice and play around with the classes/properties to your liking. "
   ]
  },
  {
   "cell_type": "markdown",
   "metadata": {},
   "source": [
    "Enjoy and keep SPARQLing :)  "
   ]
  }
 ],
 "metadata": {
  "kernelspec": {
   "display_name": "SPARQL",
   "language": "sparql",
   "name": "sparql"
  },
  "language_info": {
   "codemirror_mode": {
    "name": "sparql"
   },
   "mimetype": "application/sparql-query",
   "name": "sparql",
   "pygments_lexer": "sparql-nb"
  }
 },
 "nbformat": 4,
 "nbformat_minor": 2
}
